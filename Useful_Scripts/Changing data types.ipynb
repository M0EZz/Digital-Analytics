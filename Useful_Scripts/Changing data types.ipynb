{
 "cells": [
  {
   "cell_type": "markdown",
   "id": "hydraulic-increase",
   "metadata": {},
   "source": [
    "## Transforming column type"
   ]
  },
  {
   "cell_type": "code",
   "execution_count": 1,
   "id": "brazilian-millennium",
   "metadata": {},
   "outputs": [],
   "source": [
    "import pandas as pd"
   ]
  },
  {
   "cell_type": "code",
   "execution_count": 2,
   "id": "geological-animation",
   "metadata": {},
   "outputs": [],
   "source": [
    "videos = pd.read_csv('videolist_search500_2021_09_16-08_37_30.tab', sep='\\t')"
   ]
  },
  {
   "cell_type": "code",
   "execution_count": 3,
   "id": "encouraging-family",
   "metadata": {},
   "outputs": [
    {
     "data": {
      "text/html": [
       "<div>\n",
       "<style scoped>\n",
       "    .dataframe tbody tr th:only-of-type {\n",
       "        vertical-align: middle;\n",
       "    }\n",
       "\n",
       "    .dataframe tbody tr th {\n",
       "        vertical-align: top;\n",
       "    }\n",
       "\n",
       "    .dataframe thead th {\n",
       "        text-align: right;\n",
       "    }\n",
       "</style>\n",
       "<table border=\"1\" class=\"dataframe\">\n",
       "  <thead>\n",
       "    <tr style=\"text-align: right;\">\n",
       "      <th></th>\n",
       "      <th>position</th>\n",
       "      <th>channelId</th>\n",
       "      <th>channelTitle</th>\n",
       "      <th>videoId</th>\n",
       "      <th>publishedAt</th>\n",
       "      <th>publishedAtSQL</th>\n",
       "      <th>videoTitle</th>\n",
       "      <th>videoDescription</th>\n",
       "      <th>tags</th>\n",
       "      <th>videoCategoryId</th>\n",
       "      <th>...</th>\n",
       "      <th>dimension</th>\n",
       "      <th>definition</th>\n",
       "      <th>caption</th>\n",
       "      <th>thumbnail_maxres</th>\n",
       "      <th>licensedContent</th>\n",
       "      <th>viewCount</th>\n",
       "      <th>likeCount</th>\n",
       "      <th>dislikeCount</th>\n",
       "      <th>favoriteCount</th>\n",
       "      <th>commentCount</th>\n",
       "    </tr>\n",
       "  </thead>\n",
       "  <tbody>\n",
       "    <tr>\n",
       "      <th>0</th>\n",
       "      <td>1</td>\n",
       "      <td>UC18vz5hUUqxbGvym9ghtX_w</td>\n",
       "      <td>Full Frontal with Samantha Bee</td>\n",
       "      <td>xkgt1Avnvw0</td>\n",
       "      <td>2021-09-16T05:59:45Z</td>\n",
       "      <td>2021-09-16 05:59:45</td>\n",
       "      <td>Vivian Howard: The Perfect Recipe for Combatin...</td>\n",
       "      <td>Apocalyptic climate crisis got you down? Allow...</td>\n",
       "      <td>Full Frontal with Samantha Bee,Full Frontal,Sa...</td>\n",
       "      <td>24</td>\n",
       "      <td>...</td>\n",
       "      <td>2d</td>\n",
       "      <td>hd</td>\n",
       "      <td>False</td>\n",
       "      <td>https://i.ytimg.com/vi/xkgt1Avnvw0/maxresdefau...</td>\n",
       "      <td>1.0</td>\n",
       "      <td>796.0</td>\n",
       "      <td>88.0</td>\n",
       "      <td>2.0</td>\n",
       "      <td>0</td>\n",
       "      <td>9.0</td>\n",
       "    </tr>\n",
       "    <tr>\n",
       "      <th>1</th>\n",
       "      <td>2</td>\n",
       "      <td>UCJ6DCjlsOB8dwCrDbOLia6g</td>\n",
       "      <td>Info Viral</td>\n",
       "      <td>Sf-klthGrqA</td>\n",
       "      <td>2021-09-16T06:00:06Z</td>\n",
       "      <td>2021-09-16 06:00:06</td>\n",
       "      <td>Global climate change!Cameroon under the snow,...</td>\n",
       "      <td>#GlobalClimateChange #CameroonUnderTheSnow #Sn...</td>\n",
       "      <td>snow,snow fall,snow falling,snow fall in Camer...</td>\n",
       "      <td>26</td>\n",
       "      <td>...</td>\n",
       "      <td>2d</td>\n",
       "      <td>hd</td>\n",
       "      <td>False</td>\n",
       "      <td>NaN</td>\n",
       "      <td>1.0</td>\n",
       "      <td>2.0</td>\n",
       "      <td>0.0</td>\n",
       "      <td>0.0</td>\n",
       "      <td>0</td>\n",
       "      <td>0.0</td>\n",
       "    </tr>\n",
       "    <tr>\n",
       "      <th>2</th>\n",
       "      <td>3</td>\n",
       "      <td>UC18vz5hUUqxbGvym9ghtX_w</td>\n",
       "      <td>Full Frontal with Samantha Bee</td>\n",
       "      <td>4Z0O1lJBU7g</td>\n",
       "      <td>2021-09-16T05:59:46Z</td>\n",
       "      <td>2021-09-16 05:59:46</td>\n",
       "      <td>Food Waste and Climate Change: How Your Leftov...</td>\n",
       "      <td>The recent devastating climate report left man...</td>\n",
       "      <td>Full Frontal with Samantha Bee,Full Frontal,Sa...</td>\n",
       "      <td>24</td>\n",
       "      <td>...</td>\n",
       "      <td>2d</td>\n",
       "      <td>hd</td>\n",
       "      <td>False</td>\n",
       "      <td>https://i.ytimg.com/vi/4Z0O1lJBU7g/maxresdefau...</td>\n",
       "      <td>1.0</td>\n",
       "      <td>1735.0</td>\n",
       "      <td>152.0</td>\n",
       "      <td>5.0</td>\n",
       "      <td>0</td>\n",
       "      <td>22.0</td>\n",
       "    </tr>\n",
       "    <tr>\n",
       "      <th>3</th>\n",
       "      <td>4</td>\n",
       "      <td>UCEfvFsy9qbzeKyASsDs0V-w</td>\n",
       "      <td>KJ Singh</td>\n",
       "      <td>KWoI9jTHHlk</td>\n",
       "      <td>2021-09-16T05:38:04Z</td>\n",
       "      <td>2021-09-16 05:38:04</td>\n",
       "      <td>Climate Change in Australia and Brexit #downun...</td>\n",
       "      <td>NaN</td>\n",
       "      <td>NaN</td>\n",
       "      <td>22</td>\n",
       "      <td>...</td>\n",
       "      <td>2d</td>\n",
       "      <td>hd</td>\n",
       "      <td>False</td>\n",
       "      <td>https://i.ytimg.com/vi/KWoI9jTHHlk/maxresdefau...</td>\n",
       "      <td>NaN</td>\n",
       "      <td>0.0</td>\n",
       "      <td>0.0</td>\n",
       "      <td>0.0</td>\n",
       "      <td>0</td>\n",
       "      <td>0.0</td>\n",
       "    </tr>\n",
       "    <tr>\n",
       "      <th>4</th>\n",
       "      <td>5</td>\n",
       "      <td>UC7pluR6rB5KZIbN2IxamzxQ</td>\n",
       "      <td>BBC News Marathi</td>\n",
       "      <td>32y2dG2tLOg</td>\n",
       "      <td>2021-09-16T04:58:32Z</td>\n",
       "      <td>2021-09-16 04:58:32</td>\n",
       "      <td>Climate Change : 50c सेल्शिअस तापमानाच्या ठिका...</td>\n",
       "      <td>#ClimateChange #Temperature #Heat नायजेरिया दे...</td>\n",
       "      <td>Global Warming,Warming,Hottest place in world,...</td>\n",
       "      <td>25</td>\n",
       "      <td>...</td>\n",
       "      <td>2d</td>\n",
       "      <td>hd</td>\n",
       "      <td>False</td>\n",
       "      <td>NaN</td>\n",
       "      <td>1.0</td>\n",
       "      <td>5442.0</td>\n",
       "      <td>81.0</td>\n",
       "      <td>3.0</td>\n",
       "      <td>0</td>\n",
       "      <td>5.0</td>\n",
       "    </tr>\n",
       "  </tbody>\n",
       "</table>\n",
       "<p>5 rows × 23 columns</p>\n",
       "</div>"
      ],
      "text/plain": [
       "   position                 channelId                    channelTitle  \\\n",
       "0         1  UC18vz5hUUqxbGvym9ghtX_w  Full Frontal with Samantha Bee   \n",
       "1         2  UCJ6DCjlsOB8dwCrDbOLia6g                      Info Viral   \n",
       "2         3  UC18vz5hUUqxbGvym9ghtX_w  Full Frontal with Samantha Bee   \n",
       "3         4  UCEfvFsy9qbzeKyASsDs0V-w                        KJ Singh   \n",
       "4         5  UC7pluR6rB5KZIbN2IxamzxQ                BBC News Marathi   \n",
       "\n",
       "       videoId           publishedAt       publishedAtSQL  \\\n",
       "0  xkgt1Avnvw0  2021-09-16T05:59:45Z  2021-09-16 05:59:45   \n",
       "1  Sf-klthGrqA  2021-09-16T06:00:06Z  2021-09-16 06:00:06   \n",
       "2  4Z0O1lJBU7g  2021-09-16T05:59:46Z  2021-09-16 05:59:46   \n",
       "3  KWoI9jTHHlk  2021-09-16T05:38:04Z  2021-09-16 05:38:04   \n",
       "4  32y2dG2tLOg  2021-09-16T04:58:32Z  2021-09-16 04:58:32   \n",
       "\n",
       "                                          videoTitle  \\\n",
       "0  Vivian Howard: The Perfect Recipe for Combatin...   \n",
       "1  Global climate change!Cameroon under the snow,...   \n",
       "2  Food Waste and Climate Change: How Your Leftov...   \n",
       "3  Climate Change in Australia and Brexit #downun...   \n",
       "4  Climate Change : 50c सेल्शिअस तापमानाच्या ठिका...   \n",
       "\n",
       "                                    videoDescription  \\\n",
       "0  Apocalyptic climate crisis got you down? Allow...   \n",
       "1  #GlobalClimateChange #CameroonUnderTheSnow #Sn...   \n",
       "2  The recent devastating climate report left man...   \n",
       "3                                                NaN   \n",
       "4  #ClimateChange #Temperature #Heat नायजेरिया दे...   \n",
       "\n",
       "                                                tags  videoCategoryId  ...  \\\n",
       "0  Full Frontal with Samantha Bee,Full Frontal,Sa...               24  ...   \n",
       "1  snow,snow fall,snow falling,snow fall in Camer...               26  ...   \n",
       "2  Full Frontal with Samantha Bee,Full Frontal,Sa...               24  ...   \n",
       "3                                                NaN               22  ...   \n",
       "4  Global Warming,Warming,Hottest place in world,...               25  ...   \n",
       "\n",
       "  dimension definition  caption  \\\n",
       "0        2d         hd    False   \n",
       "1        2d         hd    False   \n",
       "2        2d         hd    False   \n",
       "3        2d         hd    False   \n",
       "4        2d         hd    False   \n",
       "\n",
       "                                    thumbnail_maxres licensedContent  \\\n",
       "0  https://i.ytimg.com/vi/xkgt1Avnvw0/maxresdefau...             1.0   \n",
       "1                                                NaN             1.0   \n",
       "2  https://i.ytimg.com/vi/4Z0O1lJBU7g/maxresdefau...             1.0   \n",
       "3  https://i.ytimg.com/vi/KWoI9jTHHlk/maxresdefau...             NaN   \n",
       "4                                                NaN             1.0   \n",
       "\n",
       "   viewCount likeCount  dislikeCount  favoriteCount  commentCount  \n",
       "0      796.0      88.0           2.0              0           9.0  \n",
       "1        2.0       0.0           0.0              0           0.0  \n",
       "2     1735.0     152.0           5.0              0          22.0  \n",
       "3        0.0       0.0           0.0              0           0.0  \n",
       "4     5442.0      81.0           3.0              0           5.0  \n",
       "\n",
       "[5 rows x 23 columns]"
      ]
     },
     "execution_count": 3,
     "metadata": {},
     "output_type": "execute_result"
    }
   ],
   "source": [
    "videos.head()"
   ]
  },
  {
   "cell_type": "code",
   "execution_count": 4,
   "id": "missing-meter",
   "metadata": {},
   "outputs": [
    {
     "data": {
      "text/plain": [
       "Index(['position', 'channelId', 'channelTitle', 'videoId', 'publishedAt',\n",
       "       'publishedAtSQL', 'videoTitle', 'videoDescription', 'tags',\n",
       "       'videoCategoryId', 'videoCategoryLabel', 'duration', 'durationSec',\n",
       "       'dimension', 'definition', 'caption', 'thumbnail_maxres',\n",
       "       'licensedContent', 'viewCount', 'likeCount', 'dislikeCount',\n",
       "       'favoriteCount', 'commentCount'],\n",
       "      dtype='object')"
      ]
     },
     "execution_count": 4,
     "metadata": {},
     "output_type": "execute_result"
    }
   ],
   "source": [
    "videos.columns"
   ]
  },
  {
   "cell_type": "code",
   "execution_count": 5,
   "id": "outer-tomato",
   "metadata": {},
   "outputs": [
    {
     "data": {
      "text/plain": [
       "position                int64\n",
       "channelId              object\n",
       "channelTitle           object\n",
       "videoId                object\n",
       "publishedAt            object\n",
       "publishedAtSQL         object\n",
       "videoTitle             object\n",
       "videoDescription       object\n",
       "tags                   object\n",
       "videoCategoryId         int64\n",
       "videoCategoryLabel     object\n",
       "duration               object\n",
       "durationSec             int64\n",
       "dimension              object\n",
       "definition             object\n",
       "caption                  bool\n",
       "thumbnail_maxres       object\n",
       "licensedContent       float64\n",
       "viewCount             float64\n",
       "likeCount             float64\n",
       "dislikeCount          float64\n",
       "favoriteCount           int64\n",
       "commentCount          float64\n",
       "dtype: object"
      ]
     },
     "execution_count": 5,
     "metadata": {},
     "output_type": "execute_result"
    }
   ],
   "source": [
    "videos.dtypes"
   ]
  },
  {
   "cell_type": "code",
   "execution_count": 6,
   "id": "caroline-curtis",
   "metadata": {},
   "outputs": [],
   "source": [
    "sentiment = pd.read_pickle('JoannaStrycharz_YouTubeClimateChange_EN_completed.pkl')"
   ]
  },
  {
   "cell_type": "code",
   "execution_count": 7,
   "id": "usual-washer",
   "metadata": {},
   "outputs": [
    {
     "data": {
      "text/html": [
       "<div>\n",
       "<style scoped>\n",
       "    .dataframe tbody tr th:only-of-type {\n",
       "        vertical-align: middle;\n",
       "    }\n",
       "\n",
       "    .dataframe tbody tr th {\n",
       "        vertical-align: top;\n",
       "    }\n",
       "\n",
       "    .dataframe thead th {\n",
       "        text-align: right;\n",
       "    }\n",
       "</style>\n",
       "<table border=\"1\" class=\"dataframe\">\n",
       "  <thead>\n",
       "    <tr style=\"text-align: right;\">\n",
       "      <th></th>\n",
       "      <th>videoId</th>\n",
       "      <th>negative</th>\n",
       "      <th>positive</th>\n",
       "      <th>neutral</th>\n",
       "    </tr>\n",
       "  </thead>\n",
       "  <tbody>\n",
       "    <tr>\n",
       "      <th>0</th>\n",
       "      <td>xkgt1Avnvw0</td>\n",
       "      <td>-1</td>\n",
       "      <td>1</td>\n",
       "      <td>0</td>\n",
       "    </tr>\n",
       "    <tr>\n",
       "      <th>1</th>\n",
       "      <td>Sf-klthGrqA</td>\n",
       "      <td>-1</td>\n",
       "      <td>2</td>\n",
       "      <td>1</td>\n",
       "    </tr>\n",
       "    <tr>\n",
       "      <th>2</th>\n",
       "      <td>4Z0O1lJBU7g</td>\n",
       "      <td>-1</td>\n",
       "      <td>1</td>\n",
       "      <td>0</td>\n",
       "    </tr>\n",
       "    <tr>\n",
       "      <th>3</th>\n",
       "      <td>KWoI9jTHHlk</td>\n",
       "      <td>-1</td>\n",
       "      <td>1</td>\n",
       "      <td>0</td>\n",
       "    </tr>\n",
       "    <tr>\n",
       "      <th>4</th>\n",
       "      <td>32y2dG2tLOg</td>\n",
       "      <td>-1</td>\n",
       "      <td>1</td>\n",
       "      <td>0</td>\n",
       "    </tr>\n",
       "  </tbody>\n",
       "</table>\n",
       "</div>"
      ],
      "text/plain": [
       "       videoId negative positive neutral\n",
       "0  xkgt1Avnvw0       -1        1       0\n",
       "1  Sf-klthGrqA       -1        2       1\n",
       "2  4Z0O1lJBU7g       -1        1       0\n",
       "3  KWoI9jTHHlk       -1        1       0\n",
       "4  32y2dG2tLOg       -1        1       0"
      ]
     },
     "execution_count": 7,
     "metadata": {},
     "output_type": "execute_result"
    }
   ],
   "source": [
    "sentiment.head()"
   ]
  },
  {
   "cell_type": "code",
   "execution_count": 8,
   "id": "inclusive-recall",
   "metadata": {},
   "outputs": [
    {
     "data": {
      "text/plain": [
       "Index(['videoId', 'negative', 'positive', 'neutral'], dtype='object')"
      ]
     },
     "execution_count": 8,
     "metadata": {},
     "output_type": "execute_result"
    }
   ],
   "source": [
    "sentiment.columns"
   ]
  },
  {
   "cell_type": "code",
   "execution_count": 9,
   "id": "european-honor",
   "metadata": {},
   "outputs": [
    {
     "data": {
      "text/plain": [
       "videoId     object\n",
       "negative    object\n",
       "positive    object\n",
       "neutral     object\n",
       "dtype: object"
      ]
     },
     "execution_count": 9,
     "metadata": {},
     "output_type": "execute_result"
    }
   ],
   "source": [
    "sentiment.dtypes"
   ]
  },
  {
   "cell_type": "markdown",
   "id": "beautiful-warner",
   "metadata": {},
   "source": [
    "When we want to merge two dataframes we need to make sure that the key variable we are merging on is identical in both dataframes. This means it needs to:\n",
    "* have the same column name in both dataframes\n",
    "* have the same data type in both dataframes.\n",
    "\n",
    "In this case, we are all right, but in other cases you may need to change the data type. Let's have a look how to do it for a selected column."
   ]
  },
  {
   "cell_type": "markdown",
   "id": "suffering-analyst",
   "metadata": {},
   "source": [
    "### Changing data type"
   ]
  },
  {
   "cell_type": "markdown",
   "id": "sporting-explosion",
   "metadata": {},
   "source": [
    "There are different ways to change data type for a selected column. \n",
    "\n",
    "First, you can use the .apply method we have used in the tutorial."
   ]
  },
  {
   "cell_type": "code",
   "execution_count": 10,
   "id": "moved-copper",
   "metadata": {},
   "outputs": [],
   "source": [
    "sentiment['positive'] = sentiment['positive'].apply(pd.to_numeric)"
   ]
  },
  {
   "cell_type": "code",
   "execution_count": 13,
   "id": "static-finnish",
   "metadata": {},
   "outputs": [
    {
     "data": {
      "text/plain": [
       "videoId     object\n",
       "negative     int64\n",
       "positive     int64\n",
       "neutral     object\n",
       "dtype: object"
      ]
     },
     "execution_count": 13,
     "metadata": {},
     "output_type": "execute_result"
    }
   ],
   "source": [
    "sentiment.dtypes"
   ]
  },
  {
   "cell_type": "markdown",
   "id": "amber-integer",
   "metadata": {},
   "source": [
    "Another way to do it is to use the .astype method."
   ]
  },
  {
   "cell_type": "code",
   "execution_count": 12,
   "id": "native-sellers",
   "metadata": {},
   "outputs": [],
   "source": [
    "sentiment['negative'] = sentiment['negative'].astype(\"int64\")"
   ]
  },
  {
   "cell_type": "code",
   "execution_count": 14,
   "id": "contemporary-friend",
   "metadata": {},
   "outputs": [],
   "source": [
    "sentiment['negative'] = sentiment['negative'].astype(\"string\")"
   ]
  },
  {
   "cell_type": "code",
   "execution_count": 15,
   "id": "returning-citation",
   "metadata": {},
   "outputs": [
    {
     "data": {
      "text/plain": [
       "videoId     object\n",
       "negative    string\n",
       "positive     int64\n",
       "neutral     object\n",
       "dtype: object"
      ]
     },
     "execution_count": 15,
     "metadata": {},
     "output_type": "execute_result"
    }
   ],
   "source": [
    "sentiment.dtypes"
   ]
  },
  {
   "cell_type": "code",
   "execution_count": null,
   "id": "confused-singapore",
   "metadata": {},
   "outputs": [],
   "source": []
  }
 ],
 "metadata": {
  "kernelspec": {
   "display_name": "Python 3",
   "language": "python",
   "name": "python3"
  },
  "language_info": {
   "codemirror_mode": {
    "name": "ipython",
    "version": 3
   },
   "file_extension": ".py",
   "mimetype": "text/x-python",
   "name": "python",
   "nbconvert_exporter": "python",
   "pygments_lexer": "ipython3",
   "version": "3.9.1"
  }
 },
 "nbformat": 4,
 "nbformat_minor": 5
}
