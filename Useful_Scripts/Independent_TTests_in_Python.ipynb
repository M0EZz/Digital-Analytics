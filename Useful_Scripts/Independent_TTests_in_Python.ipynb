{
 "cells": [
  {
   "cell_type": "markdown",
   "metadata": {},
   "source": [
    "# Additional information: Independent Sample T-Tests and ANOVA in Python\n",
    "\n",
    "This extra notebook shows how you can do t-test and ANOVA tests in Python (should you not want to use SPSS). The assumption is that you have a continuous dependent variable. Please keep in mind it's absolutely OK to use SPSS for this.\n",
    "\n",
    "Here we will be using a dataset from Challenge 5."
   ]
  },
  {
   "cell_type": "code",
   "execution_count": 1,
   "metadata": {},
   "outputs": [],
   "source": [
    "import pandas as pd\n",
    "import seaborn as sns\n",
    "import numpy as np\n",
    "import matplotlib.pyplot as plt\n",
    "%matplotlib inline"
   ]
  },
  {
   "cell_type": "markdown",
   "metadata": {},
   "source": [
    "# 1. Data cleaning"
   ]
  },
  {
   "cell_type": "code",
   "execution_count": 2,
   "metadata": {},
   "outputs": [],
   "source": [
    "df = pd.read_pickle('googlestore_DA5weeklychallenges.pkl')"
   ]
  },
  {
   "cell_type": "code",
   "execution_count": 3,
   "metadata": {},
   "outputs": [
    {
     "data": {
      "text/plain": [
       "True     31047\n",
       "False    21261\n",
       "Name: totals_timeOnSite, dtype: int64"
      ]
     },
     "execution_count": 3,
     "metadata": {},
     "output_type": "execute_result"
    }
   ],
   "source": [
    "df['totals_timeOnSite'].isna().value_counts()"
   ]
  },
  {
   "cell_type": "code",
   "execution_count": 4,
   "metadata": {},
   "outputs": [
    {
     "data": {
      "text/plain": [
       "21261"
      ]
     },
     "execution_count": 4,
     "metadata": {},
     "output_type": "execute_result"
    }
   ],
   "source": [
    "df_nona = df.dropna(subset=['totals_timeOnSite'])\n",
    "len(df_nona)"
   ]
  },
  {
   "cell_type": "code",
   "execution_count": 5,
   "metadata": {},
   "outputs": [
    {
     "data": {
      "text/plain": [
       "<matplotlib.axes._subplots.AxesSubplot at 0x20716749f10>"
      ]
     },
     "execution_count": 5,
     "metadata": {},
     "output_type": "execute_result"
    },
    {
     "data": {
      "image/png": "[encoded data removed]",
      "text/plain": [
       "<Figure size 432x288 with 1 Axes>"
      ]
     },
     "metadata": {
      "needs_background": "light"
     },
     "output_type": "display_data"
    }
   ],
   "source": [
    "df_nona['totals_timeOnSite'].hist()"
   ]
  },
  {
   "cell_type": "code",
   "execution_count": 6,
   "metadata": {},
   "outputs": [
    {
     "name": "stderr",
     "output_type": "stream",
     "text": [
      "<ipython-input-6-252e4a41d1ac>:1: SettingWithCopyWarning: \n",
      "A value is trying to be set on a copy of a slice from a DataFrame.\n",
      "Try using .loc[row_indexer,col_indexer] = value instead\n",
      "\n",
      "See the caveats in the documentation: https://pandas.pydata.org/pandas-docs/stable/user_guide/indexing.html#returning-a-view-versus-a-copy\n",
      "  df_nona['log_totals_timeOnSite'] = np.log10(df_nona['totals_timeOnSite'] + 1)\n"
     ]
    },
    {
     "data": {
      "text/plain": [
       "<matplotlib.axes._subplots.AxesSubplot at 0x20716a88580>"
      ]
     },
     "execution_count": 6,
     "metadata": {},
     "output_type": "execute_result"
    },
    {
     "data": {
      "image/png": "[encoded data removed]",
      "text/plain": [
       "<Figure size 432x288 with 1 Axes>"
      ]
     },
     "metadata": {
      "needs_background": "light"
     },
     "output_type": "display_data"
    }
   ],
   "source": [
    "df_nona['log_totals_timeOnSite'] = np.log10(df_nona['totals_timeOnSite'] + 1)\n",
    "df_nona['log_totals_timeOnSite'].hist()"
   ]
  },
  {
   "cell_type": "markdown",
   "metadata": {},
   "source": [
    "## 2. T-Tests\n",
    "\n",
    "Here we'll use a different module from Python, called `scipy`."
   ]
  },
  {
   "cell_type": "code",
   "execution_count": 7,
   "metadata": {},
   "outputs": [],
   "source": [
    "from scipy.stats import ttest_ind"
   ]
  },
  {
   "cell_type": "markdown",
   "metadata": {},
   "source": [
    "Let's say I want to check whether people using Google (0 = Other referrals, 1 = Google as referral) spent more or less in the website. I'm considering that missing values for spent are actually 0 Euros spent."
   ]
  },
  {
   "cell_type": "code",
   "execution_count": 8,
   "metadata": {},
   "outputs": [
    {
     "data": {
      "text/plain": [
       "False    14147\n",
       "True      7114\n",
       "Name: device_isMobile, dtype: int64"
      ]
     },
     "execution_count": 8,
     "metadata": {},
     "output_type": "execute_result"
    }
   ],
   "source": [
    "df_nona['device_isMobile'].value_counts()"
   ]
  },
  {
   "cell_type": "code",
   "execution_count": 9,
   "metadata": {},
   "outputs": [
    {
     "data": {
      "text/plain": [
       "<matplotlib.axes._subplots.AxesSubplot at 0x207170307f0>"
      ]
     },
     "execution_count": 9,
     "metadata": {},
     "output_type": "execute_result"
    },
    {
     "data": {
      "image/png": "[encoded data removed]",
      "text/plain": [
       "<Figure size 432x288 with 1 Axes>"
      ]
     },
     "metadata": {
      "needs_background": "light"
     },
     "output_type": "display_data"
    }
   ],
   "source": [
    "sns.barplot(x='device_isMobile', y='log_totals_timeOnSite', data=df_nona)"
   ]
  },
  {
   "cell_type": "code",
   "execution_count": 10,
   "metadata": {},
   "outputs": [],
   "source": [
    "mobile_time = df_nona[df_nona['device_isMobile'] == True]['log_totals_timeOnSite']\n",
    "nonmobile_time = df_nona[df_nona['device_isMobile'] == False]['log_totals_timeOnSite']"
   ]
  },
  {
   "cell_type": "markdown",
   "metadata": {},
   "source": [
    "The first step I have to do is to split my data in two. One for people using Google, and another for people not using Google. From these data, I only get the actual dependent variable of interest (in my case, spent). The steps below do this."
   ]
  },
  {
   "cell_type": "code",
   "execution_count": 12,
   "metadata": {},
   "outputs": [
    {
     "data": {
      "text/plain": [
       "<matplotlib.axes._subplots.AxesSubplot at 0x2071709a040>"
      ]
     },
     "execution_count": 12,
     "metadata": {},
     "output_type": "execute_result"
    },
    {
     "data": {
      "image/png": "[encoded data removed]",
      "text/plain": [
       "<Figure size 432x288 with 1 Axes>"
      ]
     },
     "metadata": {
      "needs_background": "light"
     },
     "output_type": "display_data"
    }
   ],
   "source": [
    "mobile_time.hist()"
   ]
  },
  {
   "cell_type": "code",
   "execution_count": 13,
   "metadata": {},
   "outputs": [
    {
     "data": {
      "text/plain": [
       "<matplotlib.axes._subplots.AxesSubplot at 0x2071729a7c0>"
      ]
     },
     "execution_count": 13,
     "metadata": {},
     "output_type": "execute_result"
    },
    {
     "data": {
      "image/png": "[encoded data removed]",
      "text/plain": [
       "<Figure size 432x288 with 1 Axes>"
      ]
     },
     "metadata": {
      "needs_background": "light"
     },
     "output_type": "display_data"
    }
   ],
   "source": [
    "nonmobile_time.hist()"
   ]
  },
  {
   "cell_type": "markdown",
   "metadata": {},
   "source": [
    "The dataframes above look OK, especially as I know from the descriptives that Google is about 20% of the cases. "
   ]
  },
  {
   "cell_type": "code",
   "execution_count": 14,
   "metadata": {},
   "outputs": [
    {
     "name": "stdout",
     "output_type": "stream",
     "text": [
      "7114 14147 0.33460326419265324\n"
     ]
    }
   ],
   "source": [
    "print(len(mobile_time), len(nonmobile_time), len(mobile_time) / (len(mobile_time) + len(nonmobile_time)))"
   ]
  },
  {
   "cell_type": "markdown",
   "metadata": {},
   "source": [
    "Please note that some assumptions may be violated here given the unequal sample sizes in groups, and I am not checking assumptions here. As this is just an example, I'm ignoring this. But this may be something to consider for your specific analysis (and your limitations).\n",
    "\n",
    "In the code below, I am comparing the values of each dataframe I created. "
   ]
  },
  {
   "cell_type": "code",
   "execution_count": 15,
   "metadata": {},
   "outputs": [],
   "source": [
    "results = ttest_ind(mobile_time.values, nonmobile_time.values)"
   ]
  },
  {
   "cell_type": "markdown",
   "metadata": {},
   "source": [
    "The results now contain the output of the T-Test, including the p-value:"
   ]
  },
  {
   "cell_type": "code",
   "execution_count": 16,
   "metadata": {},
   "outputs": [
    {
     "data": {
      "text/plain": [
       "Ttest_indResult(statistic=-1.2300606533630551, pvalue=0.21868800424610377)"
      ]
     },
     "execution_count": 16,
     "metadata": {},
     "output_type": "execute_result"
    }
   ],
   "source": [
    "results"
   ]
  },
  {
   "cell_type": "markdown",
   "metadata": {},
   "source": [
    "## 3. ANOVA\n",
    "\n",
    "\n",
    "Here we'll use a different module from Python, called `statsmodels`."
   ]
  },
  {
   "cell_type": "code",
   "execution_count": 17,
   "metadata": {},
   "outputs": [],
   "source": [
    "import statsmodels.api as sm\n",
    "from statsmodels.formula.api import ols"
   ]
  },
  {
   "cell_type": "markdown",
   "metadata": {},
   "source": [
    "Let's find out how different channels may lead to different time spent on the website."
   ]
  },
  {
   "cell_type": "code",
   "execution_count": 18,
   "metadata": {},
   "outputs": [
    {
     "data": {
      "text/plain": [
       "Organic Search    11173\n",
       "Referral           3519\n",
       "Direct             2948\n",
       "Social             1305\n",
       "Display            1136\n",
       "Paid Search         859\n",
       "Affiliates          321\n",
       "Name: channelGrouping, dtype: int64"
      ]
     },
     "execution_count": 18,
     "metadata": {},
     "output_type": "execute_result"
    }
   ],
   "source": [
    "df_nona['channelGrouping'].value_counts()"
   ]
  },
  {
   "cell_type": "code",
   "execution_count": 19,
   "metadata": {},
   "outputs": [
    {
     "data": {
      "text/plain": [
       "<matplotlib.axes._subplots.AxesSubplot at 0x2071810e1f0>"
      ]
     },
     "execution_count": 19,
     "metadata": {},
     "output_type": "execute_result"
    },
    {
     "data": {
      "image/png": "[encoded data removed]",
      "text/plain": [
       "<Figure size 432x288 with 1 Axes>"
      ]
     },
     "metadata": {
      "needs_background": "light"
     },
     "output_type": "display_data"
    }
   ],
   "source": [
    "sns.barplot(x='channelGrouping', y='log_totals_timeOnSite', data=df_nona)"
   ]
  },
  {
   "cell_type": "markdown",
   "metadata": {},
   "source": [
    "We will now the conduct an ANOVA test using `statsmodels`. Note that the equation is very similar to what we would use in R. When using categorical variable, make sure to use `C(...)` to indicate in the equation."
   ]
  },
  {
   "cell_type": "code",
   "execution_count": 20,
   "metadata": {},
   "outputs": [],
   "source": [
    "anova_res = ols('log_totals_timeOnSite ~ C(channelGrouping)', data=df_nona).fit()"
   ]
  },
  {
   "cell_type": "code",
   "execution_count": 21,
   "metadata": {},
   "outputs": [
    {
     "name": "stdout",
     "output_type": "stream",
     "text": [
      "                         sum_sq       df          F        PR(>F)\n",
      "C(channelGrouping)    83.643100      6.0  32.490388  3.464077e-39\n",
      "Residual            9119.365897  21254.0        NaN           NaN\n"
     ]
    }
   ],
   "source": [
    "table = sm.stats.anova_lm(anova_res, typ=2)\n",
    "print(table)"
   ]
  },
  {
   "cell_type": "markdown",
   "metadata": {},
   "source": [
    "We now find that overall there is a significant effect (the p value `PR(>F)` is much smaller than .01). We can then further use post-hoc pairwise comparisons to find out whether one category is different from the other."
   ]
  },
  {
   "cell_type": "code",
   "execution_count": 22,
   "metadata": {},
   "outputs": [
    {
     "data": {
      "text/html": [
       "<div>\n",
       "<style scoped>\n",
       "    .dataframe tbody tr th:only-of-type {\n",
       "        vertical-align: middle;\n",
       "    }\n",
       "\n",
       "    .dataframe tbody tr th {\n",
       "        vertical-align: top;\n",
       "    }\n",
       "\n",
       "    .dataframe thead th {\n",
       "        text-align: right;\n",
       "    }\n",
       "</style>\n",
       "<table border=\"1\" class=\"dataframe\">\n",
       "  <thead>\n",
       "    <tr style=\"text-align: right;\">\n",
       "      <th></th>\n",
       "      <th>coef</th>\n",
       "      <th>std err</th>\n",
       "      <th>t</th>\n",
       "      <th>P&gt;|t|</th>\n",
       "      <th>Conf. Int. Low</th>\n",
       "      <th>Conf. Int. Upp.</th>\n",
       "      <th>pvalue-hs</th>\n",
       "      <th>reject-hs</th>\n",
       "    </tr>\n",
       "  </thead>\n",
       "  <tbody>\n",
       "    <tr>\n",
       "      <th>Direct-Affiliates</th>\n",
       "      <td>-0.044167</td>\n",
       "      <td>0.038499</td>\n",
       "      <td>-1.147224</td>\n",
       "      <td>2.513020e-01</td>\n",
       "      <td>-0.119629</td>\n",
       "      <td>0.031294</td>\n",
       "      <td>5.682568e-01</td>\n",
       "      <td>False</td>\n",
       "    </tr>\n",
       "    <tr>\n",
       "      <th>Display-Affiliates</th>\n",
       "      <td>0.089406</td>\n",
       "      <td>0.041405</td>\n",
       "      <td>2.159311</td>\n",
       "      <td>3.083721e-02</td>\n",
       "      <td>0.008249</td>\n",
       "      <td>0.170562</td>\n",
       "      <td>1.713324e-01</td>\n",
       "      <td>False</td>\n",
       "    </tr>\n",
       "    <tr>\n",
       "      <th>Organic Search-Affiliates</th>\n",
       "      <td>-0.147051</td>\n",
       "      <td>0.037082</td>\n",
       "      <td>-3.965596</td>\n",
       "      <td>7.345260e-05</td>\n",
       "      <td>-0.219734</td>\n",
       "      <td>-0.074368</td>\n",
       "      <td>9.544631e-04</td>\n",
       "      <td>True</td>\n",
       "    </tr>\n",
       "    <tr>\n",
       "      <th>Paid Search-Affiliates</th>\n",
       "      <td>-0.128292</td>\n",
       "      <td>0.042850</td>\n",
       "      <td>-2.993961</td>\n",
       "      <td>2.756983e-03</td>\n",
       "      <td>-0.212282</td>\n",
       "      <td>-0.044302</td>\n",
       "      <td>2.184421e-02</td>\n",
       "      <td>True</td>\n",
       "    </tr>\n",
       "    <tr>\n",
       "      <th>Referral-Affiliates</th>\n",
       "      <td>-0.099261</td>\n",
       "      <td>0.038191</td>\n",
       "      <td>-2.599035</td>\n",
       "      <td>9.355089e-03</td>\n",
       "      <td>-0.174119</td>\n",
       "      <td>-0.024403</td>\n",
       "      <td>6.367614e-02</td>\n",
       "      <td>False</td>\n",
       "    </tr>\n",
       "    <tr>\n",
       "      <th>Social-Affiliates</th>\n",
       "      <td>-0.176699</td>\n",
       "      <td>0.040810</td>\n",
       "      <td>-4.329822</td>\n",
       "      <td>1.499128e-05</td>\n",
       "      <td>-0.256689</td>\n",
       "      <td>-0.096709</td>\n",
       "      <td>2.098575e-04</td>\n",
       "      <td>True</td>\n",
       "    </tr>\n",
       "    <tr>\n",
       "      <th>Display-Direct</th>\n",
       "      <td>0.133573</td>\n",
       "      <td>0.022875</td>\n",
       "      <td>5.839382</td>\n",
       "      <td>5.315746e-09</td>\n",
       "      <td>0.088737</td>\n",
       "      <td>0.178409</td>\n",
       "      <td>7.973619e-08</td>\n",
       "      <td>True</td>\n",
       "    </tr>\n",
       "    <tr>\n",
       "      <th>Organic Search-Direct</th>\n",
       "      <td>-0.102884</td>\n",
       "      <td>0.013563</td>\n",
       "      <td>-7.585796</td>\n",
       "      <td>3.440130e-14</td>\n",
       "      <td>-0.129468</td>\n",
       "      <td>-0.076300</td>\n",
       "      <td>6.195044e-13</td>\n",
       "      <td>True</td>\n",
       "    </tr>\n",
       "    <tr>\n",
       "      <th>Paid Search-Direct</th>\n",
       "      <td>-0.084125</td>\n",
       "      <td>0.025398</td>\n",
       "      <td>-3.312308</td>\n",
       "      <td>9.268387e-04</td>\n",
       "      <td>-0.133906</td>\n",
       "      <td>-0.034343</td>\n",
       "      <td>8.310690e-03</td>\n",
       "      <td>True</td>\n",
       "    </tr>\n",
       "    <tr>\n",
       "      <th>Referral-Direct</th>\n",
       "      <td>-0.055093</td>\n",
       "      <td>0.016355</td>\n",
       "      <td>-3.368678</td>\n",
       "      <td>7.566379e-04</td>\n",
       "      <td>-0.087150</td>\n",
       "      <td>-0.023037</td>\n",
       "      <td>7.540668e-03</td>\n",
       "      <td>True</td>\n",
       "    </tr>\n",
       "    <tr>\n",
       "      <th>Social-Direct</th>\n",
       "      <td>-0.132532</td>\n",
       "      <td>0.021779</td>\n",
       "      <td>-6.085264</td>\n",
       "      <td>1.182898e-09</td>\n",
       "      <td>-0.175221</td>\n",
       "      <td>-0.089843</td>\n",
       "      <td>1.892637e-08</td>\n",
       "      <td>True</td>\n",
       "    </tr>\n",
       "    <tr>\n",
       "      <th>Organic Search-Display</th>\n",
       "      <td>-0.236457</td>\n",
       "      <td>0.020399</td>\n",
       "      <td>-11.591849</td>\n",
       "      <td>5.617463e-31</td>\n",
       "      <td>-0.276440</td>\n",
       "      <td>-0.196474</td>\n",
       "      <td>0.000000e+00</td>\n",
       "      <td>True</td>\n",
       "    </tr>\n",
       "    <tr>\n",
       "      <th>Paid Search-Display</th>\n",
       "      <td>-0.217698</td>\n",
       "      <td>0.029617</td>\n",
       "      <td>-7.350322</td>\n",
       "      <td>2.048819e-13</td>\n",
       "      <td>-0.275750</td>\n",
       "      <td>-0.159645</td>\n",
       "      <td>3.482215e-12</td>\n",
       "      <td>True</td>\n",
       "    </tr>\n",
       "    <tr>\n",
       "      <th>Referral-Display</th>\n",
       "      <td>-0.188666</td>\n",
       "      <td>0.022352</td>\n",
       "      <td>-8.440568</td>\n",
       "      <td>3.357415e-17</td>\n",
       "      <td>-0.232479</td>\n",
       "      <td>-0.144854</td>\n",
       "      <td>0.000000e+00</td>\n",
       "      <td>True</td>\n",
       "    </tr>\n",
       "    <tr>\n",
       "      <th>Social-Display</th>\n",
       "      <td>-0.266105</td>\n",
       "      <td>0.026580</td>\n",
       "      <td>-10.011551</td>\n",
       "      <td>1.529207e-23</td>\n",
       "      <td>-0.318203</td>\n",
       "      <td>-0.214006</td>\n",
       "      <td>0.000000e+00</td>\n",
       "      <td>True</td>\n",
       "    </tr>\n",
       "    <tr>\n",
       "      <th>Paid Search-Organic Search</th>\n",
       "      <td>0.018759</td>\n",
       "      <td>0.023193</td>\n",
       "      <td>0.808840</td>\n",
       "      <td>4.186163e-01</td>\n",
       "      <td>-0.026700</td>\n",
       "      <td>0.064218</td>\n",
       "      <td>5.682568e-01</td>\n",
       "      <td>False</td>\n",
       "    </tr>\n",
       "    <tr>\n",
       "      <th>Referral-Organic Search</th>\n",
       "      <td>0.047790</td>\n",
       "      <td>0.012662</td>\n",
       "      <td>3.774274</td>\n",
       "      <td>1.609106e-04</td>\n",
       "      <td>0.022972</td>\n",
       "      <td>0.072609</td>\n",
       "      <td>1.929220e-03</td>\n",
       "      <td>True</td>\n",
       "    </tr>\n",
       "    <tr>\n",
       "      <th>Social-Organic Search</th>\n",
       "      <td>-0.029648</td>\n",
       "      <td>0.019162</td>\n",
       "      <td>-1.547214</td>\n",
       "      <td>1.218266e-01</td>\n",
       "      <td>-0.067207</td>\n",
       "      <td>0.007911</td>\n",
       "      <td>4.052682e-01</td>\n",
       "      <td>False</td>\n",
       "    </tr>\n",
       "    <tr>\n",
       "      <th>Referral-Paid Search</th>\n",
       "      <td>0.029031</td>\n",
       "      <td>0.024928</td>\n",
       "      <td>1.164592</td>\n",
       "      <td>2.441972e-01</td>\n",
       "      <td>-0.019830</td>\n",
       "      <td>0.077893</td>\n",
       "      <td>5.682568e-01</td>\n",
       "      <td>False</td>\n",
       "    </tr>\n",
       "    <tr>\n",
       "      <th>Social-Paid Search</th>\n",
       "      <td>-0.048407</td>\n",
       "      <td>0.028780</td>\n",
       "      <td>-1.681976</td>\n",
       "      <td>9.258816e-02</td>\n",
       "      <td>-0.104818</td>\n",
       "      <td>0.008004</td>\n",
       "      <td>3.847917e-01</td>\n",
       "      <td>False</td>\n",
       "    </tr>\n",
       "    <tr>\n",
       "      <th>Social-Referral</th>\n",
       "      <td>-0.077438</td>\n",
       "      <td>0.021230</td>\n",
       "      <td>-3.647588</td>\n",
       "      <td>2.653467e-04</td>\n",
       "      <td>-0.119051</td>\n",
       "      <td>-0.035826</td>\n",
       "      <td>2.914944e-03</td>\n",
       "      <td>True</td>\n",
       "    </tr>\n",
       "  </tbody>\n",
       "</table>\n",
       "</div>"
      ],
      "text/plain": [
       "                                coef   std err          t         P>|t|  \\\n",
       "Direct-Affiliates          -0.044167  0.038499  -1.147224  2.513020e-01   \n",
       "Display-Affiliates          0.089406  0.041405   2.159311  3.083721e-02   \n",
       "Organic Search-Affiliates  -0.147051  0.037082  -3.965596  7.345260e-05   \n",
       "Paid Search-Affiliates     -0.128292  0.042850  -2.993961  2.756983e-03   \n",
       "Referral-Affiliates        -0.099261  0.038191  -2.599035  9.355089e-03   \n",
       "Social-Affiliates          -0.176699  0.040810  -4.329822  1.499128e-05   \n",
       "Display-Direct              0.133573  0.022875   5.839382  5.315746e-09   \n",
       "Organic Search-Direct      -0.102884  0.013563  -7.585796  3.440130e-14   \n",
       "Paid Search-Direct         -0.084125  0.025398  -3.312308  9.268387e-04   \n",
       "Referral-Direct            -0.055093  0.016355  -3.368678  7.566379e-04   \n",
       "Social-Direct              -0.132532  0.021779  -6.085264  1.182898e-09   \n",
       "Organic Search-Display     -0.236457  0.020399 -11.591849  5.617463e-31   \n",
       "Paid Search-Display        -0.217698  0.029617  -7.350322  2.048819e-13   \n",
       "Referral-Display           -0.188666  0.022352  -8.440568  3.357415e-17   \n",
       "Social-Display             -0.266105  0.026580 -10.011551  1.529207e-23   \n",
       "Paid Search-Organic Search  0.018759  0.023193   0.808840  4.186163e-01   \n",
       "Referral-Organic Search     0.047790  0.012662   3.774274  1.609106e-04   \n",
       "Social-Organic Search      -0.029648  0.019162  -1.547214  1.218266e-01   \n",
       "Referral-Paid Search        0.029031  0.024928   1.164592  2.441972e-01   \n",
       "Social-Paid Search         -0.048407  0.028780  -1.681976  9.258816e-02   \n",
       "Social-Referral            -0.077438  0.021230  -3.647588  2.653467e-04   \n",
       "\n",
       "                            Conf. Int. Low  Conf. Int. Upp.     pvalue-hs  \\\n",
       "Direct-Affiliates                -0.119629         0.031294  5.682568e-01   \n",
       "Display-Affiliates                0.008249         0.170562  1.713324e-01   \n",
       "Organic Search-Affiliates        -0.219734        -0.074368  9.544631e-04   \n",
       "Paid Search-Affiliates           -0.212282        -0.044302  2.184421e-02   \n",
       "Referral-Affiliates              -0.174119        -0.024403  6.367614e-02   \n",
       "Social-Affiliates                -0.256689        -0.096709  2.098575e-04   \n",
       "Display-Direct                    0.088737         0.178409  7.973619e-08   \n",
       "Organic Search-Direct            -0.129468        -0.076300  6.195044e-13   \n",
       "Paid Search-Direct               -0.133906        -0.034343  8.310690e-03   \n",
       "Referral-Direct                  -0.087150        -0.023037  7.540668e-03   \n",
       "Social-Direct                    -0.175221        -0.089843  1.892637e-08   \n",
       "Organic Search-Display           -0.276440        -0.196474  0.000000e+00   \n",
       "Paid Search-Display              -0.275750        -0.159645  3.482215e-12   \n",
       "Referral-Display                 -0.232479        -0.144854  0.000000e+00   \n",
       "Social-Display                   -0.318203        -0.214006  0.000000e+00   \n",
       "Paid Search-Organic Search       -0.026700         0.064218  5.682568e-01   \n",
       "Referral-Organic Search           0.022972         0.072609  1.929220e-03   \n",
       "Social-Organic Search            -0.067207         0.007911  4.052682e-01   \n",
       "Referral-Paid Search             -0.019830         0.077893  5.682568e-01   \n",
       "Social-Paid Search               -0.104818         0.008004  3.847917e-01   \n",
       "Social-Referral                  -0.119051        -0.035826  2.914944e-03   \n",
       "\n",
       "                            reject-hs  \n",
       "Direct-Affiliates               False  \n",
       "Display-Affiliates              False  \n",
       "Organic Search-Affiliates        True  \n",
       "Paid Search-Affiliates           True  \n",
       "Referral-Affiliates             False  \n",
       "Social-Affiliates                True  \n",
       "Display-Direct                   True  \n",
       "Organic Search-Direct            True  \n",
       "Paid Search-Direct               True  \n",
       "Referral-Direct                  True  \n",
       "Social-Direct                    True  \n",
       "Organic Search-Display           True  \n",
       "Paid Search-Display              True  \n",
       "Referral-Display                 True  \n",
       "Social-Display                   True  \n",
       "Paid Search-Organic Search      False  \n",
       "Referral-Organic Search          True  \n",
       "Social-Organic Search           False  \n",
       "Referral-Paid Search            False  \n",
       "Social-Paid Search              False  \n",
       "Social-Referral                  True  "
      ]
     },
     "execution_count": 22,
     "metadata": {},
     "output_type": "execute_result"
    }
   ],
   "source": [
    "pair_t = anova_res.t_test_pairwise('C(channelGrouping)')\n",
    "pair_t.result_frame"
   ]
  },
  {
   "cell_type": "markdown",
   "metadata": {},
   "source": [
    "By check the last column `reject-hs`, we can see that, e.g., while `display` is not significantly different from `affliates` (2nd row), `organic search` is from `affliates` (3rd row)."
   ]
  }
 ],
 "metadata": {
  "anaconda-cloud": {},
  "kernelspec": {
   "display_name": "Python 3",
   "language": "python",
   "name": "python3"
  },
  "language_info": {
   "codemirror_mode": {
    "name": "ipython",
    "version": 3
   },
   "file_extension": ".py",
   "mimetype": "text/x-python",
   "name": "python",
   "nbconvert_exporter": "python",
   "pygments_lexer": "ipython3",
   "version": "3.8.0"
  },
  "latex_envs": {
   "bibliofile": "biblio.bib",
   "cite_by": "apalike",
   "current_citInitial": 1,
   "eqLabelWithNumbers": true,
   "eqNumInitial": 0
  }
 },
 "nbformat": 4,
 "nbformat_minor": 4
}
