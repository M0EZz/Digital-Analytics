{
 "cells": [
  {
   "cell_type": "markdown",
   "metadata": {},
   "source": [
    "## Additional information on different types of regressions\n",
    "\n",
    "*IMPORTANT: The discussions about different types of models are a lot more complex than what we're showing below. These steps are only valid for the Digital Analytics course, and as a preliminary set of steps so you can explore statistical modelling beyond linear and logistic regressions. For your thesis (or other work for the master), please follow the general instructions from the methods courses.*\n",
    "\n",
    "In DA5, we have applied two different types of regression analysis: linear and logistic regression models. As you know from your statistics classes, each model has a number of assumptions and requirements for the data. Regarding the data, one of the assumptions of logistic regression is that it assumes you dependent variable to be binary. For linear regression, your dependent variable should be normally distributed. However, when you look at a lot of digital trace data, it is not true.\n",
    "\n",
    "For example, think about Twitter data. Imagine that I want to investigate what drives likes for tweets about surveillance and my research question is \n",
    "\"To what extent is the mention of digital media tech companies in a tweet related to the number of likes of the tweet?\"\n",
    "\n",
    "Let's start with opening the data and having a look at the variables.\n"
   ]
  },
  {
   "cell_type": "code",
   "execution_count": 76,
   "metadata": {},
   "outputs": [],
   "source": [
    "import pandas as pd\n",
    "import seaborn as sns"
   ]
  },
  {
   "cell_type": "code",
   "execution_count": 132,
   "metadata": {},
   "outputs": [],
   "source": [
    "df = pd.read_pickle('twitter_sentiment_mini.pkl')"
   ]
  },
  {
   "cell_type": "code",
   "execution_count": 133,
   "metadata": {},
   "outputs": [
    {
     "data": {
      "text/html": [
       "<div>\n",
       "<style scoped>\n",
       "    .dataframe tbody tr th:only-of-type {\n",
       "        vertical-align: middle;\n",
       "    }\n",
       "\n",
       "    .dataframe tbody tr th {\n",
       "        vertical-align: top;\n",
       "    }\n",
       "\n",
       "    .dataframe thead th {\n",
       "        text-align: right;\n",
       "    }\n",
       "</style>\n",
       "<table border=\"1\" class=\"dataframe\">\n",
       "  <thead>\n",
       "    <tr style=\"text-align: right;\">\n",
       "      <th></th>\n",
       "      <th>id</th>\n",
       "      <th>text</th>\n",
       "      <th>metric_retweet_count</th>\n",
       "      <th>metric_followers_count</th>\n",
       "      <th>metric_like_count</th>\n",
       "      <th>pseudID</th>\n",
       "      <th>positive</th>\n",
       "      <th>negative</th>\n",
       "      <th>neutral</th>\n",
       "      <th>is_retweet</th>\n",
       "      <th>digi_media_tech</th>\n",
       "      <th>usa</th>\n",
       "      <th>eu</th>\n",
       "      <th>country</th>\n",
       "    </tr>\n",
       "  </thead>\n",
       "  <tbody>\n",
       "    <tr>\n",
       "      <th>0</th>\n",
       "      <td>1438405320204853248</td>\n",
       "      <td>“conspiracy practices —the methods by which tr...</td>\n",
       "      <td>0</td>\n",
       "      <td>879</td>\n",
       "      <td>0</td>\n",
       "      <td>2</td>\n",
       "      <td>2</td>\n",
       "      <td>-2</td>\n",
       "      <td>-1</td>\n",
       "      <td>0</td>\n",
       "      <td>0</td>\n",
       "      <td>0</td>\n",
       "      <td>0</td>\n",
       "      <td>none</td>\n",
       "    </tr>\n",
       "    <tr>\n",
       "      <th>1</th>\n",
       "      <td>1438405307693027328</td>\n",
       "      <td>@mention Have you done any work to estimate th...</td>\n",
       "      <td>0</td>\n",
       "      <td>230</td>\n",
       "      <td>0</td>\n",
       "      <td>3</td>\n",
       "      <td>1</td>\n",
       "      <td>-1</td>\n",
       "      <td>0</td>\n",
       "      <td>0</td>\n",
       "      <td>0</td>\n",
       "      <td>0</td>\n",
       "      <td>0</td>\n",
       "      <td>none</td>\n",
       "    </tr>\n",
       "    <tr>\n",
       "      <th>2</th>\n",
       "      <td>1438405226801807364</td>\n",
       "      <td>📝We have examined the design, implementation a...</td>\n",
       "      <td>0</td>\n",
       "      <td>12992</td>\n",
       "      <td>0</td>\n",
       "      <td>5</td>\n",
       "      <td>2</td>\n",
       "      <td>-3</td>\n",
       "      <td>-1</td>\n",
       "      <td>0</td>\n",
       "      <td>0</td>\n",
       "      <td>0</td>\n",
       "      <td>0</td>\n",
       "      <td>none</td>\n",
       "    </tr>\n",
       "    <tr>\n",
       "      <th>3</th>\n",
       "      <td>1438405184544067589</td>\n",
       "      <td>first time trying out the #sarkargame. and, it...</td>\n",
       "      <td>0</td>\n",
       "      <td>197</td>\n",
       "      <td>0</td>\n",
       "      <td>6</td>\n",
       "      <td>2</td>\n",
       "      <td>-4</td>\n",
       "      <td>-1</td>\n",
       "      <td>0</td>\n",
       "      <td>0</td>\n",
       "      <td>0</td>\n",
       "      <td>0</td>\n",
       "      <td>none</td>\n",
       "    </tr>\n",
       "    <tr>\n",
       "      <th>4</th>\n",
       "      <td>1438404847406100481</td>\n",
       "      <td>We're set up and ready here at @mention #OPSEC...</td>\n",
       "      <td>0</td>\n",
       "      <td>2418</td>\n",
       "      <td>0</td>\n",
       "      <td>15</td>\n",
       "      <td>2</td>\n",
       "      <td>-1</td>\n",
       "      <td>1</td>\n",
       "      <td>0</td>\n",
       "      <td>0</td>\n",
       "      <td>0</td>\n",
       "      <td>0</td>\n",
       "      <td>none</td>\n",
       "    </tr>\n",
       "  </tbody>\n",
       "</table>\n",
       "</div>"
      ],
      "text/plain": [
       "                    id                                               text  \\\n",
       "0  1438405320204853248  “conspiracy practices —the methods by which tr...   \n",
       "1  1438405307693027328  @mention Have you done any work to estimate th...   \n",
       "2  1438405226801807364  📝We have examined the design, implementation a...   \n",
       "3  1438405184544067589  first time trying out the #sarkargame. and, it...   \n",
       "4  1438404847406100481  We're set up and ready here at @mention #OPSEC...   \n",
       "\n",
       "   metric_retweet_count  metric_followers_count  metric_like_count pseudID  \\\n",
       "0                     0                     879                  0       2   \n",
       "1                     0                     230                  0       3   \n",
       "2                     0                   12992                  0       5   \n",
       "3                     0                     197                  0       6   \n",
       "4                     0                    2418                  0      15   \n",
       "\n",
       "  positive negative neutral  is_retweet  digi_media_tech  usa  eu country  \n",
       "0        2       -2      -1           0                0    0   0    none  \n",
       "1        1       -1       0           0                0    0   0    none  \n",
       "2        2       -3      -1           0                0    0   0    none  \n",
       "3        2       -4      -1           0                0    0   0    none  \n",
       "4        2       -1       1           0                0    0   0    none  "
      ]
     },
     "execution_count": 133,
     "metadata": {},
     "output_type": "execute_result"
    }
   ],
   "source": [
    "df.head()"
   ]
  },
  {
   "cell_type": "code",
   "execution_count": 134,
   "metadata": {},
   "outputs": [
    {
     "data": {
      "text/plain": [
       "count    16951.000000\n",
       "mean         2.325703\n",
       "std         20.558799\n",
       "min          0.000000\n",
       "25%          0.000000\n",
       "50%          0.000000\n",
       "75%          0.000000\n",
       "max        874.000000\n",
       "Name: metric_retweet_count, dtype: float64"
      ]
     },
     "execution_count": 134,
     "metadata": {},
     "output_type": "execute_result"
    }
   ],
   "source": [
    "df['metric_retweet_count'].describe()"
   ]
  },
  {
   "cell_type": "code",
   "execution_count": 135,
   "metadata": {},
   "outputs": [
    {
     "data": {
      "text/plain": [
       "<seaborn.axisgrid.FacetGrid at 0x7fd2598d6730>"
      ]
     },
     "execution_count": 135,
     "metadata": {},
     "output_type": "execute_result"
    },
    {
     "data": {
      "image/png": "[encoded data removed]",
      "text/plain": [
       "<Figure size 360x360 with 1 Axes>"
      ]
     },
     "metadata": {
      "needs_background": "light"
     },
     "output_type": "display_data"
    }
   ],
   "source": [
    "sns.displot(x='metric_retweet_count', data = df)"
   ]
  },
  {
   "cell_type": "markdown",
   "metadata": {},
   "source": [
    "As you can see, our dependent variable takes values between 0 and 874 and is not normally distributed. This makes sense as most tweets do not get retweets. This means that we violate one of the assumptions of linear regression. We can apply a linear regression model and keep in mind that the results might not be fully reliable or look for a model that does not have such an assumption. There are many different models that we can fit to our data and in this additional tutorial we will introduce you to one of them, namely Poisson regression.\n",
    "\n",
    "### What is Poisson regression?\n",
    "\n",
    "Poisson regression is a model that assumes that your dependent variable are counts following a Poisson distribution. A count variable is discrete variable that consists of non-negative integers. It counts occurences of an event (how often did purchase happen, how many times a person visited the shop, how many times a tweet got retweeted - such counts of events cannot be negative and are always 0 or above). \n",
    "\n",
    "Often rare events follow Poisson distribution. In case of tweets, retweets are rather rare so when we want to count how often they occur, we end up with such distribution. This is the case with a lof of digital trace data that counts events for example how many purchases are done in a week or how many people click on an ad in a day.\n",
    "\n",
    "When working with such data, we can hence decide to apply a Poisson regression model to account for the fact that 0 is very often present in the dependent variable. Let's see how we can do it in Python.\n",
    "\n",
    "Our variables are as follows:\n",
    "* IV: mention of digital media tech\n",
    "* DV: number of retweets\n",
    "* Control: sentiment\n",
    "\n",
    "Let's start with exploring data and seeing if we have all necessary variables."
   ]
  },
  {
   "cell_type": "code",
   "execution_count": 146,
   "metadata": {},
   "outputs": [
    {
     "data": {
      "text/plain": [
       "id                         int64\n",
       "text                      object\n",
       "metric_retweet_count       int64\n",
       "metric_followers_count     int64\n",
       "metric_like_count          int64\n",
       "pseudID                   object\n",
       "positive                  object\n",
       "negative                  object\n",
       "neutral                   object\n",
       "is_retweet                 int64\n",
       "digi_media_tech            int64\n",
       "usa                        int64\n",
       "eu                         int64\n",
       "country                   object\n",
       "dtype: object"
      ]
     },
     "execution_count": 146,
     "metadata": {},
     "output_type": "execute_result"
    }
   ],
   "source": [
    "df.dtypes"
   ]
  },
  {
   "cell_type": "markdown",
   "metadata": {},
   "source": [
    "It looks like an overall measure for sentiment (our control variable) is missing and that we need to change data types for sentiment scores."
   ]
  },
  {
   "cell_type": "code",
   "execution_count": 147,
   "metadata": {},
   "outputs": [],
   "source": [
    "df['positive'] = df['positive'].apply(pd.to_numeric)\n",
    "df['negative'] = df['negative'].apply(pd.to_numeric)\n",
    "\n",
    "df['sentiment'] = df['positive'] + df['negative']"
   ]
  },
  {
   "cell_type": "markdown",
   "metadata": {},
   "source": [
    "Let's start with creating the model using statsmodels."
   ]
  },
  {
   "cell_type": "code",
   "execution_count": 148,
   "metadata": {},
   "outputs": [],
   "source": [
    "import numpy as np\n",
    "import pandas as pd\n",
    "import matplotlib.pyplot as plt\n",
    "import statsmodels.api as sm\n"
   ]
  },
  {
   "cell_type": "code",
   "execution_count": 149,
   "metadata": {},
   "outputs": [
    {
     "name": "stderr",
     "output_type": "stream",
     "text": [
      "/Library/Frameworks/Python.framework/Versions/3.9/lib/python3.9/site-packages/statsmodels/tsa/tsatools.py:142: FutureWarning: In a future version of pandas all arguments of concat except for the argument 'objs' will be keyword-only.\n",
      "  x = pd.concat(x[::order], 1)\n"
     ]
    }
   ],
   "source": [
    "#Note that the code is similar but we use a different type of models - Generalized Linear Model\n",
    "poisson_model = sm.GLM(df['metric_retweet_count'], sm.add_constant(df[['sentiment', 'digi_media_tech']]), family = sm.families.Poisson())"
   ]
  },
  {
   "cell_type": "code",
   "execution_count": 150,
   "metadata": {},
   "outputs": [],
   "source": [
    "result = poisson_model.fit()"
   ]
  },
  {
   "cell_type": "code",
   "execution_count": 151,
   "metadata": {},
   "outputs": [
    {
     "data": {
      "text/html": [
       "<table class=\"simpletable\">\n",
       "<caption>Generalized Linear Model Regression Results</caption>\n",
       "<tr>\n",
       "  <th>Dep. Variable:</th>   <td>metric_retweet_count</td> <th>  No. Observations:  </th>   <td> 16951</td>   \n",
       "</tr>\n",
       "<tr>\n",
       "  <th>Model:</th>                    <td>GLM</td>         <th>  Df Residuals:      </th>   <td> 16948</td>   \n",
       "</tr>\n",
       "<tr>\n",
       "  <th>Model Family:</th>           <td>Poisson</td>       <th>  Df Model:          </th>   <td>     2</td>   \n",
       "</tr>\n",
       "<tr>\n",
       "  <th>Link Function:</th>            <td>log</td>         <th>  Scale:             </th>  <td>  1.0000</td>  \n",
       "</tr>\n",
       "<tr>\n",
       "  <th>Method:</th>                  <td>IRLS</td>         <th>  Log-Likelihood:    </th> <td>-1.2752e+05</td>\n",
       "</tr>\n",
       "<tr>\n",
       "  <th>Date:</th>              <td>Thu, 06 Oct 2022</td>   <th>  Deviance:          </th> <td>2.4307e+05</td> \n",
       "</tr>\n",
       "<tr>\n",
       "  <th>Time:</th>                  <td>12:41:48</td>       <th>  Pearson chi2:      </th>  <td>2.87e+06</td>  \n",
       "</tr>\n",
       "<tr>\n",
       "  <th>No. Iterations:</th>            <td>8</td>          <th>                     </th>      <td> </td>     \n",
       "</tr>\n",
       "<tr>\n",
       "  <th>Covariance Type:</th>       <td>nonrobust</td>      <th>                     </th>      <td> </td>     \n",
       "</tr>\n",
       "</table>\n",
       "<table class=\"simpletable\">\n",
       "<tr>\n",
       "         <td></td>            <th>coef</th>     <th>std err</th>      <th>z</th>      <th>P>|z|</th>  <th>[0.025</th>    <th>0.975]</th>  \n",
       "</tr>\n",
       "<tr>\n",
       "  <th>const</th>           <td>    0.7117</td> <td>    0.006</td> <td>  117.931</td> <td> 0.000</td> <td>    0.700</td> <td>    0.724</td>\n",
       "</tr>\n",
       "<tr>\n",
       "  <th>sentiment</th>       <td>   -0.1439</td> <td>    0.004</td> <td>  -33.956</td> <td> 0.000</td> <td>   -0.152</td> <td>   -0.136</td>\n",
       "</tr>\n",
       "<tr>\n",
       "  <th>digi_media_tech</th> <td>    0.9792</td> <td>    0.020</td> <td>   49.165</td> <td> 0.000</td> <td>    0.940</td> <td>    1.018</td>\n",
       "</tr>\n",
       "</table>"
      ],
      "text/plain": [
       "<class 'statsmodels.iolib.summary.Summary'>\n",
       "\"\"\"\n",
       "                  Generalized Linear Model Regression Results                   \n",
       "================================================================================\n",
       "Dep. Variable:     metric_retweet_count   No. Observations:                16951\n",
       "Model:                              GLM   Df Residuals:                    16948\n",
       "Model Family:                   Poisson   Df Model:                            2\n",
       "Link Function:                      log   Scale:                          1.0000\n",
       "Method:                            IRLS   Log-Likelihood:            -1.2752e+05\n",
       "Date:                  Thu, 06 Oct 2022   Deviance:                   2.4307e+05\n",
       "Time:                          12:41:48   Pearson chi2:                 2.87e+06\n",
       "No. Iterations:                       8                                         \n",
       "Covariance Type:              nonrobust                                         \n",
       "===================================================================================\n",
       "                      coef    std err          z      P>|z|      [0.025      0.975]\n",
       "-----------------------------------------------------------------------------------\n",
       "const               0.7117      0.006    117.931      0.000       0.700       0.724\n",
       "sentiment          -0.1439      0.004    -33.956      0.000      -0.152      -0.136\n",
       "digi_media_tech     0.9792      0.020     49.165      0.000       0.940       1.018\n",
       "===================================================================================\n",
       "\"\"\""
      ]
     },
     "execution_count": 151,
     "metadata": {},
     "output_type": "execute_result"
    }
   ],
   "source": [
    "result.summary()"
   ]
  },
  {
   "cell_type": "markdown",
   "metadata": {},
   "source": [
    "How can we interpret the output? The Pearson statistic provides an estimate of the data’s dispersion. The model assums that the data is dispersed meaning that the variance of the dependent variable is similar to the mean. If that is not the case, the model will not fit well. We can check it by dividing Pearsons chi2 by residual degrees of freedom (Df Residuals) - if that is much larger than 1, the model is overdispersed meaning it has too great variability for the model. If the result is much smaller than 1, the data is underdispersed meaning it has too little variability. \n",
    "\n",
    "As you can see below, our data shows overdispertion. This means that this model does not fit well and we cannot make conclusions about the data from it (similar to when a linear regression model is not significant).\n",
    "\n",
    "Regarding interpretation of the coefficients, they are log of expected counts. What does it mean? When we look at our binary independent variable,  it is positive, meaning  we consider two tweets, one with and one without the companies mentioned, with identical sentiment, the tweet with digital media tech mentioned  will have a higher predicted value of log(# retweets) than the tweet without the mention. Thus, we would expect the tweet mentioning digital media tech to have more retweets than a tweet without. For a continous predictor sentiment was can say that if a tweet is more negative by 1 score on the scale, the difference in the logs of expected counts would be expected to decrease by -0.14. If we consider two tweets with the same score on digit_media_tech, we would expect the tweet with the higher sentiment of the two to have less retweets than the other tweet."
   ]
  },
  {
   "cell_type": "code",
   "execution_count": 161,
   "metadata": {},
   "outputs": [
    {
     "data": {
      "text/plain": [
       "169.34151522303517"
      ]
     },
     "execution_count": 161,
     "metadata": {},
     "output_type": "execute_result"
    }
   ],
   "source": [
    "#Calculating model fit\n",
    "2.87e+06/16948"
   ]
  },
  {
   "cell_type": "markdown",
   "metadata": {},
   "source": [
    "We can also use Poisson model for making preditions."
   ]
  },
  {
   "cell_type": "code",
   "execution_count": 162,
   "metadata": {},
   "outputs": [],
   "source": [
    "from sklearn.linear_model import PoissonRegressor\n",
    "import numpy"
   ]
  },
  {
   "cell_type": "code",
   "execution_count": 163,
   "metadata": {},
   "outputs": [],
   "source": [
    "model = PoissonRegressor()"
   ]
  },
  {
   "cell_type": "code",
   "execution_count": 164,
   "metadata": {},
   "outputs": [
    {
     "data": {
      "text/plain": [
       "PoissonRegressor()"
      ]
     },
     "execution_count": 164,
     "metadata": {},
     "output_type": "execute_result"
    }
   ],
   "source": [
    "model.fit(df[['sentiment', 'digi_media_tech']], df['metric_retweet_count'])"
   ]
  },
  {
   "cell_type": "code",
   "execution_count": 160,
   "metadata": {},
   "outputs": [
    {
     "data": {
      "text/plain": [
       "array([3.38105473])"
      ]
     },
     "execution_count": 160,
     "metadata": {},
     "output_type": "execute_result"
    }
   ],
   "source": [
    "model.predict([[-4,0]])"
   ]
  },
  {
   "cell_type": "code",
   "execution_count": 166,
   "metadata": {},
   "outputs": [
    {
     "data": {
      "text/plain": [
       "array([3.70411151])"
      ]
     },
     "execution_count": 166,
     "metadata": {},
     "output_type": "execute_result"
    }
   ],
   "source": [
    "model.predict([[-4,1]])"
   ]
  },
  {
   "cell_type": "markdown",
   "metadata": {},
   "source": [
    "Poisson models are only one example of models that can be useful when working with digital trace data. Another example is Negative Binominal Regression (also available in statsmodels in Python). That model also does not assume a normal distribution, but similarly can be used to model rare events especially when they are overdispersed. This means it is applicable to data that has a lot of cases with 0 occurrences, but still quite some variation in the number of occurrences. If you are interested in different models, have a look at the documentation to explore how to best model your data."
   ]
  },
  {
   "cell_type": "markdown",
   "metadata": {},
   "source": []
  }
 ],
 "metadata": {
  "interpreter": {
   "hash": "aee8b7b246df8f9039afb4144a1f6fd8d2ca17a180786b69acc140d282b71a49"
  },
  "kernelspec": {
   "display_name": "Python 3",
   "language": "python",
   "name": "python3"
  },
  "language_info": {
   "codemirror_mode": {
    "name": "ipython",
    "version": 3
   },
   "file_extension": ".py",
   "mimetype": "text/x-python",
   "name": "python",
   "nbconvert_exporter": "python",
   "pygments_lexer": "ipython3",
   "version": "3.9.1"
  }
 },
 "nbformat": 4,
 "nbformat_minor": 4
}
