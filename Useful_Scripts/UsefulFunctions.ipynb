{
 "cells": [
  {
   "cell_type": "code",
   "execution_count": 4,
   "metadata": {
    "collapsed": true,
    "jupyter": {
     "outputs_hidden": true
    }
   },
   "outputs": [],
   "source": [
    "import pandas as pd"
   ]
  },
  {
   "cell_type": "code",
   "execution_count": 5,
   "metadata": {
    "collapsed": true,
    "jupyter": {
     "outputs_hidden": true
    }
   },
   "outputs": [],
   "source": [
    "tweets = pd.read_csv('tcat_TheoAraujo-20170210-20170224---------fullExport--8cef61cd09.csv')"
   ]
  },
  {
   "cell_type": "markdown",
   "metadata": {},
   "source": [
    "# Useful Functions for Data Preparation\n",
    "\n",
    "Here you find a few useful functions for you to use in your data preparation. You can also adapt them for your own needs. The tweets dataframe is being used here as an example."
   ]
  },
  {
   "cell_type": "markdown",
   "metadata": {},
   "source": [
    "## Pandas built-in functions"
   ]
  },
  {
   "cell_type": "markdown",
   "metadata": {},
   "source": [
    "### Converting a column with dates incorrectly stored as object to datetime\n",
    "\n",
    "This is useful when the column is stored as object, but actually contains dates. Function: pd.to_datetime"
   ]
  },
  {
   "cell_type": "code",
   "execution_count": 6,
   "metadata": {},
   "outputs": [
    {
     "data": {
      "text/plain": [
       "0    2017-02-20 11:37:08\n",
       "1    2017-02-20 11:38:15\n",
       "2    2017-02-20 11:42:33\n",
       "3    2017-02-20 11:45:30\n",
       "4    2017-02-20 11:50:11\n",
       "Name: created_at, dtype: object"
      ]
     },
     "execution_count": 6,
     "metadata": {},
     "output_type": "execute_result"
    }
   ],
   "source": [
    "tweets['created_at'].head()\n",
    "    "
   ]
  },
  {
   "cell_type": "code",
   "execution_count": 7,
   "metadata": {
    "collapsed": true,
    "jupyter": {
     "outputs_hidden": true
    }
   },
   "outputs": [],
   "source": [
    "tweets['created_at'] = tweets['created_at'].apply(pd.to_datetime)"
   ]
  },
  {
   "cell_type": "code",
   "execution_count": 8,
   "metadata": {},
   "outputs": [
    {
     "data": {
      "text/plain": [
       "0   2017-02-20 11:37:08\n",
       "1   2017-02-20 11:38:15\n",
       "2   2017-02-20 11:42:33\n",
       "3   2017-02-20 11:45:30\n",
       "4   2017-02-20 11:50:11\n",
       "Name: created_at, dtype: datetime64[ns]"
      ]
     },
     "execution_count": 8,
     "metadata": {},
     "output_type": "execute_result"
    }
   ],
   "source": [
    "tweets['created_at'].head()"
   ]
  },
  {
   "cell_type": "markdown",
   "metadata": {},
   "source": [
    "### Converting a column with numbers incorrectly stored as object to numeric\n",
    "\n",
    "Function: pd.to_numeric\n",
    "Note: this may not always work - especially if the column also contains some rows with text. "
   ]
  },
  {
   "cell_type": "code",
   "execution_count": 9,
   "metadata": {
    "collapsed": true,
    "jupyter": {
     "outputs_hidden": true
    }
   },
   "outputs": [],
   "source": [
    "tweets['retweet_count'] = tweets['retweet_count'].apply(pd.to_numeric)"
   ]
  },
  {
   "cell_type": "code",
   "execution_count": null,
   "metadata": {
    "collapsed": true,
    "jupyter": {
     "outputs_hidden": true
    }
   },
   "outputs": [],
   "source": []
  },
  {
   "cell_type": "markdown",
   "metadata": {},
   "source": [
    "## Some special functions for us\n",
    "\n",
    "These are some special functions created for our course, of leveraged from elsewhere (credit is mentioned when appropriate). To use them, you need to add them to your code first. Sometimes the usage requires the ```.apply()``` to be written with additional options. See carefully below."
   ]
  },
  {
   "cell_type": "markdown",
   "metadata": {},
   "source": [
    "### Checking if a text column contains a certain word\n",
    "\n",
    "Note: \n",
    "* This function checks if the word is present or not (returning a 1 or 0)\n",
    "* This function checks for the full word (i.e., if you search for apple, it won't return apples)\n",
    "* This function considers mentions or hashtags as normal words (i.e., it ignores @ or # signs). \n",
    "* This function also is case insensitive. \n",
    "* The word is included inside the \"args\" area"
   ]
  },
  {
   "cell_type": "code",
   "execution_count": 10,
   "metadata": {
    "collapsed": true,
    "jupyter": {
     "outputs_hidden": true
    }
   },
   "outputs": [],
   "source": [
    "def word_present(text, query):\n",
    "    import re\n",
    "    text = str(text).lower()\n",
    "    query = str(query).lower()\n",
    "    \n",
    "    tokens = re.findall(r\"[\\w']+|[.,!?;$@#]\", text)\n",
    "    if query in tokens:\n",
    "        return 1\n",
    "    return 0"
   ]
  },
  {
   "cell_type": "code",
   "execution_count": 11,
   "metadata": {
    "collapsed": true,
    "jupyter": {
     "outputs_hidden": true
    }
   },
   "outputs": [],
   "source": [
    "tweets['microsoft_present'] = tweets['text'].apply(word_present, args=('microsoft',))"
   ]
  },
  {
   "cell_type": "code",
   "execution_count": 12,
   "metadata": {},
   "outputs": [
    {
     "data": {
      "text/html": [
       "<div>\n",
       "<table border=\"1\" class=\"dataframe\">\n",
       "  <thead>\n",
       "    <tr style=\"text-align: right;\">\n",
       "      <th></th>\n",
       "      <th>text</th>\n",
       "      <th>microsoft_present</th>\n",
       "    </tr>\n",
       "  </thead>\n",
       "  <tbody>\n",
       "    <tr>\n",
       "      <th>0</th>\n",
       "      <td>Microsoft flying high in BI &amp; Analytics - Base...</td>\n",
       "      <td>1</td>\n",
       "    </tr>\n",
       "    <tr>\n",
       "      <th>1</th>\n",
       "      <td>Sentiment analysis in the age of Digital Trans...</td>\n",
       "      <td>0</td>\n",
       "    </tr>\n",
       "    <tr>\n",
       "      <th>2</th>\n",
       "      <td>Eyeview Digital - Manager, Client Analytics - ...</td>\n",
       "      <td>0</td>\n",
       "    </tr>\n",
       "    <tr>\n",
       "      <th>3</th>\n",
       "      <td>Leading Digital Marketing Company Eminent Info...</td>\n",
       "      <td>0</td>\n",
       "    </tr>\n",
       "    <tr>\n",
       "      <th>4</th>\n",
       "      <td>RT @JimMarous: Top Areas of #Martech Investmen...</td>\n",
       "      <td>0</td>\n",
       "    </tr>\n",
       "  </tbody>\n",
       "</table>\n",
       "</div>"
      ],
      "text/plain": [
       "                                                text  microsoft_present\n",
       "0  Microsoft flying high in BI & Analytics - Base...                  1\n",
       "1  Sentiment analysis in the age of Digital Trans...                  0\n",
       "2  Eyeview Digital - Manager, Client Analytics - ...                  0\n",
       "3  Leading Digital Marketing Company Eminent Info...                  0\n",
       "4  RT @JimMarous: Top Areas of #Martech Investmen...                  0"
      ]
     },
     "execution_count": 12,
     "metadata": {},
     "output_type": "execute_result"
    }
   ],
   "source": [
    "tweets[['text', 'microsoft_present']].head()"
   ]
  },
  {
   "cell_type": "markdown",
   "metadata": {},
   "source": [
    "### Checking if an object column contains some text\n",
    "\n",
    "Credit to Thilo for finding a part of this solution out!\n",
    "\n",
    "Keep in mind that this function is checking if the query you are searching for appears in any place of the string/text, not necessarily as a separate word. This means that if you search for ```apple```, it will return a positive result for a text containing ```apple```, but also ```apples```, ```applebees```, and ```pineapple```  for example. This can be especially handy for checking if two words are present (in order) in a sentence."
   ]
  },
  {
   "cell_type": "code",
   "execution_count": 13,
   "metadata": {
    "collapsed": true,
    "jupyter": {
     "outputs_hidden": true
    }
   },
   "outputs": [],
   "source": [
    "def words_present_anywhere(text, query):\n",
    "    import re\n",
    "    text = str(text).lower()\n",
    "    query = str(query).lower()\n",
    "\n",
    "    if query in text:\n",
    "        return 1\n",
    "    return 0"
   ]
  },
  {
   "cell_type": "code",
   "execution_count": 14,
   "metadata": {
    "collapsed": true,
    "jupyter": {
     "outputs_hidden": true
    }
   },
   "outputs": [],
   "source": [
    "tweets['flyinghigh_present'] = tweets['text'].apply(words_present_anywhere, \n",
    "                                                    args=('flying high',))"
   ]
  },
  {
   "cell_type": "code",
   "execution_count": 15,
   "metadata": {},
   "outputs": [
    {
     "data": {
      "text/html": [
       "<div>\n",
       "<table border=\"1\" class=\"dataframe\">\n",
       "  <thead>\n",
       "    <tr style=\"text-align: right;\">\n",
       "      <th></th>\n",
       "      <th>text</th>\n",
       "      <th>flyinghigh_present</th>\n",
       "    </tr>\n",
       "  </thead>\n",
       "  <tbody>\n",
       "    <tr>\n",
       "      <th>0</th>\n",
       "      <td>Microsoft flying high in BI &amp; Analytics - Base...</td>\n",
       "      <td>1</td>\n",
       "    </tr>\n",
       "    <tr>\n",
       "      <th>1</th>\n",
       "      <td>Sentiment analysis in the age of Digital Trans...</td>\n",
       "      <td>0</td>\n",
       "    </tr>\n",
       "    <tr>\n",
       "      <th>2</th>\n",
       "      <td>Eyeview Digital - Manager, Client Analytics - ...</td>\n",
       "      <td>0</td>\n",
       "    </tr>\n",
       "    <tr>\n",
       "      <th>3</th>\n",
       "      <td>Leading Digital Marketing Company Eminent Info...</td>\n",
       "      <td>0</td>\n",
       "    </tr>\n",
       "    <tr>\n",
       "      <th>4</th>\n",
       "      <td>RT @JimMarous: Top Areas of #Martech Investmen...</td>\n",
       "      <td>0</td>\n",
       "    </tr>\n",
       "  </tbody>\n",
       "</table>\n",
       "</div>"
      ],
      "text/plain": [
       "                                                text  flyinghigh_present\n",
       "0  Microsoft flying high in BI & Analytics - Base...                   1\n",
       "1  Sentiment analysis in the age of Digital Trans...                   0\n",
       "2  Eyeview Digital - Manager, Client Analytics - ...                   0\n",
       "3  Leading Digital Marketing Company Eminent Info...                   0\n",
       "4  RT @JimMarous: Top Areas of #Martech Investmen...                   0"
      ]
     },
     "execution_count": 15,
     "metadata": {},
     "output_type": "execute_result"
    }
   ],
   "source": [
    "tweets[['text', 'flyinghigh_present']].head()"
   ]
  },
  {
   "cell_type": "markdown",
   "metadata": {},
   "source": [
    "### Checking if a set of words appears in the text\n",
    "\n",
    "This function checks if words (in a list) are also present in the text. This function does not care for word order (i.e., ```top areas``` and ```areas top``` are the same for this function), and it does not care if there are other words between the two words being queried."
   ]
  },
  {
   "cell_type": "code",
   "execution_count": 16,
   "metadata": {
    "collapsed": true,
    "jupyter": {
     "outputs_hidden": true
    }
   },
   "outputs": [],
   "source": [
    "def wordlist_present(text, query):\n",
    "    import re\n",
    "    text = str(text).lower()\n",
    "    newquery = []\n",
    "    for word in query:\n",
    "        newquery.append(str(word).lower())\n",
    "    tokens = re.findall(r\"[\\w']+|[.,!?;$@#]\", text)\n",
    "    \n",
    "    if set(newquery).issubset(tokens):\n",
    "        return 1\n",
    "    return 0"
   ]
  },
  {
   "cell_type": "code",
   "execution_count": 17,
   "metadata": {
    "collapsed": true,
    "jupyter": {
     "outputs_hidden": true
    }
   },
   "outputs": [],
   "source": [
    "tweets['sentiment_age_present'] = tweets['text'].apply(wordlist_present,\n",
    "                                                       args=(['sentiment', 'age'],))"
   ]
  },
  {
   "cell_type": "code",
   "execution_count": 18,
   "metadata": {},
   "outputs": [
    {
     "data": {
      "text/html": [
       "<div>\n",
       "<table border=\"1\" class=\"dataframe\">\n",
       "  <thead>\n",
       "    <tr style=\"text-align: right;\">\n",
       "      <th></th>\n",
       "      <th>text</th>\n",
       "      <th>sentiment_age_present</th>\n",
       "    </tr>\n",
       "  </thead>\n",
       "  <tbody>\n",
       "    <tr>\n",
       "      <th>0</th>\n",
       "      <td>Microsoft flying high in BI &amp; Analytics - Base...</td>\n",
       "      <td>0</td>\n",
       "    </tr>\n",
       "    <tr>\n",
       "      <th>1</th>\n",
       "      <td>Sentiment analysis in the age of Digital Trans...</td>\n",
       "      <td>1</td>\n",
       "    </tr>\n",
       "    <tr>\n",
       "      <th>2</th>\n",
       "      <td>Eyeview Digital - Manager, Client Analytics - ...</td>\n",
       "      <td>0</td>\n",
       "    </tr>\n",
       "    <tr>\n",
       "      <th>3</th>\n",
       "      <td>Leading Digital Marketing Company Eminent Info...</td>\n",
       "      <td>0</td>\n",
       "    </tr>\n",
       "    <tr>\n",
       "      <th>4</th>\n",
       "      <td>RT @JimMarous: Top Areas of #Martech Investmen...</td>\n",
       "      <td>0</td>\n",
       "    </tr>\n",
       "  </tbody>\n",
       "</table>\n",
       "</div>"
      ],
      "text/plain": [
       "                                                text  sentiment_age_present\n",
       "0  Microsoft flying high in BI & Analytics - Base...                      0\n",
       "1  Sentiment analysis in the age of Digital Trans...                      1\n",
       "2  Eyeview Digital - Manager, Client Analytics - ...                      0\n",
       "3  Leading Digital Marketing Company Eminent Info...                      0\n",
       "4  RT @JimMarous: Top Areas of #Martech Investmen...                      0"
      ]
     },
     "execution_count": 18,
     "metadata": {},
     "output_type": "execute_result"
    }
   ],
   "source": [
    "tweets[['text', 'sentiment_age_present']].head()"
   ]
  },
  {
   "cell_type": "markdown",
   "metadata": {},
   "source": [
    "### Checking if any of the words in a list appears in the text\n",
    "\n",
    "This function checks if any of the words (in a list) are also present in the text. If a word is found (even if the other words in the list are not found), the function returns a 1. If none of the words are found, it returns a 0."
   ]
  },
  {
   "cell_type": "code",
   "execution_count": 19,
   "metadata": {
    "collapsed": true,
    "jupyter": {
     "outputs_hidden": true
    }
   },
   "outputs": [],
   "source": [
    "def wordlist_any_present(text, query):\n",
    "    import re\n",
    "    text = str(text).lower()\n",
    "    newquery = []\n",
    "    for word in query:\n",
    "        newquery.append(str(word).lower())\n",
    "    tokens = re.findall(r\"[\\w']+|[.,!?;$@#]\", text)\n",
    "    \n",
    "    for word in newquery:\n",
    "        if word in tokens:\n",
    "            return 1\n",
    "    return 0\n"
   ]
  },
  {
   "cell_type": "code",
   "execution_count": 20,
   "metadata": {
    "collapsed": true,
    "jupyter": {
     "outputs_hidden": true
    }
   },
   "outputs": [],
   "source": [
    "tweets['flying_or_top_present'] = tweets['text'].apply(wordlist_any_present,\n",
    "                                                       args=(['flying', 'top'],))"
   ]
  },
  {
   "cell_type": "code",
   "execution_count": 21,
   "metadata": {},
   "outputs": [
    {
     "data": {
      "text/html": [
       "<div>\n",
       "<table border=\"1\" class=\"dataframe\">\n",
       "  <thead>\n",
       "    <tr style=\"text-align: right;\">\n",
       "      <th></th>\n",
       "      <th>text</th>\n",
       "      <th>flying_or_top_present</th>\n",
       "    </tr>\n",
       "  </thead>\n",
       "  <tbody>\n",
       "    <tr>\n",
       "      <th>0</th>\n",
       "      <td>Microsoft flying high in BI &amp; Analytics - Base...</td>\n",
       "      <td>1</td>\n",
       "    </tr>\n",
       "    <tr>\n",
       "      <th>1</th>\n",
       "      <td>Sentiment analysis in the age of Digital Trans...</td>\n",
       "      <td>0</td>\n",
       "    </tr>\n",
       "    <tr>\n",
       "      <th>2</th>\n",
       "      <td>Eyeview Digital - Manager, Client Analytics - ...</td>\n",
       "      <td>0</td>\n",
       "    </tr>\n",
       "    <tr>\n",
       "      <th>3</th>\n",
       "      <td>Leading Digital Marketing Company Eminent Info...</td>\n",
       "      <td>0</td>\n",
       "    </tr>\n",
       "    <tr>\n",
       "      <th>4</th>\n",
       "      <td>RT @JimMarous: Top Areas of #Martech Investmen...</td>\n",
       "      <td>1</td>\n",
       "    </tr>\n",
       "  </tbody>\n",
       "</table>\n",
       "</div>"
      ],
      "text/plain": [
       "                                                text  flying_or_top_present\n",
       "0  Microsoft flying high in BI & Analytics - Base...                      1\n",
       "1  Sentiment analysis in the age of Digital Trans...                      0\n",
       "2  Eyeview Digital - Manager, Client Analytics - ...                      0\n",
       "3  Leading Digital Marketing Company Eminent Info...                      0\n",
       "4  RT @JimMarous: Top Areas of #Martech Investmen...                      1"
      ]
     },
     "execution_count": 21,
     "metadata": {},
     "output_type": "execute_result"
    }
   ],
   "source": [
    "tweets[['text', 'flying_or_top_present']].head()"
   ]
  },
  {
   "cell_type": "markdown",
   "metadata": {},
   "source": [
    "### Checking how often a certain word appears\n",
    "\n",
    "Note: this works with the same conditions as the previous function, except for what it returns."
   ]
  },
  {
   "cell_type": "code",
   "execution_count": 22,
   "metadata": {
    "collapsed": true,
    "jupyter": {
     "outputs_hidden": true
    }
   },
   "outputs": [],
   "source": [
    "def word_frequency(text, query):\n",
    "    import re\n",
    "    text = str(text).lower()\n",
    "    query = str(query).lower()\n",
    "    \n",
    "    tokens = re.findall(r\"[\\w']+|[.,!?;$@#]\", text)\n",
    "    counter = 0\n",
    "    for token in tokens:\n",
    "        if query == token:\n",
    "            counter += 1\n",
    "    return counter"
   ]
  },
  {
   "cell_type": "code",
   "execution_count": 23,
   "metadata": {
    "collapsed": true,
    "jupyter": {
     "outputs_hidden": true
    }
   },
   "outputs": [],
   "source": [
    "tweets['client_frequency'] = tweets['text'].apply(word_frequency, args=('client',))"
   ]
  },
  {
   "cell_type": "code",
   "execution_count": 24,
   "metadata": {},
   "outputs": [
    {
     "data": {
      "text/html": [
       "<div>\n",
       "<table border=\"1\" class=\"dataframe\">\n",
       "  <thead>\n",
       "    <tr style=\"text-align: right;\">\n",
       "      <th></th>\n",
       "      <th>text</th>\n",
       "      <th>client_frequency</th>\n",
       "    </tr>\n",
       "  </thead>\n",
       "  <tbody>\n",
       "    <tr>\n",
       "      <th>0</th>\n",
       "      <td>Microsoft flying high in BI &amp; Analytics - Base...</td>\n",
       "      <td>0</td>\n",
       "    </tr>\n",
       "    <tr>\n",
       "      <th>1</th>\n",
       "      <td>Sentiment analysis in the age of Digital Trans...</td>\n",
       "      <td>0</td>\n",
       "    </tr>\n",
       "    <tr>\n",
       "      <th>2</th>\n",
       "      <td>Eyeview Digital - Manager, Client Analytics - ...</td>\n",
       "      <td>2</td>\n",
       "    </tr>\n",
       "    <tr>\n",
       "      <th>3</th>\n",
       "      <td>Leading Digital Marketing Company Eminent Info...</td>\n",
       "      <td>0</td>\n",
       "    </tr>\n",
       "    <tr>\n",
       "      <th>4</th>\n",
       "      <td>RT @JimMarous: Top Areas of #Martech Investmen...</td>\n",
       "      <td>0</td>\n",
       "    </tr>\n",
       "  </tbody>\n",
       "</table>\n",
       "</div>"
      ],
      "text/plain": [
       "                                                text  client_frequency\n",
       "0  Microsoft flying high in BI & Analytics - Base...                 0\n",
       "1  Sentiment analysis in the age of Digital Trans...                 0\n",
       "2  Eyeview Digital - Manager, Client Analytics - ...                 2\n",
       "3  Leading Digital Marketing Company Eminent Info...                 0\n",
       "4  RT @JimMarous: Top Areas of #Martech Investmen...                 0"
      ]
     },
     "execution_count": 24,
     "metadata": {},
     "output_type": "execute_result"
    }
   ],
   "source": [
    "tweets[['text', 'client_frequency']].head()"
   ]
  },
  {
   "cell_type": "markdown",
   "metadata": {},
   "source": [
    "### Checking if a hashtag is present\n",
    "\n",
    "Works the same way as the previous functions."
   ]
  },
  {
   "cell_type": "code",
   "execution_count": 25,
   "metadata": {
    "collapsed": true,
    "jupyter": {
     "outputs_hidden": true
    }
   },
   "outputs": [],
   "source": [
    "def hashtag_present(text, query):\n",
    "    import re\n",
    "    text = str(text).lower().replace('#','__')\n",
    "    query = str(query).lower().replace('#','__')\n",
    "    \n",
    "    tokens = re.findall(r\"[\\w']+|[.,!?;$@]\", text)\n",
    "    if query in tokens:\n",
    "        return 1\n",
    "    return 0"
   ]
  },
  {
   "cell_type": "code",
   "execution_count": 26,
   "metadata": {
    "collapsed": true,
    "jupyter": {
     "outputs_hidden": true
    }
   },
   "outputs": [],
   "source": [
    "tweets['ai_hashtag_present'] = tweets['text'].apply(hashtag_present, args=('#AI',))"
   ]
  },
  {
   "cell_type": "markdown",
   "metadata": {},
   "source": [
    "### Checking if the tweet is a retweet\n",
    "\n",
    "You need to always apply this to the text column. This function works only for the DMI-TCAT data."
   ]
  },
  {
   "cell_type": "code",
   "execution_count": 27,
   "metadata": {
    "collapsed": true,
    "jupyter": {
     "outputs_hidden": true
    }
   },
   "outputs": [],
   "source": [
    "def is_rt(text):\n",
    "    text = text.split()\n",
    "    if text[0] == 'RT':\n",
    "        return 1\n",
    "    return 0"
   ]
  },
  {
   "cell_type": "code",
   "execution_count": 28,
   "metadata": {
    "collapsed": true,
    "jupyter": {
     "outputs_hidden": true
    }
   },
   "outputs": [],
   "source": [
    "tweets['is_retweet'] = tweets['text'].apply(is_rt)"
   ]
  },
  {
   "cell_type": "code",
   "execution_count": 29,
   "metadata": {},
   "outputs": [
    {
     "data": {
      "text/html": [
       "<div>\n",
       "<table border=\"1\" class=\"dataframe\">\n",
       "  <thead>\n",
       "    <tr style=\"text-align: right;\">\n",
       "      <th></th>\n",
       "      <th>text</th>\n",
       "      <th>is_retweet</th>\n",
       "    </tr>\n",
       "  </thead>\n",
       "  <tbody>\n",
       "    <tr>\n",
       "      <th>0</th>\n",
       "      <td>Microsoft flying high in BI &amp; Analytics - Base...</td>\n",
       "      <td>0</td>\n",
       "    </tr>\n",
       "    <tr>\n",
       "      <th>1</th>\n",
       "      <td>Sentiment analysis in the age of Digital Trans...</td>\n",
       "      <td>0</td>\n",
       "    </tr>\n",
       "    <tr>\n",
       "      <th>2</th>\n",
       "      <td>Eyeview Digital - Manager, Client Analytics - ...</td>\n",
       "      <td>0</td>\n",
       "    </tr>\n",
       "    <tr>\n",
       "      <th>3</th>\n",
       "      <td>Leading Digital Marketing Company Eminent Info...</td>\n",
       "      <td>0</td>\n",
       "    </tr>\n",
       "    <tr>\n",
       "      <th>4</th>\n",
       "      <td>RT @JimMarous: Top Areas of #Martech Investmen...</td>\n",
       "      <td>1</td>\n",
       "    </tr>\n",
       "  </tbody>\n",
       "</table>\n",
       "</div>"
      ],
      "text/plain": [
       "                                                text  is_retweet\n",
       "0  Microsoft flying high in BI & Analytics - Base...           0\n",
       "1  Sentiment analysis in the age of Digital Trans...           0\n",
       "2  Eyeview Digital - Manager, Client Analytics - ...           0\n",
       "3  Leading Digital Marketing Company Eminent Info...           0\n",
       "4  RT @JimMarous: Top Areas of #Martech Investmen...           1"
      ]
     },
     "execution_count": 29,
     "metadata": {},
     "output_type": "execute_result"
    }
   ],
   "source": [
    "tweets[['text', 'is_retweet']].head()"
   ]
  },
  {
   "cell_type": "markdown",
   "metadata": {},
   "source": [
    "### Checking if the tweet is a reply\n",
    "\n",
    "This one also only works for DMI-TCAT data, and specifically with the column in_reply_to_status_id"
   ]
  },
  {
   "cell_type": "code",
   "execution_count": 30,
   "metadata": {
    "collapsed": true,
    "jupyter": {
     "outputs_hidden": true
    }
   },
   "outputs": [],
   "source": [
    "def is_reply(in_reply_to_status_id):\n",
    "    try:\n",
    "        int(in_reply_to_status_id)\n",
    "        return 1\n",
    "    except:\n",
    "        return 0\n",
    "    "
   ]
  },
  {
   "cell_type": "code",
   "execution_count": 31,
   "metadata": {
    "collapsed": true,
    "jupyter": {
     "outputs_hidden": true
    }
   },
   "outputs": [],
   "source": [
    "tweets['is_reply'] = tweets['in_reply_to_status_id'].apply(is_reply)"
   ]
  },
  {
   "cell_type": "code",
   "execution_count": 32,
   "metadata": {},
   "outputs": [
    {
     "data": {
      "text/html": [
       "<div>\n",
       "<table border=\"1\" class=\"dataframe\">\n",
       "  <thead>\n",
       "    <tr style=\"text-align: right;\">\n",
       "      <th></th>\n",
       "      <th>text</th>\n",
       "      <th>is_reply</th>\n",
       "    </tr>\n",
       "  </thead>\n",
       "  <tbody>\n",
       "    <tr>\n",
       "      <th>0</th>\n",
       "      <td>Microsoft flying high in BI &amp; Analytics - Base...</td>\n",
       "      <td>0</td>\n",
       "    </tr>\n",
       "    <tr>\n",
       "      <th>1</th>\n",
       "      <td>Sentiment analysis in the age of Digital Trans...</td>\n",
       "      <td>0</td>\n",
       "    </tr>\n",
       "    <tr>\n",
       "      <th>2</th>\n",
       "      <td>Eyeview Digital - Manager, Client Analytics - ...</td>\n",
       "      <td>0</td>\n",
       "    </tr>\n",
       "    <tr>\n",
       "      <th>3</th>\n",
       "      <td>Leading Digital Marketing Company Eminent Info...</td>\n",
       "      <td>0</td>\n",
       "    </tr>\n",
       "    <tr>\n",
       "      <th>4</th>\n",
       "      <td>RT @JimMarous: Top Areas of #Martech Investmen...</td>\n",
       "      <td>0</td>\n",
       "    </tr>\n",
       "  </tbody>\n",
       "</table>\n",
       "</div>"
      ],
      "text/plain": [
       "                                                text  is_reply\n",
       "0  Microsoft flying high in BI & Analytics - Base...         0\n",
       "1  Sentiment analysis in the age of Digital Trans...         0\n",
       "2  Eyeview Digital - Manager, Client Analytics - ...         0\n",
       "3  Leading Digital Marketing Company Eminent Info...         0\n",
       "4  RT @JimMarous: Top Areas of #Martech Investmen...         0"
      ]
     },
     "execution_count": 32,
     "metadata": {},
     "output_type": "execute_result"
    }
   ],
   "source": [
    "tweets[['text', 'is_reply']].head()"
   ]
  },
  {
   "cell_type": "markdown",
   "metadata": {},
   "source": [
    "## Checking if tweet has a hashtag\n"
   ]
  },
  {
   "cell_type": "code",
   "execution_count": 33,
   "metadata": {
    "collapsed": true,
    "jupyter": {
     "outputs_hidden": true
    }
   },
   "outputs": [],
   "source": [
    "def has_hashtag(text):\n",
    "    if '#' in text:\n",
    "        return 1\n",
    "    return 0"
   ]
  },
  {
   "cell_type": "code",
   "execution_count": 34,
   "metadata": {
    "collapsed": true,
    "jupyter": {
     "outputs_hidden": true
    }
   },
   "outputs": [],
   "source": [
    "tweets['has_hashtag'] = tweets['text'].apply(has_hashtag)"
   ]
  },
  {
   "cell_type": "code",
   "execution_count": 35,
   "metadata": {
    "collapsed": true,
    "jupyter": {
     "outputs_hidden": true
    }
   },
   "outputs": [],
   "source": [
    "def count_hashtag(text):\n",
    "    text = str(text)\n",
    "    counter = 0\n",
    "    for char in text:\n",
    "        if char == '#':\n",
    "            counter += 1\n",
    "    \n",
    "    return counter"
   ]
  },
  {
   "cell_type": "code",
   "execution_count": 36,
   "metadata": {
    "collapsed": true,
    "jupyter": {
     "outputs_hidden": true
    }
   },
   "outputs": [],
   "source": [
    "tweets['total_hashtags'] = tweets['text'].apply(count_hashtag)"
   ]
  },
  {
   "cell_type": "code",
   "execution_count": 37,
   "metadata": {},
   "outputs": [
    {
     "data": {
      "text/html": [
       "<div>\n",
       "<table border=\"1\" class=\"dataframe\">\n",
       "  <thead>\n",
       "    <tr style=\"text-align: right;\">\n",
       "      <th></th>\n",
       "      <th>text</th>\n",
       "      <th>has_hashtag</th>\n",
       "      <th>total_hashtags</th>\n",
       "    </tr>\n",
       "  </thead>\n",
       "  <tbody>\n",
       "    <tr>\n",
       "      <th>0</th>\n",
       "      <td>Microsoft flying high in BI &amp; Analytics - Base...</td>\n",
       "      <td>1</td>\n",
       "      <td>7</td>\n",
       "    </tr>\n",
       "    <tr>\n",
       "      <th>1</th>\n",
       "      <td>Sentiment analysis in the age of Digital Trans...</td>\n",
       "      <td>1</td>\n",
       "      <td>4</td>\n",
       "    </tr>\n",
       "    <tr>\n",
       "      <th>2</th>\n",
       "      <td>Eyeview Digital - Manager, Client Analytics - ...</td>\n",
       "      <td>1</td>\n",
       "      <td>5</td>\n",
       "    </tr>\n",
       "    <tr>\n",
       "      <th>3</th>\n",
       "      <td>Leading Digital Marketing Company Eminent Info...</td>\n",
       "      <td>0</td>\n",
       "      <td>0</td>\n",
       "    </tr>\n",
       "    <tr>\n",
       "      <th>4</th>\n",
       "      <td>RT @JimMarous: Top Areas of #Martech Investmen...</td>\n",
       "      <td>1</td>\n",
       "      <td>7</td>\n",
       "    </tr>\n",
       "  </tbody>\n",
       "</table>\n",
       "</div>"
      ],
      "text/plain": [
       "                                                text  has_hashtag  \\\n",
       "0  Microsoft flying high in BI & Analytics - Base...            1   \n",
       "1  Sentiment analysis in the age of Digital Trans...            1   \n",
       "2  Eyeview Digital - Manager, Client Analytics - ...            1   \n",
       "3  Leading Digital Marketing Company Eminent Info...            0   \n",
       "4  RT @JimMarous: Top Areas of #Martech Investmen...            1   \n",
       "\n",
       "   total_hashtags  \n",
       "0               7  \n",
       "1               4  \n",
       "2               5  \n",
       "3               0  \n",
       "4               7  "
      ]
     },
     "execution_count": 37,
     "metadata": {},
     "output_type": "execute_result"
    }
   ],
   "source": [
    "tweets[['text', 'has_hashtag', 'total_hashtags']].head()"
   ]
  },
  {
   "cell_type": "markdown",
   "metadata": {},
   "source": [
    "## Checking the most frequent words\n",
    "\n",
    "This function works with any text column, but keep in mind it just returns a report (i.e., it does not create a new column, and you don't *apply* it to a column). The whole code needs to be executed (you can change the column name though)."
   ]
  },
  {
   "cell_type": "code",
   "execution_count": 38,
   "metadata": {
    "collapsed": true,
    "jupyter": {
     "outputs_hidden": true
    }
   },
   "outputs": [],
   "source": [
    "import re\n",
    "from collections import Counter"
   ]
  },
  {
   "cell_type": "code",
   "execution_count": 39,
   "metadata": {
    "collapsed": true,
    "jupyter": {
     "outputs_hidden": true
    }
   },
   "outputs": [],
   "source": [
    "texts = tweets['text'].values.tolist()"
   ]
  },
  {
   "cell_type": "code",
   "execution_count": 40,
   "metadata": {
    "collapsed": true,
    "jupyter": {
     "outputs_hidden": true
    }
   },
   "outputs": [],
   "source": [
    "total_words = Counter()\n",
    "for text in texts:\n",
    "    # making text lower case\n",
    "    text = text.lower()\n",
    "    # removing URLS \n",
    "    text = text.split(' ')\n",
    "    newtext = []\n",
    "    for item in text:\n",
    "        if 'http' not in item:\n",
    "            newtext.append(item)\n",
    "    \n",
    "    newtext = ' '.join(newtext)\n",
    "        \n",
    "    # splitting the text in words (tokens)\n",
    "    tokens = re.findall(r\"[\\w']+|[.,!?;$@]\", newtext)\n",
    "    for token in tokens:\n",
    "        total_words[token] += 1\n",
    "    "
   ]
  },
  {
   "cell_type": "code",
   "execution_count": 41,
   "metadata": {},
   "outputs": [
    {
     "data": {
      "text/plain": [
       "[('analytics', 2492),\n",
       " ('@', 2217),\n",
       " ('digital', 1967),\n",
       " ('rt', 1287),\n",
       " ('.', 1265),\n",
       " (',', 1261),\n",
       " ('marketing', 664),\n",
       " ('data', 603),\n",
       " ('the', 600),\n",
       " ('digitaltransformation', 529),\n",
       " ('in', 466),\n",
       " ('for', 463),\n",
       " ('bigdata', 419),\n",
       " ('to', 412),\n",
       " ('!', 361),\n",
       " ('of', 358),\n",
       " ('iot', 334),\n",
       " ('and', 328),\n",
       " ('your', 276),\n",
       " ('a', 243),\n",
       " ('how', 227),\n",
       " ('seo', 221),\n",
       " ('via', 204),\n",
       " ('?', 203),\n",
       " ('is', 194),\n",
       " ('business', 169),\n",
       " ('transformation', 166),\n",
       " ('cmo', 160),\n",
       " ('with', 159),\n",
       " ('cx', 155),\n",
       " ('can', 154),\n",
       " ('microsoft', 154),\n",
       " ('launches', 148),\n",
       " ('focused', 145),\n",
       " ('windows', 145),\n",
       " ('ex', 145),\n",
       " ('an', 140),\n",
       " ('by', 134),\n",
       " ('manager', 133),\n",
       " ('cloud', 133),\n",
       " ('firm', 133),\n",
       " ('digitalmarketing', 125),\n",
       " ('infórmate', 122),\n",
       " ('app', 122),\n",
       " ('google', 121),\n",
       " ('media', 114),\n",
       " ('strategy', 114),\n",
       " ('fjuri', 111),\n",
       " ('s', 109),\n",
       " ('adwords', 108),\n",
       " ('mikeflache', 106),\n",
       " ('ai', 105),\n",
       " ('datascience', 105),\n",
       " ('using', 104),\n",
       " ('mobile', 103),\n",
       " ('on', 100),\n",
       " ('helps', 99),\n",
       " ('cursos', 95),\n",
       " ('experience', 91),\n",
       " ('into', 89),\n",
       " ('are', 88),\n",
       " ('tech', 88),\n",
       " ('new', 87),\n",
       " ('2017', 86),\n",
       " ('store', 85),\n",
       " ('retailers', 84),\n",
       " ('socialmedia', 84),\n",
       " ('virtual', 83),\n",
       " ('tools', 83),\n",
       " ('social', 81),\n",
       " ('top', 80),\n",
       " ('wordpress', 79),\n",
       " ('connecting', 79),\n",
       " ('fabric', 79),\n",
       " ('at', 78),\n",
       " ('blog', 78),\n",
       " ('5', 78),\n",
       " ('you', 78),\n",
       " ('it', 77),\n",
       " ('community', 77),\n",
       " ('6', 77),\n",
       " ('learn', 75),\n",
       " ('cisco', 75),\n",
       " ('why', 75),\n",
       " ('integration', 75),\n",
       " ('ease', 75),\n",
       " ('bridgei2i', 75),\n",
       " ('key', 74),\n",
       " ('machinelearning', 73),\n",
       " ('3', 73),\n",
       " ('out', 69),\n",
       " ('customers', 68),\n",
       " ('technology', 68),\n",
       " ('improve', 67),\n",
       " ('supplychain', 67),\n",
       " ('cainc', 66),\n",
       " ('our', 66),\n",
       " ('derekinthecloud', 65),\n",
       " ('2', 64),\n",
       " ('4', 63)]"
      ]
     },
     "execution_count": 41,
     "metadata": {},
     "output_type": "execute_result"
    }
   ],
   "source": [
    "total_words.most_common(100)"
   ]
  },
  {
   "cell_type": "markdown",
   "metadata": {},
   "source": [
    "## Creating a column based on multiple conditions\n",
    "\n",
    "This function needs to be applied to the whole dataframe (see example below), and can be configured to create new columns based on multiple conditions. Keep in mind that you are working with each row separately."
   ]
  },
  {
   "cell_type": "code",
   "execution_count": 42,
   "metadata": {
    "collapsed": true,
    "jupyter": {
     "outputs_hidden": true
    }
   },
   "outputs": [],
   "source": [
    "def categorise_df(row):\n",
    "    # Here I am creating a new column (called user_type) and giving it a default value (regular user)\n",
    "    row['user_type'] = 'regular user'\n",
    "    # I can put the conditions I want here\n",
    "    if (row['from_user_followercount'] > 2000) and (row['from_user_friendcount'] < 2000):\n",
    "        row['user_type'] = 'celebrity'\n",
    "        \n",
    "    if (row['from_user_followercount'] <= 2000) and (row['from_user_friendcount'] >= 2000):\n",
    "        row['user_type'] = 'bot'\n",
    "        \n",
    "    # You can modify this function as much as you want (above), but it must always return the row\n",
    "    return row\n",
    "        \n",
    "    "
   ]
  },
  {
   "cell_type": "code",
   "execution_count": 43,
   "metadata": {
    "collapsed": true,
    "jupyter": {
     "outputs_hidden": true
    }
   },
   "outputs": [],
   "source": [
    "tweets2 = tweets.apply(categorise_df, axis=1)"
   ]
  },
  {
   "cell_type": "code",
   "execution_count": 44,
   "metadata": {},
   "outputs": [
    {
     "data": {
      "text/html": [
       "<div>\n",
       "<table border=\"1\" class=\"dataframe\">\n",
       "  <thead>\n",
       "    <tr style=\"text-align: right;\">\n",
       "      <th></th>\n",
       "      <th>from_user_followercount</th>\n",
       "      <th>from_user_friendcount</th>\n",
       "      <th>user_type</th>\n",
       "    </tr>\n",
       "  </thead>\n",
       "  <tbody>\n",
       "    <tr>\n",
       "      <th>0</th>\n",
       "      <td>6</td>\n",
       "      <td>0</td>\n",
       "      <td>regular user</td>\n",
       "    </tr>\n",
       "    <tr>\n",
       "      <th>1</th>\n",
       "      <td>594</td>\n",
       "      <td>745</td>\n",
       "      <td>regular user</td>\n",
       "    </tr>\n",
       "    <tr>\n",
       "      <th>2</th>\n",
       "      <td>13</td>\n",
       "      <td>0</td>\n",
       "      <td>regular user</td>\n",
       "    </tr>\n",
       "    <tr>\n",
       "      <th>3</th>\n",
       "      <td>81</td>\n",
       "      <td>34</td>\n",
       "      <td>regular user</td>\n",
       "    </tr>\n",
       "    <tr>\n",
       "      <th>4</th>\n",
       "      <td>2327</td>\n",
       "      <td>3</td>\n",
       "      <td>celebrity</td>\n",
       "    </tr>\n",
       "  </tbody>\n",
       "</table>\n",
       "</div>"
      ],
      "text/plain": [
       "   from_user_followercount  from_user_friendcount     user_type\n",
       "0                        6                      0  regular user\n",
       "1                      594                    745  regular user\n",
       "2                       13                      0  regular user\n",
       "3                       81                     34  regular user\n",
       "4                     2327                      3     celebrity"
      ]
     },
     "execution_count": 44,
     "metadata": {},
     "output_type": "execute_result"
    }
   ],
   "source": [
    "tweets2[['from_user_followercount', 'from_user_friendcount', 'user_type']].head()"
   ]
  },
  {
   "cell_type": "code",
   "execution_count": 45,
   "metadata": {
    "collapsed": true,
    "jupyter": {
     "outputs_hidden": true
    }
   },
   "outputs": [],
   "source": [
    "tweets.to_pickle('tweets_Theo.pkl')"
   ]
  },
  {
   "cell_type": "code",
   "execution_count": null,
   "metadata": {
    "collapsed": true,
    "jupyter": {
     "outputs_hidden": true
    }
   },
   "outputs": [],
   "source": []
  },
  {
   "cell_type": "code",
   "execution_count": null,
   "metadata": {
    "collapsed": true,
    "jupyter": {
     "outputs_hidden": true
    }
   },
   "outputs": [],
   "source": []
  }
 ],
 "metadata": {
  "anaconda-cloud": {},
  "kernelspec": {
   "display_name": "Python 3",
   "language": "python",
   "name": "python3"
  },
  "language_info": {
   "codemirror_mode": {
    "name": "ipython",
    "version": 3
   },
   "file_extension": ".py",
   "mimetype": "text/x-python",
   "name": "python",
   "nbconvert_exporter": "python",
   "pygments_lexer": "ipython3",
   "version": "3.9.1"
  }
 },
 "nbformat": 4,
 "nbformat_minor": 4
}
