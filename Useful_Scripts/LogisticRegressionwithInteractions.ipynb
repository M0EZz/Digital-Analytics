{
 "cells": [
  {
   "cell_type": "markdown",
   "metadata": {},
   "source": [
    "# Additional information: Logistic Regression with interactions\n",
    "\n",
    "This extra notebook shows how you can do hypothesis testing with Logistic Regression checking for interactions (e.g., moderations) using statsmodels. \n",
    "\n",
    "**IMPORTANT:** The discussions about moderation are a lot more complex than what we're showing below. These steps are only valid for the Digital Analytics course, and as a preliminary set of steps so you can use statsmodels/logistic regression. For your thesis (or other work for the master), please follow the general instructions from the methods courses.\n",
    "\n",
    "Here we will be using a simulated dataset that you can [download directly from dropbox](https://www.dropbox.com/s/ayv08411gt51uk9/web_campaign_simulated.xlsx?dl=0). \n"
   ]
  },
  {
   "cell_type": "code",
   "execution_count": 1,
   "metadata": {
    "collapsed": true
   },
   "outputs": [],
   "source": [
    "import pandas as pd\n",
    "import seaborn as sns\n",
    "import numpy as np\n",
    "import matplotlib.pyplot as plt\n",
    "%matplotlib inline"
   ]
  },
  {
   "cell_type": "markdown",
   "metadata": {},
   "source": [
    "# 1. Data cleaning\n",
    "(Note: same steps as in the tutorial)"
   ]
  },
  {
   "cell_type": "code",
   "execution_count": 2,
   "metadata": {
    "collapsed": true
   },
   "outputs": [],
   "source": [
    "webdata = pd.read_excel('web_campaign_simulated.xlsx')"
   ]
  },
  {
   "cell_type": "code",
   "execution_count": 3,
   "metadata": {
    "collapsed": true
   },
   "outputs": [],
   "source": [
    "def check_referral(referral, site):\n",
    "    if referral == site:\n",
    "        return 1\n",
    "    return 0"
   ]
  },
  {
   "cell_type": "code",
   "execution_count": 4,
   "metadata": {
    "collapsed": true
   },
   "outputs": [],
   "source": [
    "webdata['google'] = webdata['referral'].apply(check_referral, args=('google',))\n",
    "webdata['facebook'] = webdata['referral'].apply(check_referral, args=('facebook',))\n",
    "webdata['news_a'] = webdata['referral'].apply(check_referral, args=('newsletter A',))\n",
    "webdata['news_b'] = webdata['referral'].apply(check_referral, args=('newsletter B',))\n",
    "webdata['nyt'] = webdata['referral'].apply(check_referral, args=('nyt',))\n",
    "webdata['tumblr'] = webdata['referral'].apply(check_referral, args=('tumblr',))\n",
    "webdata['twitter'] = webdata['referral'].apply(check_referral, args=('twitter',))\n"
   ]
  },
  {
   "cell_type": "code",
   "execution_count": 5,
   "metadata": {},
   "outputs": [
    {
     "data": {
      "text/plain": [
       "Index(['id', 'age', 'female', 'used_search', 'referral', 'time_spent',\n",
       "       'campaign_1', 'campaign_2', 'click', 'sell', 'spent', 'google',\n",
       "       'facebook', 'news_a', 'news_b', 'nyt', 'tumblr', 'twitter'],\n",
       "      dtype='object')"
      ]
     },
     "execution_count": 5,
     "metadata": {},
     "output_type": "execute_result"
    }
   ],
   "source": [
    "webdata.columns"
   ]
  },
  {
   "cell_type": "code",
   "execution_count": 24,
   "metadata": {},
   "outputs": [
    {
     "data": {
      "text/html": [
       "<div>\n",
       "<style>\n",
       "    .dataframe thead tr:only-child th {\n",
       "        text-align: right;\n",
       "    }\n",
       "\n",
       "    .dataframe thead th {\n",
       "        text-align: left;\n",
       "    }\n",
       "\n",
       "    .dataframe tbody tr th {\n",
       "        vertical-align: top;\n",
       "    }\n",
       "</style>\n",
       "<table border=\"1\" class=\"dataframe\">\n",
       "  <thead>\n",
       "    <tr style=\"text-align: right;\">\n",
       "      <th></th>\n",
       "      <th>count</th>\n",
       "      <th>mean</th>\n",
       "      <th>std</th>\n",
       "      <th>min</th>\n",
       "      <th>25%</th>\n",
       "      <th>50%</th>\n",
       "      <th>75%</th>\n",
       "      <th>max</th>\n",
       "    </tr>\n",
       "  </thead>\n",
       "  <tbody>\n",
       "    <tr>\n",
       "      <th>id</th>\n",
       "      <td>9010.0</td>\n",
       "      <td>2141.001887</td>\n",
       "      <td>670.144769</td>\n",
       "      <td>1.0</td>\n",
       "      <td>2253.25</td>\n",
       "      <td>2483.0</td>\n",
       "      <td>2483.0</td>\n",
       "      <td>2483.0</td>\n",
       "    </tr>\n",
       "    <tr>\n",
       "      <th>age</th>\n",
       "      <td>9010.0</td>\n",
       "      <td>28.344728</td>\n",
       "      <td>11.573714</td>\n",
       "      <td>18.0</td>\n",
       "      <td>23.00</td>\n",
       "      <td>23.0</td>\n",
       "      <td>23.0</td>\n",
       "      <td>67.0</td>\n",
       "    </tr>\n",
       "    <tr>\n",
       "      <th>female</th>\n",
       "      <td>9010.0</td>\n",
       "      <td>0.140622</td>\n",
       "      <td>0.347650</td>\n",
       "      <td>0.0</td>\n",
       "      <td>0.00</td>\n",
       "      <td>0.0</td>\n",
       "      <td>0.0</td>\n",
       "      <td>1.0</td>\n",
       "    </tr>\n",
       "    <tr>\n",
       "      <th>used_search</th>\n",
       "      <td>9010.0</td>\n",
       "      <td>0.862486</td>\n",
       "      <td>0.344408</td>\n",
       "      <td>0.0</td>\n",
       "      <td>1.00</td>\n",
       "      <td>1.0</td>\n",
       "      <td>1.0</td>\n",
       "      <td>1.0</td>\n",
       "    </tr>\n",
       "    <tr>\n",
       "      <th>time_spent</th>\n",
       "      <td>9010.0</td>\n",
       "      <td>188.782464</td>\n",
       "      <td>108.709242</td>\n",
       "      <td>1.0</td>\n",
       "      <td>96.00</td>\n",
       "      <td>187.0</td>\n",
       "      <td>282.0</td>\n",
       "      <td>380.0</td>\n",
       "    </tr>\n",
       "    <tr>\n",
       "      <th>campaign_1</th>\n",
       "      <td>9010.0</td>\n",
       "      <td>0.863929</td>\n",
       "      <td>0.342883</td>\n",
       "      <td>0.0</td>\n",
       "      <td>1.00</td>\n",
       "      <td>1.0</td>\n",
       "      <td>1.0</td>\n",
       "      <td>1.0</td>\n",
       "    </tr>\n",
       "    <tr>\n",
       "      <th>campaign_2</th>\n",
       "      <td>9010.0</td>\n",
       "      <td>0.863263</td>\n",
       "      <td>0.343589</td>\n",
       "      <td>0.0</td>\n",
       "      <td>1.00</td>\n",
       "      <td>1.0</td>\n",
       "      <td>1.0</td>\n",
       "      <td>1.0</td>\n",
       "    </tr>\n",
       "    <tr>\n",
       "      <th>click</th>\n",
       "      <td>9010.0</td>\n",
       "      <td>0.386903</td>\n",
       "      <td>0.487068</td>\n",
       "      <td>0.0</td>\n",
       "      <td>0.00</td>\n",
       "      <td>0.0</td>\n",
       "      <td>1.0</td>\n",
       "      <td>1.0</td>\n",
       "    </tr>\n",
       "    <tr>\n",
       "      <th>sell</th>\n",
       "      <td>9010.0</td>\n",
       "      <td>0.700222</td>\n",
       "      <td>0.458186</td>\n",
       "      <td>0.0</td>\n",
       "      <td>0.00</td>\n",
       "      <td>1.0</td>\n",
       "      <td>1.0</td>\n",
       "      <td>1.0</td>\n",
       "    </tr>\n",
       "    <tr>\n",
       "      <th>spent</th>\n",
       "      <td>6309.0</td>\n",
       "      <td>80.705183</td>\n",
       "      <td>41.088255</td>\n",
       "      <td>10.0</td>\n",
       "      <td>45.00</td>\n",
       "      <td>81.0</td>\n",
       "      <td>117.0</td>\n",
       "      <td>150.0</td>\n",
       "    </tr>\n",
       "    <tr>\n",
       "      <th>google</th>\n",
       "      <td>9010.0</td>\n",
       "      <td>0.208546</td>\n",
       "      <td>0.406292</td>\n",
       "      <td>0.0</td>\n",
       "      <td>0.00</td>\n",
       "      <td>0.0</td>\n",
       "      <td>0.0</td>\n",
       "      <td>1.0</td>\n",
       "    </tr>\n",
       "    <tr>\n",
       "      <th>facebook</th>\n",
       "      <td>9010.0</td>\n",
       "      <td>0.102442</td>\n",
       "      <td>0.303245</td>\n",
       "      <td>0.0</td>\n",
       "      <td>0.00</td>\n",
       "      <td>0.0</td>\n",
       "      <td>0.0</td>\n",
       "      <td>1.0</td>\n",
       "    </tr>\n",
       "    <tr>\n",
       "      <th>news_a</th>\n",
       "      <td>9010.0</td>\n",
       "      <td>0.096448</td>\n",
       "      <td>0.295222</td>\n",
       "      <td>0.0</td>\n",
       "      <td>0.00</td>\n",
       "      <td>0.0</td>\n",
       "      <td>0.0</td>\n",
       "      <td>1.0</td>\n",
       "    </tr>\n",
       "    <tr>\n",
       "      <th>news_b</th>\n",
       "      <td>9010.0</td>\n",
       "      <td>0.101221</td>\n",
       "      <td>0.301638</td>\n",
       "      <td>0.0</td>\n",
       "      <td>0.00</td>\n",
       "      <td>0.0</td>\n",
       "      <td>0.0</td>\n",
       "      <td>1.0</td>\n",
       "    </tr>\n",
       "    <tr>\n",
       "      <th>nyt</th>\n",
       "      <td>9010.0</td>\n",
       "      <td>0.095339</td>\n",
       "      <td>0.293698</td>\n",
       "      <td>0.0</td>\n",
       "      <td>0.00</td>\n",
       "      <td>0.0</td>\n",
       "      <td>0.0</td>\n",
       "      <td>1.0</td>\n",
       "    </tr>\n",
       "    <tr>\n",
       "      <th>tumblr</th>\n",
       "      <td>9010.0</td>\n",
       "      <td>0.097558</td>\n",
       "      <td>0.296733</td>\n",
       "      <td>0.0</td>\n",
       "      <td>0.00</td>\n",
       "      <td>0.0</td>\n",
       "      <td>0.0</td>\n",
       "      <td>1.0</td>\n",
       "    </tr>\n",
       "    <tr>\n",
       "      <th>twitter</th>\n",
       "      <td>9010.0</td>\n",
       "      <td>0.095339</td>\n",
       "      <td>0.293698</td>\n",
       "      <td>0.0</td>\n",
       "      <td>0.00</td>\n",
       "      <td>0.0</td>\n",
       "      <td>0.0</td>\n",
       "      <td>1.0</td>\n",
       "    </tr>\n",
       "  </tbody>\n",
       "</table>\n",
       "</div>"
      ],
      "text/plain": [
       "              count         mean         std   min      25%     50%     75%  \\\n",
       "id           9010.0  2141.001887  670.144769   1.0  2253.25  2483.0  2483.0   \n",
       "age          9010.0    28.344728   11.573714  18.0    23.00    23.0    23.0   \n",
       "female       9010.0     0.140622    0.347650   0.0     0.00     0.0     0.0   \n",
       "used_search  9010.0     0.862486    0.344408   0.0     1.00     1.0     1.0   \n",
       "time_spent   9010.0   188.782464  108.709242   1.0    96.00   187.0   282.0   \n",
       "campaign_1   9010.0     0.863929    0.342883   0.0     1.00     1.0     1.0   \n",
       "campaign_2   9010.0     0.863263    0.343589   0.0     1.00     1.0     1.0   \n",
       "click        9010.0     0.386903    0.487068   0.0     0.00     0.0     1.0   \n",
       "sell         9010.0     0.700222    0.458186   0.0     0.00     1.0     1.0   \n",
       "spent        6309.0    80.705183   41.088255  10.0    45.00    81.0   117.0   \n",
       "google       9010.0     0.208546    0.406292   0.0     0.00     0.0     0.0   \n",
       "facebook     9010.0     0.102442    0.303245   0.0     0.00     0.0     0.0   \n",
       "news_a       9010.0     0.096448    0.295222   0.0     0.00     0.0     0.0   \n",
       "news_b       9010.0     0.101221    0.301638   0.0     0.00     0.0     0.0   \n",
       "nyt          9010.0     0.095339    0.293698   0.0     0.00     0.0     0.0   \n",
       "tumblr       9010.0     0.097558    0.296733   0.0     0.00     0.0     0.0   \n",
       "twitter      9010.0     0.095339    0.293698   0.0     0.00     0.0     0.0   \n",
       "\n",
       "                max  \n",
       "id           2483.0  \n",
       "age            67.0  \n",
       "female          1.0  \n",
       "used_search     1.0  \n",
       "time_spent    380.0  \n",
       "campaign_1      1.0  \n",
       "campaign_2      1.0  \n",
       "click           1.0  \n",
       "sell            1.0  \n",
       "spent         150.0  \n",
       "google          1.0  \n",
       "facebook        1.0  \n",
       "news_a          1.0  \n",
       "news_b          1.0  \n",
       "nyt             1.0  \n",
       "tumblr          1.0  \n",
       "twitter         1.0  "
      ]
     },
     "execution_count": 24,
     "metadata": {},
     "output_type": "execute_result"
    }
   ],
   "source": [
    "webdata.describe().transpose()"
   ]
  },
  {
   "cell_type": "markdown",
   "metadata": {},
   "source": [
    "## 2. Hypothesis testing with statsmodels - using interactions\n",
    "\n",
    "\n",
    "Let's say that we want to check how coming from Google may interact with the effect of the variable Sell, so we want to check the interaction effects, and also control for time_spent. If we just wanted to create a model with both variables (with separate effects) in statsmodels, we'd do the following steps:"
   ]
  },
  {
   "cell_type": "code",
   "execution_count": 76,
   "metadata": {},
   "outputs": [],
   "source": [
    "import statsmodels.api as sm\n"
   ]
  },
  {
   "cell_type": "code",
   "execution_count": 77,
   "metadata": {
    "collapsed": true
   },
   "outputs": [],
   "source": [
    "import statsmodels.formula.api as smf"
   ]
  },
  {
   "cell_type": "code",
   "execution_count": 78,
   "metadata": {
    "collapsed": true
   },
   "outputs": [],
   "source": [
    "features = ['google', 'sell', 'time_spent']"
   ]
  },
  {
   "cell_type": "code",
   "execution_count": 79,
   "metadata": {},
   "outputs": [],
   "source": [
    "logit_model = sm.Logit(webdata['click'], sm.add_constant(webdata[features]))\n",
    "\n",
    "\n"
   ]
  },
  {
   "cell_type": "code",
   "execution_count": 80,
   "metadata": {},
   "outputs": [
    {
     "name": "stdout",
     "output_type": "stream",
     "text": [
      "Optimization terminated successfully.\n",
      "         Current function value: 0.634819\n",
      "         Iterations 5\n"
     ]
    }
   ],
   "source": [
    "result = logit_model.fit()"
   ]
  },
  {
   "cell_type": "code",
   "execution_count": 81,
   "metadata": {},
   "outputs": [
    {
     "name": "stdout",
     "output_type": "stream",
     "text": [
      "                           Logit Regression Results                           \n",
      "==============================================================================\n",
      "Dep. Variable:                  click   No. Observations:                 9010\n",
      "Model:                          Logit   Df Residuals:                     9006\n",
      "Method:                           MLE   Df Model:                            3\n",
      "Date:                Tue, 24 Oct 2017   Pseudo R-squ.:                 0.04874\n",
      "Time:                        17:26:09   Log-Likelihood:                -5719.7\n",
      "converged:                       True   LL-Null:                       -6012.8\n",
      "                                        LLR p-value:                1.050e-126\n",
      "==============================================================================\n",
      "                 coef    std err          z      P>|z|      [0.025      0.975]\n",
      "------------------------------------------------------------------------------\n",
      "const         -1.5510      0.062    -24.828      0.000      -1.673      -1.429\n",
      "google        -0.0013      0.055     -0.024      0.981      -0.109       0.106\n",
      "sell           1.1863      0.054     22.030      0.000       1.081       1.292\n",
      "time_spent     0.0011      0.000      5.535      0.000       0.001       0.002\n",
      "==============================================================================\n"
     ]
    }
   ],
   "source": [
    "print(result.summary())\n"
   ]
  },
  {
   "cell_type": "markdown",
   "metadata": {
    "collapsed": true
   },
   "source": [
    "Here we have the effects of each independent variable separately. But we can also check for interactions. \n",
    "\n",
    "To do so, we use statsmodels in a slightly different manner. We'll first see how to get the same results (above) if you use a formula. The formula is defined by including the dependent variable (clicks) comes first, followed by a ~ and then the predictors. \n",
    "\n",
    "Note that you need to import some additional modules."
   ]
  },
  {
   "cell_type": "code",
   "execution_count": 82,
   "metadata": {
    "collapsed": true
   },
   "outputs": [],
   "source": [
    "import statsmodels.api as sm\n",
    "import statsmodels.formula.api as smf"
   ]
  },
  {
   "cell_type": "code",
   "execution_count": 85,
   "metadata": {},
   "outputs": [],
   "source": [
    "model1_maineffects = smf.glm(formula='click ~ google + sell + time_spent', data=webdata, family=sm.families.Binomial()).fit()"
   ]
  },
  {
   "cell_type": "code",
   "execution_count": 86,
   "metadata": {},
   "outputs": [
    {
     "name": "stdout",
     "output_type": "stream",
     "text": [
      "                 Generalized Linear Model Regression Results                  \n",
      "==============================================================================\n",
      "Dep. Variable:                  click   No. Observations:                 9010\n",
      "Model:                            GLM   Df Residuals:                     9006\n",
      "Model Family:                Binomial   Df Model:                            3\n",
      "Link Function:                  logit   Scale:                             1.0\n",
      "Method:                          IRLS   Log-Likelihood:                -5719.7\n",
      "Date:                Tue, 24 Oct 2017   Deviance:                       11439.\n",
      "Time:                        17:26:24   Pearson chi2:                 9.01e+03\n",
      "No. Iterations:                     4                                         \n",
      "==============================================================================\n",
      "                 coef    std err          z      P>|z|      [0.025      0.975]\n",
      "------------------------------------------------------------------------------\n",
      "Intercept     -1.5510      0.062    -24.828      0.000      -1.673      -1.429\n",
      "google        -0.0013      0.055     -0.024      0.981      -0.109       0.106\n",
      "sell           1.1863      0.054     22.030      0.000       1.081       1.292\n",
      "time_spent     0.0011      0.000      5.535      0.000       0.001       0.002\n",
      "==============================================================================\n"
     ]
    }
   ],
   "source": [
    "print(model1_maineffects.summary())"
   ]
  },
  {
   "cell_type": "markdown",
   "metadata": {},
   "source": [
    "The results are the same as running with the way we covered in class. However, now we can also modify the formula to check for interactions. So if I want to see the effects of interactions between sell and google, instead of having a plus sign between google and sell, I add an asterisk to ask for an interaction. The other variable (time_spent) is still separated by a plus sign."
   ]
  },
  {
   "cell_type": "code",
   "execution_count": 87,
   "metadata": {
    "collapsed": true
   },
   "outputs": [],
   "source": [
    "model2_interactions = smf.glm(formula='click ~ google * sell + time_spent', data=webdata, family=sm.families.Binomial()).fit()"
   ]
  },
  {
   "cell_type": "code",
   "execution_count": 88,
   "metadata": {},
   "outputs": [
    {
     "name": "stdout",
     "output_type": "stream",
     "text": [
      "                 Generalized Linear Model Regression Results                  \n",
      "==============================================================================\n",
      "Dep. Variable:                  click   No. Observations:                 9010\n",
      "Model:                            GLM   Df Residuals:                     9005\n",
      "Model Family:                Binomial   Df Model:                            4\n",
      "Link Function:                  logit   Scale:                             1.0\n",
      "Method:                          IRLS   Log-Likelihood:                -5716.5\n",
      "Date:                Tue, 24 Oct 2017   Deviance:                       11433.\n",
      "Time:                        17:26:51   Pearson chi2:                 9.01e+03\n",
      "No. Iterations:                     4                                         \n",
      "===============================================================================\n",
      "                  coef    std err          z      P>|z|      [0.025      0.975]\n",
      "-------------------------------------------------------------------------------\n",
      "Intercept      -1.6063      0.067    -24.080      0.000      -1.737      -1.476\n",
      "google          0.2532      0.113      2.249      0.025       0.032       0.474\n",
      "sell            1.2580      0.061     20.521      0.000       1.138       1.378\n",
      "google:sell    -0.3296      0.129     -2.561      0.010      -0.582      -0.077\n",
      "time_spent      0.0011      0.000      5.510      0.000       0.001       0.002\n",
      "===============================================================================\n"
     ]
    }
   ],
   "source": [
    "print(model2_interactions.summary())"
   ]
  },
  {
   "cell_type": "markdown",
   "metadata": {},
   "source": [
    "Above I can see the effect of time_spent, and also of sell and google (and their interaction). \n",
    "\n",
    "In the table, then:\n",
    "* sell is the effect of having a sale (sell = 1) without coming from google (google = 0)\n",
    "* google is the effect of coming from google (google = 1) and not having a sale (sell = 0)\n",
    "* google:sell is the effect of coming from google (google = 1) and having a sale (sell = 1)\n",
    "\n",
    "What we actually see in this model is that not coming from google but having a sale (sell) has a positive effect on clicks, whereas coming from google and having a sale (google:sell) has a negative effect on clicks. Interestingly, Google was not significant in the first model (just with main effects) but was when the interaction was considered.\n",
    "\n",
    "**Important:** In the tests you'd normally do in SPSS to check for moderation (for example, for your thesis), you'd probably have to go a lot deeper than this, and may have different assumptions (e.g., you may not test for interactions if the main effects are not significant, or may want to use PROCESS). That said, *specifically for the digital analytics course, and for logistic regressions done in Pandas/Statsmodels*, doing the above is sufficient to check for the interactions and see if you can speak of any moderation effects.\n",
    "\n"
   ]
  },
  {
   "cell_type": "code",
   "execution_count": null,
   "metadata": {
    "collapsed": true
   },
   "outputs": [],
   "source": []
  }
 ],
 "metadata": {
  "anaconda-cloud": {},
  "kernelspec": {
   "display_name": "Python 3",
   "language": "python",
   "name": "python3"
  },
  "language_info": {
   "codemirror_mode": {
    "name": "ipython",
    "version": 3
   },
   "file_extension": ".py",
   "mimetype": "text/x-python",
   "name": "python",
   "nbconvert_exporter": "python",
   "pygments_lexer": "ipython3",
   "version": "3.6.2"
  },
  "latex_envs": {
   "bibliofile": "biblio.bib",
   "cite_by": "apalike",
   "current_citInitial": 1,
   "eqLabelWithNumbers": true,
   "eqNumInitial": 0
  }
 },
 "nbformat": 4,
 "nbformat_minor": 1
}
