{
 "cells": [
  {
   "cell_type": "markdown",
   "id": "prescribed-penny",
   "metadata": {},
   "source": [
    "# Warm-up challenges for week 4\n",
    "\n",
    "Now that we've seen how to clean in Pandas, it's time for you to apply this knowledge. This week has three preparatory challenges. Make sure to give it a try and complete all of them. \n",
    "\n",
    "Each challenge has two components:\n",
    "1. **Programming and interpretation**\n",
    "3. **Reflection**\n",
    "\n",
    "**Some important notes for the challenges:**\n",
    "1. These challenges are a warming up, and help you get ready for class. Make sure to give them a try on all of them. \n",
    "2. If you get an error message, try to troubleshoot it (using Google often helps). If all else fails, go to the next challenge (but make sure to give it a try).\n",
    "3. These challenges are ungraded, yet they help you prepare for the graded challenges in the portfolio. If you want to be efficient, have a look at what you need to do for the upcoming graded challenges and see how to combine the work.\n",
    "\n",
    "### Facing issues? \n",
    "\n",
    "We are constantly monitoring the issues on the GitHub to help you out. Don't hesitate to log an issue there, explaining well what the problem is, showing the code you are using, and the error message you may be receiving. \n",
    "\n",
    "**Important:** We are only monitoring the repository in weekdays, from 9.30 to 17.00. Issues logged after this time will most likely be answered the next day. \n",
    "\n",
    "\n",
    "### Using Markdown\n",
    "\n",
    "1. Make sure to combine code *and* markdown to answer all questions. Mention specifically the question (and question number) and the answer in markdown, relating to the code and the output of the code. For the graded challenges, failing to do so will impact the grade, as we will not be able to see whether you answered the question.\n",
    "2. For every line of code, please include a cell in MarkDown explaining what the code is expected to do.\n",
    "\n"
   ]
  },
  {
   "cell_type": "markdown",
   "id": "excessive-spanish",
   "metadata": {},
   "source": [
    "## Getting setup for the challenges\n",
    "\n",
    "We will use actual Twitter data for the challenges of this week. To do so, you need:\n",
    "* Twitter data you have collected using twarc. Please use **the same data** that you requested sentiment analysis for\n",
    "* The sentiment analysis results (get them from OneDrive)\n",
    "\n",
    "*You can therefore  the code you created for the DA3 challenges where you merged your Twitter data with the sentiment data and created a meaningful sentiment measure, and just continue from there. If you have not completed DA3, make sure to perfom these steps for this assignment*.\n",
    "\n",
    "**All the challenges below are with this Twitter data. Make sure to start your challenge by doing the basics of loading and inspecting the data, even if not specified in challenge itself.**\n",
    "\n"
   ]
  },
  {
   "cell_type": "markdown",
   "id": "solar-manitoba",
   "metadata": {},
   "source": [
    "## Challenge 1\n",
    "\n",
    "In the tutorial of last week, we created a categorical variable using conditions. This week, we have seen how to create binary variables based on text applying simple Natural Language Processing and how to \"recode\" variables using conditions.\n",
    "\n",
    "### Programming challenge\n",
    "\n",
    "For this challenge, create two variables for the Twitter data based on the text column. They should be two **meaningful** categories for your data, and they can either be binary taking the value 0 (when the tweet is not of that category) or 1 (when the tweet is of that category) or categorical with multiple meaningful categories that a tweet can fall under.\n",
    "\n",
    "Make sure to explain (in MarkDown) what these variables are, and provide some descriptives when they are done.\n",
    "\n",
    "\n",
    "### Reflection\n",
    "\n",
    "When using digital analytics to answer questions and solve problems, multiple decisions have to be made at different stages of the project that may result in bias. This also applies to data collection and pre-processing. When collecting data, choices made can introduce bias into the data.  Data pre-processing, including creating categories can also be an additional source of bias. In fact, using Natural Language Processing for categorization of cases in our dataset (e.g., for categorizing tweets), we can reduce the complexity of the dataset and get a better picture of our data, but also introduce more layers of bias into it. \n",
    "\n",
    "Building on the layers of bias described by Eckhouse et al. (2019), reflect on the types of bias possibly introduced to your dataset due to choices made \n",
    "1) when collecting twitter data \n",
    "2) when creating categories it in this challenge.\n",
    "\n",
    "Please make sure to motivate your response, and provide specific examples\n",
    "\n"
   ]
  },
  {
   "cell_type": "markdown",
   "id": "excited-donna",
   "metadata": {},
   "source": [
    "For challange one, I need:\n",
    "* categorical variable created based on text - Tweets that mention digital media tech companies (Apple, Google, Facebook) - my wordlist: `[\"apple\", \"google\", \"facebook\"]`\n",
    "* categorical variable created based on text - Tweets that mention EU or US"
   ]
  },
  {
   "cell_type": "code",
   "execution_count": 3,
   "id": "naval-stopping",
   "metadata": {},
   "outputs": [],
   "source": [
    "import pandas as pd\n",
    "import seaborn as sns\n",
    "pd.set_option('display.float_format', lambda x: '%.3f' % x)\n",
    "%matplotlib inline"
   ]
  },
  {
   "cell_type": "code",
   "execution_count": 4,
   "id": "respected-tackle",
   "metadata": {},
   "outputs": [],
   "source": [
    "df = pd.read_pickle('tweets_sent.pkl')"
   ]
  },
  {
   "cell_type": "markdown",
   "id": "compact-radio",
   "metadata": {},
   "source": [
    "### Data exploration"
   ]
  },
  {
   "cell_type": "code",
   "execution_count": 5,
   "id": "bearing-party",
   "metadata": {},
   "outputs": [
    {
     "data": {
      "text/html": [
       "<div>\n",
       "<style scoped>\n",
       "    .dataframe tbody tr th:only-of-type {\n",
       "        vertical-align: middle;\n",
       "    }\n",
       "\n",
       "    .dataframe tbody tr th {\n",
       "        vertical-align: top;\n",
       "    }\n",
       "\n",
       "    .dataframe thead th {\n",
       "        text-align: right;\n",
       "    }\n",
       "</style>\n",
       "<table border=\"1\" class=\"dataframe\">\n",
       "  <thead>\n",
       "    <tr style=\"text-align: right;\">\n",
       "      <th></th>\n",
       "      <th>id</th>\n",
       "      <th>text</th>\n",
       "      <th>metric_retweet_count</th>\n",
       "      <th>metric_followers_count</th>\n",
       "      <th>metric_like_count</th>\n",
       "      <th>pseudID</th>\n",
       "      <th>positive</th>\n",
       "      <th>negative</th>\n",
       "      <th>neutral</th>\n",
       "    </tr>\n",
       "  </thead>\n",
       "  <tbody>\n",
       "    <tr>\n",
       "      <th>0</th>\n",
       "      <td>1438405322603999239</td>\n",
       "      <td>RT @mention .@mention is trying to skirt human...</td>\n",
       "      <td>118</td>\n",
       "      <td>21</td>\n",
       "      <td>0</td>\n",
       "      <td>1</td>\n",
       "      <td>1</td>\n",
       "      <td>-1</td>\n",
       "      <td>0</td>\n",
       "    </tr>\n",
       "    <tr>\n",
       "      <th>1</th>\n",
       "      <td>1438405320204853248</td>\n",
       "      <td>“conspiracy practices —the methods by which tr...</td>\n",
       "      <td>0</td>\n",
       "      <td>879</td>\n",
       "      <td>0</td>\n",
       "      <td>2</td>\n",
       "      <td>2</td>\n",
       "      <td>-2</td>\n",
       "      <td>-1</td>\n",
       "    </tr>\n",
       "    <tr>\n",
       "      <th>2</th>\n",
       "      <td>1438405307693027328</td>\n",
       "      <td>@mention Have you done any work to estimate th...</td>\n",
       "      <td>0</td>\n",
       "      <td>230</td>\n",
       "      <td>0</td>\n",
       "      <td>3</td>\n",
       "      <td>1</td>\n",
       "      <td>-1</td>\n",
       "      <td>0</td>\n",
       "    </tr>\n",
       "    <tr>\n",
       "      <th>3</th>\n",
       "      <td>1438405226801807364</td>\n",
       "      <td>📝We have examined the design, implementation a...</td>\n",
       "      <td>0</td>\n",
       "      <td>12992</td>\n",
       "      <td>0</td>\n",
       "      <td>5</td>\n",
       "      <td>2</td>\n",
       "      <td>-3</td>\n",
       "      <td>-1</td>\n",
       "    </tr>\n",
       "    <tr>\n",
       "      <th>4</th>\n",
       "      <td>1438405184544067589</td>\n",
       "      <td>first time trying out the #sarkargame. and, it...</td>\n",
       "      <td>0</td>\n",
       "      <td>197</td>\n",
       "      <td>0</td>\n",
       "      <td>6</td>\n",
       "      <td>2</td>\n",
       "      <td>-4</td>\n",
       "      <td>-1</td>\n",
       "    </tr>\n",
       "    <tr>\n",
       "      <th>5</th>\n",
       "      <td>1438405167460749316</td>\n",
       "      <td>RT @mention We wanted flying cars. Instead we ...</td>\n",
       "      <td>256</td>\n",
       "      <td>284</td>\n",
       "      <td>0</td>\n",
       "      <td>7</td>\n",
       "      <td>1</td>\n",
       "      <td>-1</td>\n",
       "      <td>0</td>\n",
       "    </tr>\n",
       "    <tr>\n",
       "      <th>6</th>\n",
       "      <td>1438405155976843268</td>\n",
       "      <td>RT @mention \"Remember when Facebook CEO Mark Z...</td>\n",
       "      <td>861</td>\n",
       "      <td>229</td>\n",
       "      <td>0</td>\n",
       "      <td>8</td>\n",
       "      <td>2</td>\n",
       "      <td>-1</td>\n",
       "      <td>1</td>\n",
       "    </tr>\n",
       "    <tr>\n",
       "      <th>7</th>\n",
       "      <td>1438404986283646978</td>\n",
       "      <td>RT @mention The US-led war on terror, in the g...</td>\n",
       "      <td>34</td>\n",
       "      <td>16529</td>\n",
       "      <td>0</td>\n",
       "      <td>11</td>\n",
       "      <td>1</td>\n",
       "      <td>-4</td>\n",
       "      <td>-1</td>\n",
       "    </tr>\n",
       "    <tr>\n",
       "      <th>8</th>\n",
       "      <td>1438404982278004738</td>\n",
       "      <td>RT @mention Modi govt’s refusal to submit an a...</td>\n",
       "      <td>160</td>\n",
       "      <td>8</td>\n",
       "      <td>0</td>\n",
       "      <td>12</td>\n",
       "      <td>1</td>\n",
       "      <td>-2</td>\n",
       "      <td>-1</td>\n",
       "    </tr>\n",
       "    <tr>\n",
       "      <th>9</th>\n",
       "      <td>1438404913642577928</td>\n",
       "      <td>RT @mention 📢#OUTNOW | @mention and @mention g...</td>\n",
       "      <td>3</td>\n",
       "      <td>191</td>\n",
       "      <td>0</td>\n",
       "      <td>13</td>\n",
       "      <td>1</td>\n",
       "      <td>-1</td>\n",
       "      <td>0</td>\n",
       "    </tr>\n",
       "    <tr>\n",
       "      <th>10</th>\n",
       "      <td>1438404847406100481</td>\n",
       "      <td>We're set up and ready here at @mention #OPSEC...</td>\n",
       "      <td>0</td>\n",
       "      <td>2418</td>\n",
       "      <td>0</td>\n",
       "      <td>15</td>\n",
       "      <td>2</td>\n",
       "      <td>-1</td>\n",
       "      <td>1</td>\n",
       "    </tr>\n",
       "    <tr>\n",
       "      <th>11</th>\n",
       "      <td>1438404839114002435</td>\n",
       "      <td>Critics condemn the UK’s increasingly privatis...</td>\n",
       "      <td>0</td>\n",
       "      <td>3869</td>\n",
       "      <td>0</td>\n",
       "      <td>16</td>\n",
       "      <td>2</td>\n",
       "      <td>-2</td>\n",
       "      <td>-1</td>\n",
       "    </tr>\n",
       "    <tr>\n",
       "      <th>12</th>\n",
       "      <td>1438404827499872261</td>\n",
       "      <td>The EuFMD, @mention @mention &amp;amp; @mention wi...</td>\n",
       "      <td>0</td>\n",
       "      <td>2612</td>\n",
       "      <td>0</td>\n",
       "      <td>17</td>\n",
       "      <td>2</td>\n",
       "      <td>-3</td>\n",
       "      <td>-1</td>\n",
       "    </tr>\n",
       "    <tr>\n",
       "      <th>13</th>\n",
       "      <td>1438404825700610048</td>\n",
       "      <td>Learn about our 10 year relationship with Affi...</td>\n",
       "      <td>0</td>\n",
       "      <td>69</td>\n",
       "      <td>0</td>\n",
       "      <td>18</td>\n",
       "      <td>1</td>\n",
       "      <td>-1</td>\n",
       "      <td>0</td>\n",
       "    </tr>\n",
       "    <tr>\n",
       "      <th>14</th>\n",
       "      <td>1438404822848327683</td>\n",
       "      <td>RT @mention 'Spyware like Pegasus is incompati...</td>\n",
       "      <td>12</td>\n",
       "      <td>118</td>\n",
       "      <td>0</td>\n",
       "      <td>19</td>\n",
       "      <td>2</td>\n",
       "      <td>-3</td>\n",
       "      <td>-1</td>\n",
       "    </tr>\n",
       "    <tr>\n",
       "      <th>15</th>\n",
       "      <td>1438404785628139525</td>\n",
       "      <td>RT @mention The plans being currently being la...</td>\n",
       "      <td>84</td>\n",
       "      <td>14</td>\n",
       "      <td>0</td>\n",
       "      <td>21</td>\n",
       "      <td>1</td>\n",
       "      <td>-2</td>\n",
       "      <td>-1</td>\n",
       "    </tr>\n",
       "    <tr>\n",
       "      <th>16</th>\n",
       "      <td>1438404715360837632</td>\n",
       "      <td>RT @mention In Connecticut, The New \"Permanent...</td>\n",
       "      <td>51</td>\n",
       "      <td>177</td>\n",
       "      <td>0</td>\n",
       "      <td>22</td>\n",
       "      <td>1</td>\n",
       "      <td>-1</td>\n",
       "      <td>0</td>\n",
       "    </tr>\n",
       "    <tr>\n",
       "      <th>17</th>\n",
       "      <td>1438404708096434181</td>\n",
       "      <td>@mention @mention @mention @mention @mention M...</td>\n",
       "      <td>0</td>\n",
       "      <td>66</td>\n",
       "      <td>0</td>\n",
       "      <td>23</td>\n",
       "      <td>1</td>\n",
       "      <td>-1</td>\n",
       "      <td>0</td>\n",
       "    </tr>\n",
       "    <tr>\n",
       "      <th>18</th>\n",
       "      <td>1438404705206472707</td>\n",
       "      <td>Telenor company’s asia head told that they had...</td>\n",
       "      <td>0</td>\n",
       "      <td>206</td>\n",
       "      <td>0</td>\n",
       "      <td>24</td>\n",
       "      <td>1</td>\n",
       "      <td>-2</td>\n",
       "      <td>-1</td>\n",
       "    </tr>\n",
       "    <tr>\n",
       "      <th>19</th>\n",
       "      <td>1438404691860262913</td>\n",
       "      <td>RT @mention Don’t forget about influenza…\\n\\nL...</td>\n",
       "      <td>1</td>\n",
       "      <td>1080</td>\n",
       "      <td>0</td>\n",
       "      <td>25</td>\n",
       "      <td>1</td>\n",
       "      <td>-1</td>\n",
       "      <td>0</td>\n",
       "    </tr>\n",
       "  </tbody>\n",
       "</table>\n",
       "</div>"
      ],
      "text/plain": [
       "                     id                                               text  \\\n",
       "0   1438405322603999239  RT @mention .@mention is trying to skirt human...   \n",
       "1   1438405320204853248  “conspiracy practices —the methods by which tr...   \n",
       "2   1438405307693027328  @mention Have you done any work to estimate th...   \n",
       "3   1438405226801807364  📝We have examined the design, implementation a...   \n",
       "4   1438405184544067589  first time trying out the #sarkargame. and, it...   \n",
       "5   1438405167460749316  RT @mention We wanted flying cars. Instead we ...   \n",
       "6   1438405155976843268  RT @mention \"Remember when Facebook CEO Mark Z...   \n",
       "7   1438404986283646978  RT @mention The US-led war on terror, in the g...   \n",
       "8   1438404982278004738  RT @mention Modi govt’s refusal to submit an a...   \n",
       "9   1438404913642577928  RT @mention 📢#OUTNOW | @mention and @mention g...   \n",
       "10  1438404847406100481  We're set up and ready here at @mention #OPSEC...   \n",
       "11  1438404839114002435  Critics condemn the UK’s increasingly privatis...   \n",
       "12  1438404827499872261  The EuFMD, @mention @mention &amp; @mention wi...   \n",
       "13  1438404825700610048  Learn about our 10 year relationship with Affi...   \n",
       "14  1438404822848327683  RT @mention 'Spyware like Pegasus is incompati...   \n",
       "15  1438404785628139525  RT @mention The plans being currently being la...   \n",
       "16  1438404715360837632  RT @mention In Connecticut, The New \"Permanent...   \n",
       "17  1438404708096434181  @mention @mention @mention @mention @mention M...   \n",
       "18  1438404705206472707  Telenor company’s asia head told that they had...   \n",
       "19  1438404691860262913  RT @mention Don’t forget about influenza…\\n\\nL...   \n",
       "\n",
       "    metric_retweet_count  metric_followers_count  metric_like_count pseudID  \\\n",
       "0                    118                      21                  0       1   \n",
       "1                      0                     879                  0       2   \n",
       "2                      0                     230                  0       3   \n",
       "3                      0                   12992                  0       5   \n",
       "4                      0                     197                  0       6   \n",
       "5                    256                     284                  0       7   \n",
       "6                    861                     229                  0       8   \n",
       "7                     34                   16529                  0      11   \n",
       "8                    160                       8                  0      12   \n",
       "9                      3                     191                  0      13   \n",
       "10                     0                    2418                  0      15   \n",
       "11                     0                    3869                  0      16   \n",
       "12                     0                    2612                  0      17   \n",
       "13                     0                      69                  0      18   \n",
       "14                    12                     118                  0      19   \n",
       "15                    84                      14                  0      21   \n",
       "16                    51                     177                  0      22   \n",
       "17                     0                      66                  0      23   \n",
       "18                     0                     206                  0      24   \n",
       "19                     1                    1080                  0      25   \n",
       "\n",
       "   positive negative neutral  \n",
       "0         1       -1       0  \n",
       "1         2       -2      -1  \n",
       "2         1       -1       0  \n",
       "3         2       -3      -1  \n",
       "4         2       -4      -1  \n",
       "5         1       -1       0  \n",
       "6         2       -1       1  \n",
       "7         1       -4      -1  \n",
       "8         1       -2      -1  \n",
       "9         1       -1       0  \n",
       "10        2       -1       1  \n",
       "11        2       -2      -1  \n",
       "12        2       -3      -1  \n",
       "13        1       -1       0  \n",
       "14        2       -3      -1  \n",
       "15        1       -2      -1  \n",
       "16        1       -1       0  \n",
       "17        1       -1       0  \n",
       "18        1       -2      -1  \n",
       "19        1       -1       0  "
      ]
     },
     "execution_count": 5,
     "metadata": {},
     "output_type": "execute_result"
    }
   ],
   "source": [
    "df.head(20)"
   ]
  },
  {
   "cell_type": "code",
   "execution_count": 6,
   "id": "sacred-deputy",
   "metadata": {},
   "outputs": [
    {
     "data": {
      "text/plain": [
       "Index(['id', 'text', 'metric_retweet_count', 'metric_followers_count',\n",
       "       'metric_like_count', 'pseudID', 'positive', 'negative', 'neutral'],\n",
       "      dtype='object')"
      ]
     },
     "execution_count": 6,
     "metadata": {},
     "output_type": "execute_result"
    }
   ],
   "source": [
    "df.columns"
   ]
  },
  {
   "cell_type": "code",
   "execution_count": 7,
   "id": "numerous-flash",
   "metadata": {},
   "outputs": [
    {
     "data": {
      "text/plain": [
       "id                         int64\n",
       "text                      object\n",
       "metric_retweet_count       int64\n",
       "metric_followers_count     int64\n",
       "metric_like_count          int64\n",
       "pseudID                   object\n",
       "positive                  object\n",
       "negative                  object\n",
       "neutral                   object\n",
       "dtype: object"
      ]
     },
     "execution_count": 7,
     "metadata": {},
     "output_type": "execute_result"
    }
   ],
   "source": [
    "df.dtypes"
   ]
  },
  {
   "cell_type": "markdown",
   "id": "banned-tuning",
   "metadata": {},
   "source": [
    "Question: what to do with retweets?\n",
    "\n",
    "Let's check how many I have"
   ]
  },
  {
   "cell_type": "code",
   "execution_count": 8,
   "id": "sound-profit",
   "metadata": {},
   "outputs": [],
   "source": [
    "def is_rt(text):\n",
    "    text = text.split()\n",
    "    if text[0] == 'RT':\n",
    "        return 1\n",
    "    return 0"
   ]
  },
  {
   "cell_type": "code",
   "execution_count": 9,
   "id": "aware-wiring",
   "metadata": {},
   "outputs": [],
   "source": [
    "df['is_retweet'] = df['text'].apply(is_rt)"
   ]
  },
  {
   "cell_type": "code",
   "execution_count": 10,
   "id": "honey-milwaukee",
   "metadata": {},
   "outputs": [
    {
     "data": {
      "text/html": [
       "<div>\n",
       "<style scoped>\n",
       "    .dataframe tbody tr th:only-of-type {\n",
       "        vertical-align: middle;\n",
       "    }\n",
       "\n",
       "    .dataframe tbody tr th {\n",
       "        vertical-align: top;\n",
       "    }\n",
       "\n",
       "    .dataframe thead th {\n",
       "        text-align: right;\n",
       "    }\n",
       "</style>\n",
       "<table border=\"1\" class=\"dataframe\">\n",
       "  <thead>\n",
       "    <tr style=\"text-align: right;\">\n",
       "      <th></th>\n",
       "      <th>text</th>\n",
       "      <th>is_retweet</th>\n",
       "    </tr>\n",
       "  </thead>\n",
       "  <tbody>\n",
       "    <tr>\n",
       "      <th>0</th>\n",
       "      <td>RT @mention .@mention is trying to skirt human...</td>\n",
       "      <td>1</td>\n",
       "    </tr>\n",
       "    <tr>\n",
       "      <th>1</th>\n",
       "      <td>“conspiracy practices —the methods by which tr...</td>\n",
       "      <td>0</td>\n",
       "    </tr>\n",
       "    <tr>\n",
       "      <th>2</th>\n",
       "      <td>@mention Have you done any work to estimate th...</td>\n",
       "      <td>0</td>\n",
       "    </tr>\n",
       "    <tr>\n",
       "      <th>3</th>\n",
       "      <td>📝We have examined the design, implementation a...</td>\n",
       "      <td>0</td>\n",
       "    </tr>\n",
       "    <tr>\n",
       "      <th>4</th>\n",
       "      <td>first time trying out the #sarkargame. and, it...</td>\n",
       "      <td>0</td>\n",
       "    </tr>\n",
       "    <tr>\n",
       "      <th>5</th>\n",
       "      <td>RT @mention We wanted flying cars. Instead we ...</td>\n",
       "      <td>1</td>\n",
       "    </tr>\n",
       "    <tr>\n",
       "      <th>6</th>\n",
       "      <td>RT @mention \"Remember when Facebook CEO Mark Z...</td>\n",
       "      <td>1</td>\n",
       "    </tr>\n",
       "    <tr>\n",
       "      <th>7</th>\n",
       "      <td>RT @mention The US-led war on terror, in the g...</td>\n",
       "      <td>1</td>\n",
       "    </tr>\n",
       "    <tr>\n",
       "      <th>8</th>\n",
       "      <td>RT @mention Modi govt’s refusal to submit an a...</td>\n",
       "      <td>1</td>\n",
       "    </tr>\n",
       "    <tr>\n",
       "      <th>9</th>\n",
       "      <td>RT @mention 📢#OUTNOW | @mention and @mention g...</td>\n",
       "      <td>1</td>\n",
       "    </tr>\n",
       "  </tbody>\n",
       "</table>\n",
       "</div>"
      ],
      "text/plain": [
       "                                                text  is_retweet\n",
       "0  RT @mention .@mention is trying to skirt human...           1\n",
       "1  “conspiracy practices —the methods by which tr...           0\n",
       "2  @mention Have you done any work to estimate th...           0\n",
       "3  📝We have examined the design, implementation a...           0\n",
       "4  first time trying out the #sarkargame. and, it...           0\n",
       "5  RT @mention We wanted flying cars. Instead we ...           1\n",
       "6  RT @mention \"Remember when Facebook CEO Mark Z...           1\n",
       "7  RT @mention The US-led war on terror, in the g...           1\n",
       "8  RT @mention Modi govt’s refusal to submit an a...           1\n",
       "9  RT @mention 📢#OUTNOW | @mention and @mention g...           1"
      ]
     },
     "execution_count": 10,
     "metadata": {},
     "output_type": "execute_result"
    }
   ],
   "source": [
    "df[['text', 'is_retweet']].head(10)"
   ]
  },
  {
   "cell_type": "code",
   "execution_count": 11,
   "id": "wired-citation",
   "metadata": {},
   "outputs": [
    {
     "data": {
      "text/plain": [
       "1   0.722\n",
       "0   0.278\n",
       "Name: is_retweet, dtype: float64"
      ]
     },
     "execution_count": 11,
     "metadata": {},
     "output_type": "execute_result"
    }
   ],
   "source": [
    "df['is_retweet'].value_counts(normalize=True)"
   ]
  },
  {
   "cell_type": "code",
   "execution_count": 12,
   "id": "precise-cookbook",
   "metadata": {},
   "outputs": [
    {
     "data": {
      "text/plain": [
       "RT @mention BIG NEWS: Do you own an Apple product? UPDATE IT NOW. New zero-click NSO Group #Pegasus spyware has been infecting iPho…                                                                                                                                                                                     3616\n",
       "RT @mention As someone who has just got through Covid-19, I wondered how rare I am to have contracted it as a double vaxxed person. Accordi…                                                                                                                                                                              900\n",
       "RT @mention The poem 'Dangerous Coats' by contemporary Irish writer Sharon Owens #WomensArt Home Office surveillance photograph of suff…                                                                                                                                                                                  785\n",
       "RT @mention George W. Bush, the man who brought us torture, indefinite detention, assassination, and mass surveillance, rebukes those who’…                                                                                                                                                                               767\n",
       "RT @mention \"Remember when Facebook CEO Mark Zuckerberg said \"the future is private\"? LOL.\" - @mention breaks down Facebook's l…                                                                                                                                                                                          743\n",
       "                                                                                                                                                                                                                                                                                                                         ... \n",
       "They are also completely self-funded and have been around for over 25 years, and refuse to take venture capital. There is almost ZERO chance their data will end up in the hands of Big Tech, which makes the surveillance capitalists furious. 😂\\n\\n/3\\n\\nhttps://t.co/QwgDDDyrLy                                          1\n",
       "Are you still here? \\n\\nIrritate the toadies of surveillance capitalism even more: use my sure-to-be-labelled-as-grifter-affiliate-link 😀 and go and buy some Zoho software. They have more than 40+ apps. \\n\\n/6\\n\\nhttps://t.co/glIoDlA9Ow                                                                                1\n",
       "Part of me wants the FBI to set up surveillance to get the name of every single one of these Democracy hating traitors who comes to this anti-American rally.\\n\\nBut that is exactly what they want us to do &amp; that's not the America we voted to protect when we elected Biden President https://t.co/DC2D6s6JCB       1\n",
       "@mention @mention @mention @mention @mention It's almost like people don't like the Federal Liberals or something. Are you under the impression that police make election sign surveillance a priotity?                                                                                                                     1\n",
       "RT @mention The camera issue is not a safeguards violation. IAEA inspectors continue to have access to all the facilities in Iran that t…                                                                                                                                                                                   1\n",
       "Name: text, Length: 21709, dtype: int64"
      ]
     },
     "execution_count": 12,
     "metadata": {},
     "output_type": "execute_result"
    }
   ],
   "source": [
    "df['text'].value_counts()"
   ]
  },
  {
   "cell_type": "code",
   "execution_count": 13,
   "id": "wrapped-operation",
   "metadata": {},
   "outputs": [],
   "source": [
    "df_original = df[df['is_retweet']==0]"
   ]
  },
  {
   "cell_type": "code",
   "execution_count": 14,
   "id": "inclusive-faith",
   "metadata": {},
   "outputs": [
    {
     "data": {
      "text/plain": [
       "(16954, 60926)"
      ]
     },
     "execution_count": 14,
     "metadata": {},
     "output_type": "execute_result"
    }
   ],
   "source": [
    "len(df_original), len(df)"
   ]
  },
  {
   "cell_type": "markdown",
   "id": "practical-healing",
   "metadata": {},
   "source": [
    "I will continue with the original tweets"
   ]
  },
  {
   "cell_type": "markdown",
   "id": "horizontal-glucose",
   "metadata": {},
   "source": [
    "### Creating the categorical variable for digital media tech"
   ]
  },
  {
   "cell_type": "code",
   "execution_count": 15,
   "id": "extensive-shift",
   "metadata": {},
   "outputs": [],
   "source": [
    "def wordlist_any_present(text, query):\n",
    "    import re\n",
    "    text = str(text).lower()\n",
    "    newquery = []\n",
    "    for word in query:\n",
    "        newquery.append(str(word).lower())\n",
    "    tokens = re.findall(r\"[\\w']+|[.,!?;$@#]\", text)\n",
    "    \n",
    "    for word in newquery:\n",
    "        if word in tokens:\n",
    "            return 1\n",
    "    return 0\n",
    "\n"
   ]
  },
  {
   "cell_type": "code",
   "execution_count": 16,
   "id": "opponent-purchase",
   "metadata": {},
   "outputs": [
    {
     "name": "stderr",
     "output_type": "stream",
     "text": [
      "<ipython-input-16-18d342288d7c>:1: SettingWithCopyWarning: \n",
      "A value is trying to be set on a copy of a slice from a DataFrame.\n",
      "Try using .loc[row_indexer,col_indexer] = value instead\n",
      "\n",
      "See the caveats in the documentation: https://pandas.pydata.org/pandas-docs/stable/user_guide/indexing.html#returning-a-view-versus-a-copy\n",
      "  df_original['digi_media_tech'] = df_original['text'].apply(wordlist_any_present,\n"
     ]
    }
   ],
   "source": [
    "df_original['digi_media_tech'] = df_original['text'].apply(wordlist_any_present,\n",
    "                                                       args=(['google', 'apple', 'facebook'],))"
   ]
  },
  {
   "cell_type": "code",
   "execution_count": 17,
   "id": "quantitative-relative",
   "metadata": {},
   "outputs": [
    {
     "data": {
      "text/plain": [
       "0    16497\n",
       "1      457\n",
       "Name: digi_media_tech, dtype: int64"
      ]
     },
     "execution_count": 17,
     "metadata": {},
     "output_type": "execute_result"
    }
   ],
   "source": [
    "df_original['digi_media_tech'].value_counts()"
   ]
  },
  {
   "cell_type": "code",
   "execution_count": 18,
   "id": "caroline-edgar",
   "metadata": {},
   "outputs": [],
   "source": [
    "df['digi_media_tech'] = df['text'].apply(wordlist_any_present,\n",
    "                                                       args=(['google', 'apple', 'facebook'],))"
   ]
  },
  {
   "cell_type": "code",
   "execution_count": 19,
   "id": "spanish-proposition",
   "metadata": {},
   "outputs": [
    {
     "data": {
      "text/plain": [
       "0    54439\n",
       "1     6487\n",
       "Name: digi_media_tech, dtype: int64"
      ]
     },
     "execution_count": 19,
     "metadata": {},
     "output_type": "execute_result"
    }
   ],
   "source": [
    "df['digi_media_tech'].value_counts()"
   ]
  },
  {
   "cell_type": "markdown",
   "id": "breathing-agenda",
   "metadata": {},
   "source": [
    "### Creating the categorical variable for country"
   ]
  },
  {
   "cell_type": "code",
   "execution_count": 20,
   "id": "municipal-croatia",
   "metadata": {},
   "outputs": [
    {
     "name": "stderr",
     "output_type": "stream",
     "text": [
      "<ipython-input-20-f406057ff711>:1: SettingWithCopyWarning: \n",
      "A value is trying to be set on a copy of a slice from a DataFrame.\n",
      "Try using .loc[row_indexer,col_indexer] = value instead\n",
      "\n",
      "See the caveats in the documentation: https://pandas.pydata.org/pandas-docs/stable/user_guide/indexing.html#returning-a-view-versus-a-copy\n",
      "  df_original['usa'] = df_original['text'].apply(wordlist_any_present,\n"
     ]
    }
   ],
   "source": [
    "df_original['usa'] = df_original['text'].apply(wordlist_any_present,\n",
    "                                                       args=(['us', 'usa'],))"
   ]
  },
  {
   "cell_type": "code",
   "execution_count": 21,
   "id": "south-smart",
   "metadata": {},
   "outputs": [
    {
     "data": {
      "text/plain": [
       "0    15958\n",
       "1      996\n",
       "Name: usa, dtype: int64"
      ]
     },
     "execution_count": 21,
     "metadata": {},
     "output_type": "execute_result"
    }
   ],
   "source": [
    "df_original['usa'].value_counts()"
   ]
  },
  {
   "cell_type": "code",
   "execution_count": 22,
   "id": "spatial-batch",
   "metadata": {},
   "outputs": [
    {
     "name": "stderr",
     "output_type": "stream",
     "text": [
      "<ipython-input-22-1256a3d4b411>:1: SettingWithCopyWarning: \n",
      "A value is trying to be set on a copy of a slice from a DataFrame.\n",
      "Try using .loc[row_indexer,col_indexer] = value instead\n",
      "\n",
      "See the caveats in the documentation: https://pandas.pydata.org/pandas-docs/stable/user_guide/indexing.html#returning-a-view-versus-a-copy\n",
      "  df_original['eu'] = df_original['text'].apply(wordlist_any_present,\n"
     ]
    }
   ],
   "source": [
    "df_original['eu'] = df_original['text'].apply(wordlist_any_present,\n",
    "                                                       args=(['eu', 'europe'],))"
   ]
  },
  {
   "cell_type": "code",
   "execution_count": 23,
   "id": "informative-reunion",
   "metadata": {},
   "outputs": [
    {
     "data": {
      "text/plain": [
       "0    16365\n",
       "1      589\n",
       "Name: eu, dtype: int64"
      ]
     },
     "execution_count": 23,
     "metadata": {},
     "output_type": "execute_result"
    }
   ],
   "source": [
    "df_original['eu'].value_counts()"
   ]
  },
  {
   "cell_type": "code",
   "execution_count": 24,
   "id": "increasing-attendance",
   "metadata": {},
   "outputs": [],
   "source": [
    "def categorise_df(row):\n",
    "    # Here I am creating a new column (called user_type) and giving it a default value (regular user)\n",
    "    row['country'] = 'none'\n",
    "    # I can put the conditions I want here\n",
    "    if (row['usa'] == 1) and (row['eu'] == 0):\n",
    "        row['country'] = 'usa'\n",
    "        \n",
    "    if (row['usa'] == 0) and (row['eu'] == 1):\n",
    "        row['country'] = 'eu'\n",
    "        \n",
    "    if (row['usa'] == 1) and (row['eu'] == 1):\n",
    "        row['country'] = 'both'\n",
    "        \n",
    "    # You can modify this function as much as you want (above), but it must always return the row\n",
    "    return row\n",
    "        \n",
    "    "
   ]
  },
  {
   "cell_type": "code",
   "execution_count": 25,
   "id": "bridal-highway",
   "metadata": {},
   "outputs": [],
   "source": [
    "df_original = df_original.apply(categorise_df, axis=1)"
   ]
  },
  {
   "cell_type": "code",
   "execution_count": 26,
   "id": "black-birthday",
   "metadata": {},
   "outputs": [
    {
     "data": {
      "text/plain": [
       "none    15384\n",
       "usa       981\n",
       "eu        574\n",
       "both       15\n",
       "Name: country, dtype: int64"
      ]
     },
     "execution_count": 26,
     "metadata": {},
     "output_type": "execute_result"
    }
   ],
   "source": [
    "df_original['country'].value_counts()"
   ]
  },
  {
   "cell_type": "markdown",
   "id": "separate-criminal",
   "metadata": {},
   "source": [
    "### Exploration of my new variables"
   ]
  },
  {
   "cell_type": "code",
   "execution_count": 27,
   "id": "consistent-lesson",
   "metadata": {},
   "outputs": [
    {
     "data": {
      "text/plain": [
       "0   0.894\n",
       "1   0.106\n",
       "Name: digi_media_tech, dtype: float64"
      ]
     },
     "execution_count": 27,
     "metadata": {},
     "output_type": "execute_result"
    }
   ],
   "source": [
    "df['digi_media_tech'].value_counts(normalize=True)"
   ]
  },
  {
   "cell_type": "code",
   "execution_count": 28,
   "id": "caring-samoa",
   "metadata": {},
   "outputs": [
    {
     "data": {
      "text/plain": [
       "none   0.907\n",
       "usa    0.058\n",
       "eu     0.034\n",
       "both   0.001\n",
       "Name: country, dtype: float64"
      ]
     },
     "execution_count": 28,
     "metadata": {},
     "output_type": "execute_result"
    }
   ],
   "source": [
    "df_original['country'].value_counts(normalize=True)"
   ]
  },
  {
   "cell_type": "code",
   "execution_count": 29,
   "id": "cardiovascular-audit",
   "metadata": {},
   "outputs": [
    {
     "data": {
      "text/plain": [
       "count   16954.000\n",
       "mean        0.027\n",
       "std         0.162\n",
       "min         0.000\n",
       "25%         0.000\n",
       "50%         0.000\n",
       "75%         0.000\n",
       "max         1.000\n",
       "Name: digi_media_tech, dtype: float64"
      ]
     },
     "execution_count": 29,
     "metadata": {},
     "output_type": "execute_result"
    }
   ],
   "source": [
    "df_original['digi_media_tech'].describe()"
   ]
  },
  {
   "cell_type": "markdown",
   "id": "thirty-proportion",
   "metadata": {},
   "source": [
    "## Challenge 2\n",
    "\n",
    "### Programming challenge\n",
    "\n",
    "Propose and visualise the answer for a RQ that has the **number of retweets** as the dependent variable, and one of the categories you created as the independent variable. Justify your choices in the answer.\n",
    "\n",
    "In this answer, you need to:\n",
    "* Show descriptive statistics for the IV and the DV\n",
    "* Create one univariate visualisation for the IV\n",
    "* Create one univariate visualisation for the DV\n",
    "* Create one bivariate visualisation with the IV and DV in the same chart\n",
    "* Show the descriptives of the DV grouped by the IV and interpret them\n",
    "\n",
    "### Reflection\n",
    "\n",
    "Visualisations are very helpful in exploring your dataset and relations between variables. They are also commonly used in reporting towards different stakeholders as a tool to make the data understandable to a wider audience. However, visualisations can also be very misleading.  Looking at the visualisations discussed in the tutorial and the ones you have chosen in this challenge, reflect to what extent and in what way:\n",
    "1) The choices you made could lead to manipulation or incorrect conclusions\n",
    "2) How the usage of different charts or ways to visualize the data by others may lead to manipulation or incorrect conclusions\n",
    "\n",
    "For both 1) and 2), make sure to provide specific examples and motivate your response.\n"
   ]
  },
  {
   "cell_type": "markdown",
   "id": "dominant-better",
   "metadata": {},
   "source": [
    "### My research question:\n",
    "\n",
    "To what extent is there a relation between the mention of digital media tech companies in a tweet and the engagement it generates?\n",
    "\n",
    "* IV = mention of digital media tech\n",
    "* DV = number of retweets\n",
    "* Unit of analysis = an original tweet"
   ]
  },
  {
   "cell_type": "code",
   "execution_count": 30,
   "id": "radio-amsterdam",
   "metadata": {},
   "outputs": [
    {
     "data": {
      "text/html": [
       "<div>\n",
       "<style scoped>\n",
       "    .dataframe tbody tr th:only-of-type {\n",
       "        vertical-align: middle;\n",
       "    }\n",
       "\n",
       "    .dataframe tbody tr th {\n",
       "        vertical-align: top;\n",
       "    }\n",
       "\n",
       "    .dataframe thead th {\n",
       "        text-align: right;\n",
       "    }\n",
       "</style>\n",
       "<table border=\"1\" class=\"dataframe\">\n",
       "  <thead>\n",
       "    <tr style=\"text-align: right;\">\n",
       "      <th></th>\n",
       "      <th>digi_media_tech</th>\n",
       "      <th>metric_retweet_count</th>\n",
       "    </tr>\n",
       "  </thead>\n",
       "  <tbody>\n",
       "    <tr>\n",
       "      <th>1</th>\n",
       "      <td>0</td>\n",
       "      <td>0</td>\n",
       "    </tr>\n",
       "    <tr>\n",
       "      <th>2</th>\n",
       "      <td>0</td>\n",
       "      <td>0</td>\n",
       "    </tr>\n",
       "    <tr>\n",
       "      <th>3</th>\n",
       "      <td>0</td>\n",
       "      <td>0</td>\n",
       "    </tr>\n",
       "    <tr>\n",
       "      <th>4</th>\n",
       "      <td>0</td>\n",
       "      <td>0</td>\n",
       "    </tr>\n",
       "    <tr>\n",
       "      <th>10</th>\n",
       "      <td>0</td>\n",
       "      <td>0</td>\n",
       "    </tr>\n",
       "    <tr>\n",
       "      <th>11</th>\n",
       "      <td>0</td>\n",
       "      <td>0</td>\n",
       "    </tr>\n",
       "    <tr>\n",
       "      <th>12</th>\n",
       "      <td>0</td>\n",
       "      <td>0</td>\n",
       "    </tr>\n",
       "    <tr>\n",
       "      <th>13</th>\n",
       "      <td>0</td>\n",
       "      <td>0</td>\n",
       "    </tr>\n",
       "    <tr>\n",
       "      <th>17</th>\n",
       "      <td>0</td>\n",
       "      <td>0</td>\n",
       "    </tr>\n",
       "    <tr>\n",
       "      <th>18</th>\n",
       "      <td>0</td>\n",
       "      <td>0</td>\n",
       "    </tr>\n",
       "  </tbody>\n",
       "</table>\n",
       "</div>"
      ],
      "text/plain": [
       "    digi_media_tech  metric_retweet_count\n",
       "1                 0                     0\n",
       "2                 0                     0\n",
       "3                 0                     0\n",
       "4                 0                     0\n",
       "10                0                     0\n",
       "11                0                     0\n",
       "12                0                     0\n",
       "13                0                     0\n",
       "17                0                     0\n",
       "18                0                     0"
      ]
     },
     "execution_count": 30,
     "metadata": {},
     "output_type": "execute_result"
    }
   ],
   "source": [
    "df_original[['digi_media_tech', 'metric_retweet_count']].head(10)"
   ]
  },
  {
   "cell_type": "code",
   "execution_count": 31,
   "id": "diverse-investment",
   "metadata": {},
   "outputs": [
    {
     "data": {
      "text/plain": [
       "digi_media_tech         int64\n",
       "metric_retweet_count    int64\n",
       "dtype: object"
      ]
     },
     "execution_count": 31,
     "metadata": {},
     "output_type": "execute_result"
    }
   ],
   "source": [
    "df_original[['digi_media_tech', 'metric_retweet_count']].dtypes"
   ]
  },
  {
   "cell_type": "markdown",
   "id": "circular-timing",
   "metadata": {},
   "source": [
    "### Descriptive statistics"
   ]
  },
  {
   "cell_type": "code",
   "execution_count": 32,
   "id": "premium-richards",
   "metadata": {},
   "outputs": [
    {
     "data": {
      "text/html": [
       "<div>\n",
       "<style scoped>\n",
       "    .dataframe tbody tr th:only-of-type {\n",
       "        vertical-align: middle;\n",
       "    }\n",
       "\n",
       "    .dataframe tbody tr th {\n",
       "        vertical-align: top;\n",
       "    }\n",
       "\n",
       "    .dataframe thead th {\n",
       "        text-align: right;\n",
       "    }\n",
       "</style>\n",
       "<table border=\"1\" class=\"dataframe\">\n",
       "  <thead>\n",
       "    <tr style=\"text-align: right;\">\n",
       "      <th></th>\n",
       "      <th>digi_media_tech</th>\n",
       "      <th>metric_retweet_count</th>\n",
       "    </tr>\n",
       "  </thead>\n",
       "  <tbody>\n",
       "    <tr>\n",
       "      <th>count</th>\n",
       "      <td>16954.000</td>\n",
       "      <td>16954.000</td>\n",
       "    </tr>\n",
       "    <tr>\n",
       "      <th>mean</th>\n",
       "      <td>0.027</td>\n",
       "      <td>2.701</td>\n",
       "    </tr>\n",
       "    <tr>\n",
       "      <th>std</th>\n",
       "      <td>0.162</td>\n",
       "      <td>39.627</td>\n",
       "    </tr>\n",
       "    <tr>\n",
       "      <th>min</th>\n",
       "      <td>0.000</td>\n",
       "      <td>0.000</td>\n",
       "    </tr>\n",
       "    <tr>\n",
       "      <th>25%</th>\n",
       "      <td>0.000</td>\n",
       "      <td>0.000</td>\n",
       "    </tr>\n",
       "    <tr>\n",
       "      <th>50%</th>\n",
       "      <td>0.000</td>\n",
       "      <td>0.000</td>\n",
       "    </tr>\n",
       "    <tr>\n",
       "      <th>75%</th>\n",
       "      <td>0.000</td>\n",
       "      <td>0.000</td>\n",
       "    </tr>\n",
       "    <tr>\n",
       "      <th>max</th>\n",
       "      <td>1.000</td>\n",
       "      <td>4114.000</td>\n",
       "    </tr>\n",
       "  </tbody>\n",
       "</table>\n",
       "</div>"
      ],
      "text/plain": [
       "       digi_media_tech  metric_retweet_count\n",
       "count        16954.000             16954.000\n",
       "mean             0.027                 2.701\n",
       "std              0.162                39.627\n",
       "min              0.000                 0.000\n",
       "25%              0.000                 0.000\n",
       "50%              0.000                 0.000\n",
       "75%              0.000                 0.000\n",
       "max              1.000              4114.000"
      ]
     },
     "execution_count": 32,
     "metadata": {},
     "output_type": "execute_result"
    }
   ],
   "source": [
    "df_original[['digi_media_tech', 'metric_retweet_count']].describe()"
   ]
  },
  {
   "cell_type": "code",
   "execution_count": 33,
   "id": "valuable-tuner",
   "metadata": {},
   "outputs": [
    {
     "data": {
      "text/html": [
       "<div>\n",
       "<style scoped>\n",
       "    .dataframe tbody tr th:only-of-type {\n",
       "        vertical-align: middle;\n",
       "    }\n",
       "\n",
       "    .dataframe tbody tr th {\n",
       "        vertical-align: top;\n",
       "    }\n",
       "\n",
       "    .dataframe thead th {\n",
       "        text-align: right;\n",
       "    }\n",
       "</style>\n",
       "<table border=\"1\" class=\"dataframe\">\n",
       "  <thead>\n",
       "    <tr style=\"text-align: right;\">\n",
       "      <th></th>\n",
       "      <th>count</th>\n",
       "      <th>mean</th>\n",
       "      <th>std</th>\n",
       "      <th>min</th>\n",
       "      <th>25%</th>\n",
       "      <th>50%</th>\n",
       "      <th>75%</th>\n",
       "      <th>max</th>\n",
       "    </tr>\n",
       "    <tr>\n",
       "      <th>digi_media_tech</th>\n",
       "      <th></th>\n",
       "      <th></th>\n",
       "      <th></th>\n",
       "      <th></th>\n",
       "      <th></th>\n",
       "      <th></th>\n",
       "      <th></th>\n",
       "      <th></th>\n",
       "    </tr>\n",
       "  </thead>\n",
       "  <tbody>\n",
       "    <tr>\n",
       "      <th>0</th>\n",
       "      <td>16497.000</td>\n",
       "      <td>2.362</td>\n",
       "      <td>22.821</td>\n",
       "      <td>0.000</td>\n",
       "      <td>0.000</td>\n",
       "      <td>0.000</td>\n",
       "      <td>0.000</td>\n",
       "      <td>1232.000</td>\n",
       "    </tr>\n",
       "    <tr>\n",
       "      <th>1</th>\n",
       "      <td>457.000</td>\n",
       "      <td>14.926</td>\n",
       "      <td>198.461</td>\n",
       "      <td>0.000</td>\n",
       "      <td>0.000</td>\n",
       "      <td>0.000</td>\n",
       "      <td>1.000</td>\n",
       "      <td>4114.000</td>\n",
       "    </tr>\n",
       "  </tbody>\n",
       "</table>\n",
       "</div>"
      ],
      "text/plain": [
       "                    count   mean     std   min   25%   50%   75%      max\n",
       "digi_media_tech                                                          \n",
       "0               16497.000  2.362  22.821 0.000 0.000 0.000 0.000 1232.000\n",
       "1                 457.000 14.926 198.461 0.000 0.000 0.000 1.000 4114.000"
      ]
     },
     "execution_count": 33,
     "metadata": {},
     "output_type": "execute_result"
    }
   ],
   "source": [
    "df_original.groupby(['digi_media_tech'])['metric_retweet_count'].describe()"
   ]
  },
  {
   "cell_type": "markdown",
   "id": "secondary-sessions",
   "metadata": {},
   "source": [
    "### Univariate visualisations"
   ]
  },
  {
   "cell_type": "code",
   "execution_count": 34,
   "id": "spoken-flashing",
   "metadata": {},
   "outputs": [
    {
     "data": {
      "text/plain": [
       "<AxesSubplot:xlabel='digi_media_tech', ylabel='count'>"
      ]
     },
     "execution_count": 34,
     "metadata": {},
     "output_type": "execute_result"
    },
    {
     "data": {
      "image/png": "[encoded data removed]",
      "text/plain": [
       "<Figure size 432x288 with 1 Axes>"
      ]
     },
     "metadata": {
      "needs_background": "light"
     },
     "output_type": "display_data"
    }
   ],
   "source": [
    "# IV - binary\n",
    "sns.countplot(x='digi_media_tech', data=df_original)"
   ]
  },
  {
   "cell_type": "code",
   "execution_count": 36,
   "id": "liberal-massage",
   "metadata": {},
   "outputs": [
    {
     "data": {
      "text/plain": [
       "<seaborn.axisgrid.FacetGrid at 0x7f7d31350850>"
      ]
     },
     "execution_count": 36,
     "metadata": {},
     "output_type": "execute_result"
    },
    {
     "data": {
      "image/png": "[encoded data removed]",
      "text/plain": [
       "<Figure size 360x360 with 1 Axes>"
      ]
     },
     "metadata": {
      "needs_background": "light"
     },
     "output_type": "display_data"
    }
   ],
   "source": [
    "#DV - continous\n",
    "sns.displot(x = 'metric_retweet_count', data = df_original)"
   ]
  },
  {
   "cell_type": "code",
   "execution_count": 42,
   "id": "exact-sampling",
   "metadata": {},
   "outputs": [
    {
     "data": {
      "text/plain": [
       "<seaborn.axisgrid.FacetGrid at 0x7f7d180fa1c0>"
      ]
     },
     "execution_count": 42,
     "metadata": {},
     "output_type": "execute_result"
    },
    {
     "data": {
      "image/png": "[encoded data removed]",
      "text/plain": [
       "<Figure size 360x360 with 1 Axes>"
      ]
     },
     "metadata": {
      "needs_background": "light"
     },
     "output_type": "display_data"
    }
   ],
   "source": [
    "#Out of curiosity - what happens when I take my original dataframe with retweets?\n",
    "sns.displot(x = 'metric_retweet_count', data = df)"
   ]
  },
  {
   "cell_type": "code",
   "execution_count": 43,
   "id": "adapted-effort",
   "metadata": {},
   "outputs": [
    {
     "data": {
      "text/plain": [
       "<seaborn.axisgrid.FacetGrid at 0x7f7d57359d60>"
      ]
     },
     "execution_count": 43,
     "metadata": {},
     "output_type": "execute_result"
    },
    {
     "data": {
      "image/png": "[encoded data removed]",
      "text/plain": [
       "<Figure size 360x360 with 1 Axes>"
      ]
     },
     "metadata": {
      "needs_background": "light"
     },
     "output_type": "display_data"
    }
   ],
   "source": [
    "sns.displot(x = 'metric_retweet_count', data = df_original[df_original['digi_media_tech']== 0])"
   ]
  },
  {
   "cell_type": "code",
   "execution_count": 45,
   "id": "dress-antarctica",
   "metadata": {},
   "outputs": [
    {
     "data": {
      "text/plain": [
       "<seaborn.axisgrid.FacetGrid at 0x7f7d199ddaf0>"
      ]
     },
     "execution_count": 45,
     "metadata": {},
     "output_type": "execute_result"
    },
    {
     "data": {
      "image/png": "[encoded data removed]",
      "text/plain": [
       "<Figure size 360x360 with 1 Axes>"
      ]
     },
     "metadata": {
      "needs_background": "light"
     },
     "output_type": "display_data"
    }
   ],
   "source": [
    "sns.displot(x = 'metric_retweet_count', data = df_original[df_original['digi_media_tech']== 1])"
   ]
  },
  {
   "cell_type": "code",
   "execution_count": 47,
   "id": "thorough-mainstream",
   "metadata": {},
   "outputs": [
    {
     "data": {
      "text/plain": [
       "<seaborn.axisgrid.FacetGrid at 0x7f7d04441cd0>"
      ]
     },
     "execution_count": 47,
     "metadata": {},
     "output_type": "execute_result"
    },
    {
     "data": {
      "image/png": "[encoded data removed]",
      "text/plain": [
       "<Figure size 360x360 with 1 Axes>"
      ]
     },
     "metadata": {
      "needs_background": "light"
     },
     "output_type": "display_data"
    }
   ],
   "source": [
    "sns.displot(x = 'metric_retweet_count', data = df_original[df_original['metric_retweet_count'] > 100])"
   ]
  },
  {
   "cell_type": "markdown",
   "id": "adjacent-swedish",
   "metadata": {},
   "source": [
    "### Bivariate visualisations"
   ]
  },
  {
   "cell_type": "code",
   "execution_count": 48,
   "id": "ambient-conviction",
   "metadata": {},
   "outputs": [
    {
     "data": {
      "text/plain": [
       "<AxesSubplot:xlabel='digi_media_tech', ylabel='metric_retweet_count'>"
      ]
     },
     "execution_count": 48,
     "metadata": {},
     "output_type": "execute_result"
    },
    {
     "data": {
      "image/png": "[encoded data removed]",
      "text/plain": [
       "<Figure size 432x288 with 1 Axes>"
      ]
     },
     "metadata": {
      "needs_background": "light"
     },
     "output_type": "display_data"
    }
   ],
   "source": [
    "# IV = binary, DV = continous\n",
    "sns.barplot(x='digi_media_tech', y='metric_retweet_count', data=df_original)"
   ]
  },
  {
   "cell_type": "markdown",
   "id": "apart-olympus",
   "metadata": {},
   "source": [
    "## Challenge 3 \n",
    "\n",
    "### Programming challenge\n",
    "\n",
    "\n",
    "Propose and visualise the answer for a RQ that has the **sentiment** as the dependent variable, and one of the categories you created as the independent variable. Justify your choices in the answer.\n",
    "\n",
    "In this answer, you need to:\n",
    "* Show descriptive statistics for the IV and the DV\n",
    "* Create one univariate visualisation for the IV\n",
    "* Create one univariate visualisation for the DV\n",
    "* Create one bivariate visualisation with the IV and DV in the same chart\n",
    "* Show the descriptives of the DV grouped by the IV and interpret them\n",
    "\n",
    "\n",
    "### Reflection\n",
    "\n",
    "Imagine that you proceed with the dataset you have created to answer your research question and help and organization. In the next step, you will conduct your analysis and create a model to automatically predict the user interests (topics) and their sentiment about the topic. These predictions will be later used to determine which type of advertisement the user will see.  \n",
    "\n",
    "Looking at privacy and ethical issues when working with data of individuals (even when it is pseudonymized), reflect how applying such frameworks as the DEDA aid could mitigate them when you use the data you have prepared and what issues remain.Please motivate your response, and provide specific ethical issues and how they can(not) be mitigated by such frameworks.\n",
    "\n"
   ]
  },
  {
   "cell_type": "markdown",
   "id": "saved-password",
   "metadata": {},
   "source": [
    "### My research question:\n",
    "\n",
    "To what extent is there a relation between a mention of national context in the tweet and its sentiment?\n",
    "\n",
    "* IV = mention of us, eu or both\n",
    "* DV = sentiment\n",
    "* Unit of analysis = an original tweet"
   ]
  },
  {
   "cell_type": "markdown",
   "id": "authorized-consistency",
   "metadata": {},
   "source": [
    "### Data preparation"
   ]
  },
  {
   "cell_type": "code",
   "execution_count": 49,
   "id": "fourth-airplane",
   "metadata": {},
   "outputs": [
    {
     "data": {
      "text/plain": [
       "Index(['id', 'text', 'metric_retweet_count', 'metric_followers_count',\n",
       "       'metric_like_count', 'pseudID', 'positive', 'negative', 'neutral',\n",
       "       'is_retweet', 'digi_media_tech', 'usa', 'eu', 'country'],\n",
       "      dtype='object')"
      ]
     },
     "execution_count": 49,
     "metadata": {},
     "output_type": "execute_result"
    }
   ],
   "source": [
    "df_original.columns"
   ]
  },
  {
   "cell_type": "code",
   "execution_count": 50,
   "id": "earlier-upgrade",
   "metadata": {},
   "outputs": [
    {
     "data": {
      "text/html": [
       "<div>\n",
       "<style scoped>\n",
       "    .dataframe tbody tr th:only-of-type {\n",
       "        vertical-align: middle;\n",
       "    }\n",
       "\n",
       "    .dataframe tbody tr th {\n",
       "        vertical-align: top;\n",
       "    }\n",
       "\n",
       "    .dataframe thead th {\n",
       "        text-align: right;\n",
       "    }\n",
       "</style>\n",
       "<table border=\"1\" class=\"dataframe\">\n",
       "  <thead>\n",
       "    <tr style=\"text-align: right;\">\n",
       "      <th></th>\n",
       "      <th>country</th>\n",
       "      <th>positive</th>\n",
       "      <th>negative</th>\n",
       "    </tr>\n",
       "  </thead>\n",
       "  <tbody>\n",
       "    <tr>\n",
       "      <th>1</th>\n",
       "      <td>none</td>\n",
       "      <td>2</td>\n",
       "      <td>-2</td>\n",
       "    </tr>\n",
       "    <tr>\n",
       "      <th>2</th>\n",
       "      <td>none</td>\n",
       "      <td>1</td>\n",
       "      <td>-1</td>\n",
       "    </tr>\n",
       "    <tr>\n",
       "      <th>3</th>\n",
       "      <td>none</td>\n",
       "      <td>2</td>\n",
       "      <td>-3</td>\n",
       "    </tr>\n",
       "    <tr>\n",
       "      <th>4</th>\n",
       "      <td>none</td>\n",
       "      <td>2</td>\n",
       "      <td>-4</td>\n",
       "    </tr>\n",
       "    <tr>\n",
       "      <th>10</th>\n",
       "      <td>none</td>\n",
       "      <td>2</td>\n",
       "      <td>-1</td>\n",
       "    </tr>\n",
       "    <tr>\n",
       "      <th>11</th>\n",
       "      <td>none</td>\n",
       "      <td>2</td>\n",
       "      <td>-2</td>\n",
       "    </tr>\n",
       "    <tr>\n",
       "      <th>12</th>\n",
       "      <td>none</td>\n",
       "      <td>2</td>\n",
       "      <td>-3</td>\n",
       "    </tr>\n",
       "    <tr>\n",
       "      <th>13</th>\n",
       "      <td>none</td>\n",
       "      <td>1</td>\n",
       "      <td>-1</td>\n",
       "    </tr>\n",
       "    <tr>\n",
       "      <th>17</th>\n",
       "      <td>none</td>\n",
       "      <td>1</td>\n",
       "      <td>-1</td>\n",
       "    </tr>\n",
       "    <tr>\n",
       "      <th>18</th>\n",
       "      <td>eu</td>\n",
       "      <td>1</td>\n",
       "      <td>-2</td>\n",
       "    </tr>\n",
       "  </tbody>\n",
       "</table>\n",
       "</div>"
      ],
      "text/plain": [
       "   country positive negative\n",
       "1     none        2       -2\n",
       "2     none        1       -1\n",
       "3     none        2       -3\n",
       "4     none        2       -4\n",
       "10    none        2       -1\n",
       "11    none        2       -2\n",
       "12    none        2       -3\n",
       "13    none        1       -1\n",
       "17    none        1       -1\n",
       "18      eu        1       -2"
      ]
     },
     "execution_count": 50,
     "metadata": {},
     "output_type": "execute_result"
    }
   ],
   "source": [
    "df_original[['country', 'positive', 'negative']].head(10)"
   ]
  },
  {
   "cell_type": "code",
   "execution_count": 51,
   "id": "different-might",
   "metadata": {},
   "outputs": [
    {
     "data": {
      "text/plain": [
       "country     object\n",
       "positive    object\n",
       "negative    object\n",
       "dtype: object"
      ]
     },
     "execution_count": 51,
     "metadata": {},
     "output_type": "execute_result"
    }
   ],
   "source": [
    "df_original[['country', 'positive', 'negative']].dtypes"
   ]
  },
  {
   "cell_type": "code",
   "execution_count": 52,
   "id": "worthy-forum",
   "metadata": {},
   "outputs": [],
   "source": [
    "df_original['positive'] = df_original['positive'].apply(pd.to_numeric)"
   ]
  },
  {
   "cell_type": "code",
   "execution_count": 53,
   "id": "dynamic-cooperation",
   "metadata": {},
   "outputs": [],
   "source": [
    "df_original['negative'] = df_original['negative'].apply(pd.to_numeric)"
   ]
  },
  {
   "cell_type": "code",
   "execution_count": 54,
   "id": "contrary-philip",
   "metadata": {},
   "outputs": [],
   "source": [
    "df_original['overall_sent'] = df_original['negative'] + df_original['positive']"
   ]
  },
  {
   "cell_type": "code",
   "execution_count": 55,
   "id": "developing-characterization",
   "metadata": {},
   "outputs": [
    {
     "data": {
      "text/html": [
       "<div>\n",
       "<style scoped>\n",
       "    .dataframe tbody tr th:only-of-type {\n",
       "        vertical-align: middle;\n",
       "    }\n",
       "\n",
       "    .dataframe tbody tr th {\n",
       "        vertical-align: top;\n",
       "    }\n",
       "\n",
       "    .dataframe thead th {\n",
       "        text-align: right;\n",
       "    }\n",
       "</style>\n",
       "<table border=\"1\" class=\"dataframe\">\n",
       "  <thead>\n",
       "    <tr style=\"text-align: right;\">\n",
       "      <th></th>\n",
       "      <th>country</th>\n",
       "      <th>positive</th>\n",
       "      <th>negative</th>\n",
       "      <th>overall_sent</th>\n",
       "    </tr>\n",
       "  </thead>\n",
       "  <tbody>\n",
       "    <tr>\n",
       "      <th>1</th>\n",
       "      <td>none</td>\n",
       "      <td>2</td>\n",
       "      <td>-2</td>\n",
       "      <td>0</td>\n",
       "    </tr>\n",
       "    <tr>\n",
       "      <th>2</th>\n",
       "      <td>none</td>\n",
       "      <td>1</td>\n",
       "      <td>-1</td>\n",
       "      <td>0</td>\n",
       "    </tr>\n",
       "    <tr>\n",
       "      <th>3</th>\n",
       "      <td>none</td>\n",
       "      <td>2</td>\n",
       "      <td>-3</td>\n",
       "      <td>-1</td>\n",
       "    </tr>\n",
       "    <tr>\n",
       "      <th>4</th>\n",
       "      <td>none</td>\n",
       "      <td>2</td>\n",
       "      <td>-4</td>\n",
       "      <td>-2</td>\n",
       "    </tr>\n",
       "    <tr>\n",
       "      <th>10</th>\n",
       "      <td>none</td>\n",
       "      <td>2</td>\n",
       "      <td>-1</td>\n",
       "      <td>1</td>\n",
       "    </tr>\n",
       "    <tr>\n",
       "      <th>11</th>\n",
       "      <td>none</td>\n",
       "      <td>2</td>\n",
       "      <td>-2</td>\n",
       "      <td>0</td>\n",
       "    </tr>\n",
       "    <tr>\n",
       "      <th>12</th>\n",
       "      <td>none</td>\n",
       "      <td>2</td>\n",
       "      <td>-3</td>\n",
       "      <td>-1</td>\n",
       "    </tr>\n",
       "    <tr>\n",
       "      <th>13</th>\n",
       "      <td>none</td>\n",
       "      <td>1</td>\n",
       "      <td>-1</td>\n",
       "      <td>0</td>\n",
       "    </tr>\n",
       "    <tr>\n",
       "      <th>17</th>\n",
       "      <td>none</td>\n",
       "      <td>1</td>\n",
       "      <td>-1</td>\n",
       "      <td>0</td>\n",
       "    </tr>\n",
       "    <tr>\n",
       "      <th>18</th>\n",
       "      <td>eu</td>\n",
       "      <td>1</td>\n",
       "      <td>-2</td>\n",
       "      <td>-1</td>\n",
       "    </tr>\n",
       "  </tbody>\n",
       "</table>\n",
       "</div>"
      ],
      "text/plain": [
       "   country  positive  negative  overall_sent\n",
       "1     none         2        -2             0\n",
       "2     none         1        -1             0\n",
       "3     none         2        -3            -1\n",
       "4     none         2        -4            -2\n",
       "10    none         2        -1             1\n",
       "11    none         2        -2             0\n",
       "12    none         2        -3            -1\n",
       "13    none         1        -1             0\n",
       "17    none         1        -1             0\n",
       "18      eu         1        -2            -1"
      ]
     },
     "execution_count": 55,
     "metadata": {},
     "output_type": "execute_result"
    }
   ],
   "source": [
    "df_original[['country', 'positive', 'negative', 'overall_sent']].head(10)"
   ]
  },
  {
   "cell_type": "markdown",
   "id": "proprietary-schema",
   "metadata": {},
   "source": [
    "### Descriptive statistics"
   ]
  },
  {
   "cell_type": "code",
   "execution_count": 56,
   "id": "flush-bloom",
   "metadata": {},
   "outputs": [
    {
     "data": {
      "text/plain": [
       "none    15384\n",
       "usa       981\n",
       "eu        574\n",
       "both       15\n",
       "Name: country, dtype: int64"
      ]
     },
     "execution_count": 56,
     "metadata": {},
     "output_type": "execute_result"
    }
   ],
   "source": [
    "df_original['country'].value_counts()"
   ]
  },
  {
   "cell_type": "code",
   "execution_count": 57,
   "id": "purple-niger",
   "metadata": {},
   "outputs": [
    {
     "data": {
      "text/plain": [
       "count   16954.000\n",
       "mean       -0.516\n",
       "std         1.171\n",
       "min        -4.000\n",
       "25%        -1.000\n",
       "50%         0.000\n",
       "75%         0.000\n",
       "max         4.000\n",
       "Name: overall_sent, dtype: float64"
      ]
     },
     "execution_count": 57,
     "metadata": {},
     "output_type": "execute_result"
    }
   ],
   "source": [
    "df_original['overall_sent'].describe()"
   ]
  },
  {
   "cell_type": "code",
   "execution_count": 58,
   "id": "hazardous-finger",
   "metadata": {},
   "outputs": [
    {
     "data": {
      "text/html": [
       "<div>\n",
       "<style scoped>\n",
       "    .dataframe tbody tr th:only-of-type {\n",
       "        vertical-align: middle;\n",
       "    }\n",
       "\n",
       "    .dataframe tbody tr th {\n",
       "        vertical-align: top;\n",
       "    }\n",
       "\n",
       "    .dataframe thead th {\n",
       "        text-align: right;\n",
       "    }\n",
       "</style>\n",
       "<table border=\"1\" class=\"dataframe\">\n",
       "  <thead>\n",
       "    <tr style=\"text-align: right;\">\n",
       "      <th></th>\n",
       "      <th>count</th>\n",
       "      <th>mean</th>\n",
       "      <th>std</th>\n",
       "      <th>min</th>\n",
       "      <th>25%</th>\n",
       "      <th>50%</th>\n",
       "      <th>75%</th>\n",
       "      <th>max</th>\n",
       "    </tr>\n",
       "    <tr>\n",
       "      <th>country</th>\n",
       "      <th></th>\n",
       "      <th></th>\n",
       "      <th></th>\n",
       "      <th></th>\n",
       "      <th></th>\n",
       "      <th></th>\n",
       "      <th></th>\n",
       "      <th></th>\n",
       "    </tr>\n",
       "  </thead>\n",
       "  <tbody>\n",
       "    <tr>\n",
       "      <th>both</th>\n",
       "      <td>15.000</td>\n",
       "      <td>-0.933</td>\n",
       "      <td>1.335</td>\n",
       "      <td>-3.000</td>\n",
       "      <td>-2.000</td>\n",
       "      <td>-1.000</td>\n",
       "      <td>0.000</td>\n",
       "      <td>1.000</td>\n",
       "    </tr>\n",
       "    <tr>\n",
       "      <th>eu</th>\n",
       "      <td>574.000</td>\n",
       "      <td>-0.923</td>\n",
       "      <td>0.495</td>\n",
       "      <td>-3.000</td>\n",
       "      <td>-1.000</td>\n",
       "      <td>-1.000</td>\n",
       "      <td>-1.000</td>\n",
       "      <td>1.000</td>\n",
       "    </tr>\n",
       "    <tr>\n",
       "      <th>none</th>\n",
       "      <td>15384.000</td>\n",
       "      <td>-0.491</td>\n",
       "      <td>1.175</td>\n",
       "      <td>-4.000</td>\n",
       "      <td>-1.000</td>\n",
       "      <td>0.000</td>\n",
       "      <td>0.000</td>\n",
       "      <td>4.000</td>\n",
       "    </tr>\n",
       "    <tr>\n",
       "      <th>usa</th>\n",
       "      <td>981.000</td>\n",
       "      <td>-0.664</td>\n",
       "      <td>1.320</td>\n",
       "      <td>-4.000</td>\n",
       "      <td>-2.000</td>\n",
       "      <td>-1.000</td>\n",
       "      <td>0.000</td>\n",
       "      <td>4.000</td>\n",
       "    </tr>\n",
       "  </tbody>\n",
       "</table>\n",
       "</div>"
      ],
      "text/plain": [
       "            count   mean   std    min    25%    50%    75%   max\n",
       "country                                                         \n",
       "both       15.000 -0.933 1.335 -3.000 -2.000 -1.000  0.000 1.000\n",
       "eu        574.000 -0.923 0.495 -3.000 -1.000 -1.000 -1.000 1.000\n",
       "none    15384.000 -0.491 1.175 -4.000 -1.000  0.000  0.000 4.000\n",
       "usa       981.000 -0.664 1.320 -4.000 -2.000 -1.000  0.000 4.000"
      ]
     },
     "execution_count": 58,
     "metadata": {},
     "output_type": "execute_result"
    }
   ],
   "source": [
    "df_original.groupby(['country'])['overall_sent'].describe()"
   ]
  },
  {
   "cell_type": "markdown",
   "id": "prospective-powder",
   "metadata": {},
   "source": [
    "### Univariate visualisations"
   ]
  },
  {
   "cell_type": "code",
   "execution_count": 59,
   "id": "greenhouse-shareware",
   "metadata": {},
   "outputs": [
    {
     "data": {
      "text/plain": [
       "<AxesSubplot:xlabel='country', ylabel='count'>"
      ]
     },
     "execution_count": 59,
     "metadata": {},
     "output_type": "execute_result"
    },
    {
     "data": {
      "image/png": "[encoded data removed]",
      "text/plain": [
       "<Figure size 432x288 with 1 Axes>"
      ]
     },
     "metadata": {
      "needs_background": "light"
     },
     "output_type": "display_data"
    }
   ],
   "source": [
    "# IV - categorical\n",
    "sns.countplot(x='country', data=df_original)"
   ]
  },
  {
   "cell_type": "code",
   "execution_count": 62,
   "id": "pointed-router",
   "metadata": {},
   "outputs": [
    {
     "data": {
      "text/plain": [
       "<seaborn.axisgrid.FacetGrid at 0x7f7d044418e0>"
      ]
     },
     "execution_count": 62,
     "metadata": {},
     "output_type": "execute_result"
    },
    {
     "data": {
      "image/png": "[encoded data removed]",
      "text/plain": [
       "<Figure size 360x360 with 1 Axes>"
      ]
     },
     "metadata": {
      "needs_background": "light"
     },
     "output_type": "display_data"
    }
   ],
   "source": [
    "# DV - continous\n",
    "sns.displot(x = 'overall_sent', data = df_original)"
   ]
  },
  {
   "cell_type": "code",
   "execution_count": 63,
   "id": "collaborative-county",
   "metadata": {},
   "outputs": [
    {
     "data": {
      "text/plain": [
       "<seaborn.axisgrid.FacetGrid at 0x7f7d047e16a0>"
      ]
     },
     "execution_count": 63,
     "metadata": {},
     "output_type": "execute_result"
    },
    {
     "data": {
      "image/png": "[encoded data removed]",
      "text/plain": [
       "<Figure size 360x360 with 1 Axes>"
      ]
     },
     "metadata": {
      "needs_background": "light"
     },
     "output_type": "display_data"
    }
   ],
   "source": [
    "sns.displot(x = 'overall_sent', data = df_original[df_original['country']== 'usa'])"
   ]
  },
  {
   "cell_type": "code",
   "execution_count": 64,
   "id": "political-upper",
   "metadata": {},
   "outputs": [
    {
     "data": {
      "text/plain": [
       "<seaborn.axisgrid.FacetGrid at 0x7f7d1cdfeb20>"
      ]
     },
     "execution_count": 64,
     "metadata": {},
     "output_type": "execute_result"
    },
    {
     "data": {
      "image/png": "[encoded data removed]",
      "text/plain": [
       "<Figure size 360x360 with 1 Axes>"
      ]
     },
     "metadata": {
      "needs_background": "light"
     },
     "output_type": "display_data"
    }
   ],
   "source": [
    "sns.displot(x = 'overall_sent', data = df_original[df_original['country']== 'eu'])"
   ]
  },
  {
   "cell_type": "markdown",
   "id": "interstate-milwaukee",
   "metadata": {},
   "source": [
    "### Bivariate visualisations"
   ]
  },
  {
   "cell_type": "code",
   "execution_count": 65,
   "id": "welcome-stockholm",
   "metadata": {},
   "outputs": [
    {
     "data": {
      "text/plain": [
       "<AxesSubplot:xlabel='country', ylabel='overall_sent'>"
      ]
     },
     "execution_count": 65,
     "metadata": {},
     "output_type": "execute_result"
    },
    {
     "data": {
      "image/png": "[encoded data removed]",
      "text/plain": [
       "<Figure size 432x288 with 1 Axes>"
      ]
     },
     "metadata": {
      "needs_background": "light"
     },
     "output_type": "display_data"
    }
   ],
   "source": [
    "# IV - categorical, DV - continous\n",
    "sns.barplot(x='country', y='overall_sent', data=df_original)"
   ]
  },
  {
   "cell_type": "code",
   "execution_count": null,
   "id": "contained-scheme",
   "metadata": {},
   "outputs": [],
   "source": []
  }
 ],
 "metadata": {
  "interpreter": {
   "hash": "aee8b7b246df8f9039afb4144a1f6fd8d2ca17a180786b69acc140d282b71a49"
  },
  "kernelspec": {
   "display_name": "Python 3 (ipykernel)",
   "language": "python",
   "name": "python3"
  },
  "language_info": {
   "codemirror_mode": {
    "name": "ipython",
    "version": 3
   },
   "file_extension": ".py",
   "mimetype": "text/x-python",
   "name": "python",
   "nbconvert_exporter": "python",
   "pygments_lexer": "ipython3",
   "version": "3.10.9"
  }
 },
 "nbformat": 4,
 "nbformat_minor": 5
}
