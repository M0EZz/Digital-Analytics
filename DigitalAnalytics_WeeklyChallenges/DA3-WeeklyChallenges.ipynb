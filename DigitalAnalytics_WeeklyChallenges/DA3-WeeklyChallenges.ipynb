{
 "cells": [
  {
   "cell_type": "markdown",
   "metadata": {},
   "source": [
    "# Challenges for week 3\n",
    "\n",
    "Now that we've seen how to clean in Pandas, it's time for you to apply this knowledge. This week has three challenges. Make sure to give it a try and complete all of them. \n",
    "\n",
    "Each challenge has three components:\n",
    "1. **Programming**: Applying one of the programming or data analysis steps in Python you learned in the tutorial\n",
    "2. **Interpretation**: Explaining what you are doing and interpreting the results of the data analysis in MarkDown \n",
    "3. **Reflection**: Connecting these concepts with the literature of the week in a short reflection (*max 300 words*)\n",
    "\n",
    "**Some important notes for the challenges:**\n",
    "1. These challenges are a warming up, and help you get ready for class. Make sure to give them a try on all of them. If you get an error message, try to troubleshoot it (using Google often helps). If all else fails, go to the next challenge (but make sure to hand it in).\n",
    "2. While we of course like when you get all the answers right, the important thing is to exercise and apply the knowledge. So we will still accept challenges that may not be complete, as long as we see enough effort *for each challenge*. The rubric (see Canvas) reflects this.\n",
    "3. Delivering the challenge on time on Canvas assignment is critical, as it helps also prepare for the DA live session. Check on Canvas how to hand it in.\n",
    "\n",
    "### Facing issues? \n",
    "\n",
    "We are constantly monitoring the issues on the GitHub to help you out. Don't hesitate to log an issue there, explaining well what the problem is, showing the code you are using, and the error message you may be receiving. \n",
    "\n",
    "**Important:** We are only monitoring the repository in weekdays, from 9.30 to 17.00. Issues logged after this time will most likely be answered the next day. This means you should not wait for our response before submitting a challenge :-)\n",
    "\n",
    "\n"
   ]
  },
  {
   "cell_type": "markdown",
   "metadata": {},
   "source": [
    "## Getting setup for the challenges\n",
    "\n",
    "We will again use  Twitter data for the challenges of this week. This means you need:\n",
    "* Twitter data you have collected using twarc\n",
    "* The sentiment analysis results (get them from SurfDrive)\n",
    "\n",
    "**All the challenges below are with this Twitter data. Make sure to start your challenge by doing the basics of loading and inspecting the data, even if not specified in challenge itself.**\n",
    "\n"
   ]
  },
  {
   "cell_type": "markdown",
   "metadata": {},
   "source": [
    "## Challenge 1\n",
    "\n",
    "In the last tutorial, we have talked about the importance of data minimization and pseudonimization. Now you know it, we would like to ask you to prepare your Twitter dataset in this way.\n",
    "\n",
    "Imagine you are currenlty working on the following research question:\n",
    "\n",
    "To what extent does the sentiment expressed in a tweet influence user engagement with the tweet (likes and retweets)?\n",
    "\n",
    "### Programming challenge\n",
    "\n",
    "Using your Twitter data collected via ```twarc```, load it  with ```pandas``` and\n",
    "1. Determine which variables are relevant for the research question (don't forget to include control variables that you think are relevant related both to users and tweets).\n",
    "2. Create a minimized dataset (dataset with only variables necessary to answer the research question).\n",
    "3. Make sure that the minimized dataset is pseudonymized (identifying information about users is removed from user-related columns and from text).\n",
    "\n",
    "### Reflection\n",
    "\n",
    "Tucker (2019) discusses privacy risks involved when data is used for artificial intelligence applications and digital analytics, namely *data persistance, repurposing and spillovers*. Select one of the risks and reflect to what extent such technical solutions as data minimization and pseudonimization can mitigate these risks. Is more needed to protect privacy of users?\n"
   ]
  },
  {
   "cell_type": "markdown",
   "metadata": {},
   "source": [
    "### Choosing releavnt columns:\n",
    "\n",
    "IV: Sentiment - I need text\n",
    "\n",
    "DV: Engagement - I need likes and retweets\n",
    "\n",
    "Control variables - number of followers of the author, author of the tweet"
   ]
  },
  {
   "cell_type": "code",
   "execution_count": 1,
   "metadata": {},
   "outputs": [],
   "source": [
    "import pandas as pd"
   ]
  },
  {
   "cell_type": "code",
   "execution_count": 2,
   "metadata": {},
   "outputs": [],
   "source": [
    "df_jsonl = pd.read_json('/Users/jstrych1/Documents/Digital_Analytics/2223s1_materials/DA-StudentFiles/LocalFiles/results_privacy.jsonl', lines=True)"
   ]
  },
  {
   "cell_type": "code",
   "execution_count": 4,
   "metadata": {},
   "outputs": [
    {
     "data": {
      "text/html": [
       "<div>\n",
       "<style scoped>\n",
       "    .dataframe tbody tr th:only-of-type {\n",
       "        vertical-align: middle;\n",
       "    }\n",
       "\n",
       "    .dataframe tbody tr th {\n",
       "        vertical-align: top;\n",
       "    }\n",
       "\n",
       "    .dataframe thead th {\n",
       "        text-align: right;\n",
       "    }\n",
       "</style>\n",
       "<table border=\"1\" class=\"dataframe\">\n",
       "  <thead>\n",
       "    <tr style=\"text-align: right;\">\n",
       "      <th></th>\n",
       "      <th>data</th>\n",
       "      <th>includes</th>\n",
       "      <th>meta</th>\n",
       "      <th>__twarc</th>\n",
       "      <th>errors</th>\n",
       "    </tr>\n",
       "  </thead>\n",
       "  <tbody>\n",
       "    <tr>\n",
       "      <th>0</th>\n",
       "      <td>[{'source': 'Twitter for Android', 'id': '1496...</td>\n",
       "      <td>{'users': [{'pinned_tweet_id': '14960329870493...</td>\n",
       "      <td>{'newest_id': '1496434995132575748', 'oldest_i...</td>\n",
       "      <td>{'url': 'https://api.twitter.com/2/tweets/sear...</td>\n",
       "      <td>NaN</td>\n",
       "    </tr>\n",
       "    <tr>\n",
       "      <th>1</th>\n",
       "      <td>[{'attachments': {'media_keys': ['3_1496434149...</td>\n",
       "      <td>{'media': [{'url': 'https://pbs.twimg.com/medi...</td>\n",
       "      <td>{'newest_id': '1496434152077471745', 'oldest_i...</td>\n",
       "      <td>{'url': 'https://api.twitter.com/2/tweets/sear...</td>\n",
       "      <td>[{'resource_id': '1496433036564791297', 'param...</td>\n",
       "    </tr>\n",
       "    <tr>\n",
       "      <th>2</th>\n",
       "      <td>[{'lang': 'en', 'author_id': '285509027', 'sou...</td>\n",
       "      <td>{'users': [{'public_metrics': {'followers_coun...</td>\n",
       "      <td>{'newest_id': '1496433251954606081', 'oldest_i...</td>\n",
       "      <td>{'url': 'https://api.twitter.com/2/tweets/sear...</td>\n",
       "      <td>[{'parameter': 'entities.mentions.username', '...</td>\n",
       "    </tr>\n",
       "    <tr>\n",
       "      <th>3</th>\n",
       "      <td>[{'reply_settings': 'everyone', 'public_metric...</td>\n",
       "      <td>{'users': [{'protected': False, 'location': 'L...</td>\n",
       "      <td>{'newest_id': '1496432538725883904', 'oldest_i...</td>\n",
       "      <td>{'url': 'https://api.twitter.com/2/tweets/sear...</td>\n",
       "      <td>[{'parameter': 'entities.mentions.username', '...</td>\n",
       "    </tr>\n",
       "    <tr>\n",
       "      <th>4</th>\n",
       "      <td>[{'conversation_id': '1496431783487086592', 'a...</td>\n",
       "      <td>{'users': [{'profile_image_url': 'https://pbs....</td>\n",
       "      <td>{'newest_id': '1496431783487086592', 'oldest_i...</td>\n",
       "      <td>{'url': 'https://api.twitter.com/2/tweets/sear...</td>\n",
       "      <td>NaN</td>\n",
       "    </tr>\n",
       "  </tbody>\n",
       "</table>\n",
       "</div>"
      ],
      "text/plain": [
       "                                                data  \\\n",
       "0  [{'source': 'Twitter for Android', 'id': '1496...   \n",
       "1  [{'attachments': {'media_keys': ['3_1496434149...   \n",
       "2  [{'lang': 'en', 'author_id': '285509027', 'sou...   \n",
       "3  [{'reply_settings': 'everyone', 'public_metric...   \n",
       "4  [{'conversation_id': '1496431783487086592', 'a...   \n",
       "\n",
       "                                            includes  \\\n",
       "0  {'users': [{'pinned_tweet_id': '14960329870493...   \n",
       "1  {'media': [{'url': 'https://pbs.twimg.com/medi...   \n",
       "2  {'users': [{'public_metrics': {'followers_coun...   \n",
       "3  {'users': [{'protected': False, 'location': 'L...   \n",
       "4  {'users': [{'profile_image_url': 'https://pbs....   \n",
       "\n",
       "                                                meta  \\\n",
       "0  {'newest_id': '1496434995132575748', 'oldest_i...   \n",
       "1  {'newest_id': '1496434152077471745', 'oldest_i...   \n",
       "2  {'newest_id': '1496433251954606081', 'oldest_i...   \n",
       "3  {'newest_id': '1496432538725883904', 'oldest_i...   \n",
       "4  {'newest_id': '1496431783487086592', 'oldest_i...   \n",
       "\n",
       "                                             __twarc  \\\n",
       "0  {'url': 'https://api.twitter.com/2/tweets/sear...   \n",
       "1  {'url': 'https://api.twitter.com/2/tweets/sear...   \n",
       "2  {'url': 'https://api.twitter.com/2/tweets/sear...   \n",
       "3  {'url': 'https://api.twitter.com/2/tweets/sear...   \n",
       "4  {'url': 'https://api.twitter.com/2/tweets/sear...   \n",
       "\n",
       "                                              errors  \n",
       "0                                                NaN  \n",
       "1  [{'resource_id': '1496433036564791297', 'param...  \n",
       "2  [{'parameter': 'entities.mentions.username', '...  \n",
       "3  [{'parameter': 'entities.mentions.username', '...  \n",
       "4                                                NaN  "
      ]
     },
     "execution_count": 4,
     "metadata": {},
     "output_type": "execute_result"
    }
   ],
   "source": [
    "df_jsonl.head()"
   ]
  },
  {
   "cell_type": "markdown",
   "metadata": {},
   "source": [
    "Now I need to make sure I get the relevant information from this dataframe using functions shown in week 2. It looks like I also need to get the information about users to create my control variables"
   ]
  },
  {
   "cell_type": "code",
   "execution_count": 5,
   "metadata": {},
   "outputs": [],
   "source": [
    "def get_public_metrics(row):\n",
    "    if 'public_metrics' in row.keys():\n",
    "        if type(row['public_metrics']) == dict:\n",
    "            for key, value in row['public_metrics'].items():\n",
    "                row['metric_' + str(key)] = value\n",
    "    return row\n",
    "\n",
    "def get_tweets(df):\n",
    "    if 'data' not in df.columns:\n",
    "        return None\n",
    "    results = pd.DataFrame()\n",
    "    for item in df['data'].values.tolist():\n",
    "        results = pd.concat([results, pd.DataFrame(item)])\n",
    "        \n",
    "    results = results.apply(get_public_metrics, axis=1)\n",
    "        \n",
    "    results = results.reset_index()\n",
    "    del results['index']\n",
    "        \n",
    "    return results"
   ]
  },
  {
   "cell_type": "code",
   "execution_count": 6,
   "metadata": {},
   "outputs": [],
   "source": [
    "#This dataframe contains all tweets - one tweet per row\n",
    "tweets = get_tweets(df_jsonl) "
   ]
  },
  {
   "cell_type": "code",
   "execution_count": 7,
   "metadata": {},
   "outputs": [],
   "source": [
    "def get_users(df):\n",
    "    if 'includes' not in df.columns:\n",
    "        return None\n",
    "    results = pd.DataFrame()\n",
    "    for item in df['includes'].values.tolist():\n",
    "        results = pd.concat([results,pd.DataFrame(item['users'])])\n",
    "    \n",
    "    results = results.apply(get_public_metrics, axis=1)\n",
    "       \n",
    "    results = results.reset_index()\n",
    "    del results['index']\n",
    "        \n",
    "    return results"
   ]
  },
  {
   "cell_type": "code",
   "execution_count": 8,
   "metadata": {},
   "outputs": [],
   "source": [
    "#This dataframe contains all users - one user per row\n",
    "users = get_users(df_jsonl)"
   ]
  },
  {
   "cell_type": "code",
   "execution_count": 8,
   "metadata": {},
   "outputs": [
    {
     "data": {
      "text/html": [
       "<div>\n",
       "<style scoped>\n",
       "    .dataframe tbody tr th:only-of-type {\n",
       "        vertical-align: middle;\n",
       "    }\n",
       "\n",
       "    .dataframe tbody tr th {\n",
       "        vertical-align: top;\n",
       "    }\n",
       "\n",
       "    .dataframe thead th {\n",
       "        text-align: right;\n",
       "    }\n",
       "</style>\n",
       "<table border=\"1\" class=\"dataframe\">\n",
       "  <thead>\n",
       "    <tr style=\"text-align: right;\">\n",
       "      <th></th>\n",
       "      <th>id</th>\n",
       "      <th>id_str</th>\n",
       "      <th>name</th>\n",
       "      <th>screen_name</th>\n",
       "      <th>location</th>\n",
       "      <th>description</th>\n",
       "      <th>url</th>\n",
       "      <th>protected</th>\n",
       "      <th>followers_count</th>\n",
       "      <th>friends_count</th>\n",
       "      <th>...</th>\n",
       "      <th>has_extended_profile</th>\n",
       "      <th>default_profile</th>\n",
       "      <th>default_profile_image</th>\n",
       "      <th>following</th>\n",
       "      <th>follow_request_sent</th>\n",
       "      <th>notifications</th>\n",
       "      <th>translator_type</th>\n",
       "      <th>withheld_in_countries</th>\n",
       "      <th>entities.description.urls</th>\n",
       "      <th>entities.url.urls</th>\n",
       "    </tr>\n",
       "  </thead>\n",
       "  <tbody>\n",
       "    <tr>\n",
       "      <th>0</th>\n",
       "      <td>1427919498</td>\n",
       "      <td>1427919498</td>\n",
       "      <td>DarSzym 💯🇵🇱</td>\n",
       "      <td>darszym1</td>\n",
       "      <td>Warszawa, Polska</td>\n",
       "      <td>Naród może przetrwać gdy rządzą nim głupcy, a ...</td>\n",
       "      <td>None</td>\n",
       "      <td>False</td>\n",
       "      <td>1759</td>\n",
       "      <td>1757</td>\n",
       "      <td>...</td>\n",
       "      <td>False</td>\n",
       "      <td>False</td>\n",
       "      <td>False</td>\n",
       "      <td>False</td>\n",
       "      <td>False</td>\n",
       "      <td>False</td>\n",
       "      <td>none</td>\n",
       "      <td>[]</td>\n",
       "      <td>[]</td>\n",
       "      <td>NaN</td>\n",
       "    </tr>\n",
       "    <tr>\n",
       "      <th>1</th>\n",
       "      <td>1405176502396895239</td>\n",
       "      <td>1405176502396895239</td>\n",
       "      <td>Hye</td>\n",
       "      <td>nhnaychiw</td>\n",
       "      <td>United States</td>\n",
       "      <td>|🐳|\\n•b a n g t a n b o y s•\\n\\n\\n\\n\\n\\n\\n\\n\\n...</td>\n",
       "      <td>None</td>\n",
       "      <td>False</td>\n",
       "      <td>21</td>\n",
       "      <td>205</td>\n",
       "      <td>...</td>\n",
       "      <td>True</td>\n",
       "      <td>True</td>\n",
       "      <td>False</td>\n",
       "      <td>False</td>\n",
       "      <td>False</td>\n",
       "      <td>False</td>\n",
       "      <td>none</td>\n",
       "      <td>[]</td>\n",
       "      <td>[]</td>\n",
       "      <td>NaN</td>\n",
       "    </tr>\n",
       "    <tr>\n",
       "      <th>2</th>\n",
       "      <td>3371551073</td>\n",
       "      <td>3371551073</td>\n",
       "      <td>Natamas</td>\n",
       "      <td>s4nuy3</td>\n",
       "      <td></td>\n",
       "      <td>7 και μπλε</td>\n",
       "      <td>None</td>\n",
       "      <td>False</td>\n",
       "      <td>879</td>\n",
       "      <td>166</td>\n",
       "      <td>...</td>\n",
       "      <td>False</td>\n",
       "      <td>False</td>\n",
       "      <td>False</td>\n",
       "      <td>False</td>\n",
       "      <td>False</td>\n",
       "      <td>False</td>\n",
       "      <td>none</td>\n",
       "      <td>[]</td>\n",
       "      <td>[]</td>\n",
       "      <td>NaN</td>\n",
       "    </tr>\n",
       "    <tr>\n",
       "      <th>3</th>\n",
       "      <td>1389404162899673090</td>\n",
       "      <td>1389404162899673090</td>\n",
       "      <td>Madeleine Love</td>\n",
       "      <td>MaddyLoveSpare</td>\n",
       "      <td>Indi electorate</td>\n",
       "      <td>A pandemic is the consequence of two things - ...</td>\n",
       "      <td>None</td>\n",
       "      <td>False</td>\n",
       "      <td>230</td>\n",
       "      <td>222</td>\n",
       "      <td>...</td>\n",
       "      <td>False</td>\n",
       "      <td>True</td>\n",
       "      <td>False</td>\n",
       "      <td>False</td>\n",
       "      <td>False</td>\n",
       "      <td>False</td>\n",
       "      <td>none</td>\n",
       "      <td>[]</td>\n",
       "      <td>[]</td>\n",
       "      <td>NaN</td>\n",
       "    </tr>\n",
       "    <tr>\n",
       "      <th>4</th>\n",
       "      <td>188739286</td>\n",
       "      <td>188739286</td>\n",
       "      <td>Médias Libres</td>\n",
       "      <td>mediaslibres</td>\n",
       "      <td></td>\n",
       "      <td>Agrégateur des (glorieux) médias alternatifs f...</td>\n",
       "      <td>https://t.co/7aNjkNZHAn</td>\n",
       "      <td>False</td>\n",
       "      <td>6332</td>\n",
       "      <td>26</td>\n",
       "      <td>...</td>\n",
       "      <td>False</td>\n",
       "      <td>False</td>\n",
       "      <td>False</td>\n",
       "      <td>False</td>\n",
       "      <td>False</td>\n",
       "      <td>False</td>\n",
       "      <td>none</td>\n",
       "      <td>[]</td>\n",
       "      <td>[{'url': 'https://t.co/7aNjkNZHAn', 'expanded_...</td>\n",
       "      <td>[{'url': 'https://t.co/7aNjkNZHAn', 'expanded_...</td>\n",
       "    </tr>\n",
       "  </tbody>\n",
       "</table>\n",
       "<p>5 rows × 44 columns</p>\n",
       "</div>"
      ],
      "text/plain": [
       "                    id               id_str            name     screen_name  \\\n",
       "0           1427919498           1427919498     DarSzym 💯🇵🇱        darszym1   \n",
       "1  1405176502396895239  1405176502396895239             Hye       nhnaychiw   \n",
       "2           3371551073           3371551073         Natamas          s4nuy3   \n",
       "3  1389404162899673090  1389404162899673090  Madeleine Love  MaddyLoveSpare   \n",
       "4            188739286            188739286   Médias Libres    mediaslibres   \n",
       "\n",
       "           location                                        description  \\\n",
       "0  Warszawa, Polska  Naród może przetrwać gdy rządzą nim głupcy, a ...   \n",
       "1     United States  |🐳|\\n•b a n g t a n b o y s•\\n\\n\\n\\n\\n\\n\\n\\n\\n...   \n",
       "2                                                           7 και μπλε   \n",
       "3   Indi electorate  A pandemic is the consequence of two things - ...   \n",
       "4                    Agrégateur des (glorieux) médias alternatifs f...   \n",
       "\n",
       "                       url  protected  followers_count  friends_count  ...  \\\n",
       "0                     None      False             1759           1757  ...   \n",
       "1                     None      False               21            205  ...   \n",
       "2                     None      False              879            166  ...   \n",
       "3                     None      False              230            222  ...   \n",
       "4  https://t.co/7aNjkNZHAn      False             6332             26  ...   \n",
       "\n",
       "   has_extended_profile default_profile  default_profile_image following  \\\n",
       "0                 False           False                  False     False   \n",
       "1                  True            True                  False     False   \n",
       "2                 False           False                  False     False   \n",
       "3                 False            True                  False     False   \n",
       "4                 False           False                  False     False   \n",
       "\n",
       "  follow_request_sent  notifications  translator_type  withheld_in_countries  \\\n",
       "0               False          False             none                     []   \n",
       "1               False          False             none                     []   \n",
       "2               False          False             none                     []   \n",
       "3               False          False             none                     []   \n",
       "4               False          False             none                     []   \n",
       "\n",
       "                           entities.description.urls  \\\n",
       "0                                                 []   \n",
       "1                                                 []   \n",
       "2                                                 []   \n",
       "3                                                 []   \n",
       "4  [{'url': 'https://t.co/7aNjkNZHAn', 'expanded_...   \n",
       "\n",
       "                                   entities.url.urls  \n",
       "0                                                NaN  \n",
       "1                                                NaN  \n",
       "2                                                NaN  \n",
       "3                                                NaN  \n",
       "4  [{'url': 'https://t.co/7aNjkNZHAn', 'expanded_...  \n",
       "\n",
       "[5 rows x 44 columns]"
      ]
     },
     "execution_count": 8,
     "metadata": {},
     "output_type": "execute_result"
    }
   ],
   "source": [
    "df_user.head()"
   ]
  },
  {
   "cell_type": "markdown",
   "metadata": {},
   "source": [
    "Now I have two dataframes - with users and with Tweets. To make sure I have my control variables, I need to merge them. Before merging, I make sure that I have a dataframe with unique user information."
   ]
  },
  {
   "cell_type": "code",
   "execution_count": 9,
   "metadata": {},
   "outputs": [],
   "source": [
    "#users_unique has unique users only\n",
    "users_unique = users.drop_duplicates(subset=['id'])"
   ]
  },
  {
   "cell_type": "code",
   "execution_count": 10,
   "metadata": {},
   "outputs": [],
   "source": [
    "df = tweets.merge(users_unique, how='left', left_on='author_id', right_on='id', suffixes=('_tweets', '_users'))"
   ]
  },
  {
   "cell_type": "code",
   "execution_count": 11,
   "metadata": {},
   "outputs": [
    {
     "data": {
      "text/plain": [
       "Index(['source', 'id_tweets', 'author_id', 'possibly_sensitive',\n",
       "       'reply_settings', 'created_at_tweets', 'conversation_id',\n",
       "       'public_metrics_tweets', 'referenced_tweets', 'entities_tweets', 'lang',\n",
       "       'text', 'context_annotations', 'in_reply_to_user_id', 'attachments',\n",
       "       'geo', 'metric_retweet_count', 'metric_reply_count',\n",
       "       'metric_like_count', 'metric_quote_count', 'pinned_tweet_id',\n",
       "       'description', 'created_at_users', 'profile_image_url', 'name',\n",
       "       'username', 'id_users', 'verified', 'public_metrics_users', 'url',\n",
       "       'protected', 'entities_users', 'location', 'metric_followers_count',\n",
       "       'metric_following_count', 'metric_tweet_count', 'metric_listed_count'],\n",
       "      dtype='object')"
      ]
     },
     "execution_count": 11,
     "metadata": {},
     "output_type": "execute_result"
    }
   ],
   "source": [
    "df.columns"
   ]
  },
  {
   "cell_type": "markdown",
   "metadata": {},
   "source": [
    "It looks like the merge has worked well and I have a dataframe with all the necessary information. However, it is more than I need for my research question so let's make sure to minimize and pseudonymize the data."
   ]
  },
  {
   "cell_type": "markdown",
   "metadata": {},
   "source": [
    "Now, let's minimize the dataset.\n",
    "\n",
    "It looks like I need the following columns:\n",
    "* id\n",
    "* full text\n",
    "* retweets\n",
    "* likes\n",
    "* user name\n",
    "* followers count"
   ]
  },
  {
   "cell_type": "code",
   "execution_count": 12,
   "metadata": {},
   "outputs": [],
   "source": [
    "df_min = df[['id_tweets', 'text', 'metric_retweet_count', 'metric_like_count', 'username', \n",
    "                  'metric_followers_count']]"
   ]
  },
  {
   "cell_type": "code",
   "execution_count": 13,
   "metadata": {},
   "outputs": [],
   "source": [
    "df_min.to_pickle('minimized_tweets.pkl')"
   ]
  },
  {
   "cell_type": "code",
   "execution_count": 14,
   "metadata": {},
   "outputs": [
    {
     "data": {
      "text/html": [
       "<div>\n",
       "<style scoped>\n",
       "    .dataframe tbody tr th:only-of-type {\n",
       "        vertical-align: middle;\n",
       "    }\n",
       "\n",
       "    .dataframe tbody tr th {\n",
       "        vertical-align: top;\n",
       "    }\n",
       "\n",
       "    .dataframe thead th {\n",
       "        text-align: right;\n",
       "    }\n",
       "</style>\n",
       "<table border=\"1\" class=\"dataframe\">\n",
       "  <thead>\n",
       "    <tr style=\"text-align: right;\">\n",
       "      <th></th>\n",
       "      <th>id_tweets</th>\n",
       "      <th>text</th>\n",
       "      <th>metric_retweet_count</th>\n",
       "      <th>metric_like_count</th>\n",
       "      <th>username</th>\n",
       "      <th>metric_followers_count</th>\n",
       "    </tr>\n",
       "  </thead>\n",
       "  <tbody>\n",
       "    <tr>\n",
       "      <th>0</th>\n",
       "      <td>1496434995132575748</td>\n",
       "      <td>RT @tatuadoysafado: Gravei meu primeiro conteu...</td>\n",
       "      <td>208</td>\n",
       "      <td>0</td>\n",
       "      <td>Thirolagrossa</td>\n",
       "      <td>33</td>\n",
       "    </tr>\n",
       "    <tr>\n",
       "      <th>1</th>\n",
       "      <td>1496434990413975557</td>\n",
       "      <td>Conservazione sostitutiva e messa a norma in a...</td>\n",
       "      <td>0</td>\n",
       "      <td>0</td>\n",
       "      <td>hitechlaw</td>\n",
       "      <td>454</td>\n",
       "    </tr>\n",
       "    <tr>\n",
       "      <th>2</th>\n",
       "      <td>1496434987666755588</td>\n",
       "      <td>RT @Mindfulness_DQ: More prayer. More self-car...</td>\n",
       "      <td>2011</td>\n",
       "      <td>0</td>\n",
       "      <td>cleopatrabbg</td>\n",
       "      <td>282</td>\n",
       "    </tr>\n",
       "    <tr>\n",
       "      <th>3</th>\n",
       "      <td>1496434984332275715</td>\n",
       "      <td>RT @TechHerNG: Google is rethinking its privac...</td>\n",
       "      <td>4</td>\n",
       "      <td>0</td>\n",
       "      <td>CCConsultingSL</td>\n",
       "      <td>417</td>\n",
       "    </tr>\n",
       "    <tr>\n",
       "      <th>4</th>\n",
       "      <td>1496434984076419074</td>\n",
       "      <td>RT @odisha_police: OTP is not only stand for t...</td>\n",
       "      <td>64</td>\n",
       "      <td>0</td>\n",
       "      <td>spdeogarh</td>\n",
       "      <td>3951</td>\n",
       "    </tr>\n",
       "  </tbody>\n",
       "</table>\n",
       "</div>"
      ],
      "text/plain": [
       "             id_tweets                                               text  \\\n",
       "0  1496434995132575748  RT @tatuadoysafado: Gravei meu primeiro conteu...   \n",
       "1  1496434990413975557  Conservazione sostitutiva e messa a norma in a...   \n",
       "2  1496434987666755588  RT @Mindfulness_DQ: More prayer. More self-car...   \n",
       "3  1496434984332275715  RT @TechHerNG: Google is rethinking its privac...   \n",
       "4  1496434984076419074  RT @odisha_police: OTP is not only stand for t...   \n",
       "\n",
       "   metric_retweet_count  metric_like_count        username  \\\n",
       "0                   208                  0   Thirolagrossa   \n",
       "1                     0                  0       hitechlaw   \n",
       "2                  2011                  0    cleopatrabbg   \n",
       "3                     4                  0  CCConsultingSL   \n",
       "4                    64                  0       spdeogarh   \n",
       "\n",
       "   metric_followers_count  \n",
       "0                      33  \n",
       "1                     454  \n",
       "2                     282  \n",
       "3                     417  \n",
       "4                    3951  "
      ]
     },
     "execution_count": 14,
     "metadata": {},
     "output_type": "execute_result"
    }
   ],
   "source": [
    "df_min.head()"
   ]
  },
  {
   "cell_type": "markdown",
   "metadata": {},
   "source": [
    "### Anonymization\n",
    "\n",
    "Now, let's make sure we do not have identifying information in the Tweet (at least when it comes to user names)"
   ]
  },
  {
   "cell_type": "code",
   "execution_count": 15,
   "metadata": {},
   "outputs": [],
   "source": [
    "users = df[['username']].drop_duplicates()"
   ]
  },
  {
   "cell_type": "code",
   "execution_count": 16,
   "metadata": {},
   "outputs": [
    {
     "data": {
      "text/plain": [
       "57987"
      ]
     },
     "execution_count": 16,
     "metadata": {},
     "output_type": "execute_result"
    }
   ],
   "source": [
    "len(users)"
   ]
  },
  {
   "cell_type": "code",
   "execution_count": 17,
   "metadata": {},
   "outputs": [
    {
     "data": {
      "text/plain": [
       "71537"
      ]
     },
     "execution_count": 17,
     "metadata": {},
     "output_type": "execute_result"
    }
   ],
   "source": [
    "len(df_min)"
   ]
  },
  {
   "cell_type": "code",
   "execution_count": 18,
   "metadata": {},
   "outputs": [
    {
     "data": {
      "text/plain": [
       "darszym1          1\n",
       "twilgaming        1\n",
       "msmack68          1\n",
       "Duskyqueen20      1\n",
       "PersistFighter    1\n",
       "                 ..\n",
       "EcnErin           1\n",
       "MGHAllergy        1\n",
       "PeterLougee       1\n",
       "dassakaye         1\n",
       "GerardAraud       1\n",
       "Name: screen_name, Length: 57987, dtype: int64"
      ]
     },
     "execution_count": 18,
     "metadata": {},
     "output_type": "execute_result"
    }
   ],
   "source": [
    "users.head(20)"
   ]
  },
  {
   "cell_type": "code",
   "execution_count": 20,
   "metadata": {},
   "outputs": [],
   "source": [
    "users = users.reset_index()"
   ]
  },
  {
   "cell_type": "code",
   "execution_count": 21,
   "metadata": {},
   "outputs": [
    {
     "data": {
      "text/html": [
       "<div>\n",
       "<style scoped>\n",
       "    .dataframe tbody tr th:only-of-type {\n",
       "        vertical-align: middle;\n",
       "    }\n",
       "\n",
       "    .dataframe tbody tr th {\n",
       "        vertical-align: top;\n",
       "    }\n",
       "\n",
       "    .dataframe thead th {\n",
       "        text-align: right;\n",
       "    }\n",
       "</style>\n",
       "<table border=\"1\" class=\"dataframe\">\n",
       "  <thead>\n",
       "    <tr style=\"text-align: right;\">\n",
       "      <th></th>\n",
       "      <th>index</th>\n",
       "      <th>screen_name</th>\n",
       "    </tr>\n",
       "  </thead>\n",
       "  <tbody>\n",
       "    <tr>\n",
       "      <th>0</th>\n",
       "      <td>0</td>\n",
       "      <td>darszym1</td>\n",
       "    </tr>\n",
       "    <tr>\n",
       "      <th>1</th>\n",
       "      <td>1</td>\n",
       "      <td>nhnaychiw</td>\n",
       "    </tr>\n",
       "    <tr>\n",
       "      <th>2</th>\n",
       "      <td>2</td>\n",
       "      <td>s4nuy3</td>\n",
       "    </tr>\n",
       "    <tr>\n",
       "      <th>3</th>\n",
       "      <td>3</td>\n",
       "      <td>MaddyLoveSpare</td>\n",
       "    </tr>\n",
       "    <tr>\n",
       "      <th>4</th>\n",
       "      <td>4</td>\n",
       "      <td>mediaslibres</td>\n",
       "    </tr>\n",
       "  </tbody>\n",
       "</table>\n",
       "</div>"
      ],
      "text/plain": [
       "   index     screen_name\n",
       "0      0        darszym1\n",
       "1      1       nhnaychiw\n",
       "2      2          s4nuy3\n",
       "3      3  MaddyLoveSpare\n",
       "4      4    mediaslibres"
      ]
     },
     "execution_count": 21,
     "metadata": {},
     "output_type": "execute_result"
    }
   ],
   "source": [
    "users.head()"
   ]
  },
  {
   "cell_type": "code",
   "execution_count": 22,
   "metadata": {},
   "outputs": [],
   "source": [
    "users = users.rename(columns={'index': 'pseudID'})"
   ]
  },
  {
   "cell_type": "code",
   "execution_count": 23,
   "metadata": {},
   "outputs": [
    {
     "data": {
      "text/html": [
       "<div>\n",
       "<style scoped>\n",
       "    .dataframe tbody tr th:only-of-type {\n",
       "        vertical-align: middle;\n",
       "    }\n",
       "\n",
       "    .dataframe tbody tr th {\n",
       "        vertical-align: top;\n",
       "    }\n",
       "\n",
       "    .dataframe thead th {\n",
       "        text-align: right;\n",
       "    }\n",
       "</style>\n",
       "<table border=\"1\" class=\"dataframe\">\n",
       "  <thead>\n",
       "    <tr style=\"text-align: right;\">\n",
       "      <th></th>\n",
       "      <th>pseudID</th>\n",
       "      <th>screen_name</th>\n",
       "    </tr>\n",
       "  </thead>\n",
       "  <tbody>\n",
       "    <tr>\n",
       "      <th>0</th>\n",
       "      <td>0</td>\n",
       "      <td>darszym1</td>\n",
       "    </tr>\n",
       "    <tr>\n",
       "      <th>1</th>\n",
       "      <td>1</td>\n",
       "      <td>nhnaychiw</td>\n",
       "    </tr>\n",
       "    <tr>\n",
       "      <th>2</th>\n",
       "      <td>2</td>\n",
       "      <td>s4nuy3</td>\n",
       "    </tr>\n",
       "    <tr>\n",
       "      <th>3</th>\n",
       "      <td>3</td>\n",
       "      <td>MaddyLoveSpare</td>\n",
       "    </tr>\n",
       "    <tr>\n",
       "      <th>4</th>\n",
       "      <td>4</td>\n",
       "      <td>mediaslibres</td>\n",
       "    </tr>\n",
       "  </tbody>\n",
       "</table>\n",
       "</div>"
      ],
      "text/plain": [
       "   pseudID     screen_name\n",
       "0        0        darszym1\n",
       "1        1       nhnaychiw\n",
       "2        2          s4nuy3\n",
       "3        3  MaddyLoveSpare\n",
       "4        4    mediaslibres"
      ]
     },
     "execution_count": 23,
     "metadata": {},
     "output_type": "execute_result"
    }
   ],
   "source": [
    "users.head()"
   ]
  },
  {
   "cell_type": "code",
   "execution_count": 24,
   "metadata": {},
   "outputs": [],
   "source": [
    "df_min = df_min.merge(users, how='left', on='username')"
   ]
  },
  {
   "cell_type": "markdown",
   "metadata": {},
   "source": [
    "Let's check if everything has worked out."
   ]
  },
  {
   "cell_type": "code",
   "execution_count": 25,
   "metadata": {},
   "outputs": [
    {
     "data": {
      "text/plain": [
       "'2'"
      ]
     },
     "execution_count": 25,
     "metadata": {},
     "output_type": "execute_result"
    }
   ],
   "source": [
    "df_min['username'].value_counts()"
   ]
  },
  {
   "cell_type": "code",
   "execution_count": 26,
   "metadata": {},
   "outputs": [],
   "source": [
    "df_min['pseudID'].value_counts()"
   ]
  },
  {
   "cell_type": "code",
   "execution_count": 27,
   "metadata": {},
   "outputs": [],
   "source": [
    "del df_min['username']"
   ]
  },
  {
   "cell_type": "code",
   "execution_count": 32,
   "metadata": {},
   "outputs": [
    {
     "data": {
      "text/html": [
       "<div>\n",
       "<style scoped>\n",
       "    .dataframe tbody tr th:only-of-type {\n",
       "        vertical-align: middle;\n",
       "    }\n",
       "\n",
       "    .dataframe tbody tr th {\n",
       "        vertical-align: top;\n",
       "    }\n",
       "\n",
       "    .dataframe thead th {\n",
       "        text-align: right;\n",
       "    }\n",
       "</style>\n",
       "<table border=\"1\" class=\"dataframe\">\n",
       "  <thead>\n",
       "    <tr style=\"text-align: right;\">\n",
       "      <th></th>\n",
       "      <th>id</th>\n",
       "      <th>full_text</th>\n",
       "      <th>retweet_count</th>\n",
       "      <th>followers_count</th>\n",
       "      <th>favorite_count</th>\n",
       "      <th>pseudID</th>\n",
       "    </tr>\n",
       "  </thead>\n",
       "  <tbody>\n",
       "    <tr>\n",
       "      <th>0</th>\n",
       "      <td>1438405325690974209</td>\n",
       "      <td>RT @janek917: Tabela 5 raportu „Vaccine Survei...</td>\n",
       "      <td>3</td>\n",
       "      <td>1759</td>\n",
       "      <td>0</td>\n",
       "      <td>0</td>\n",
       "    </tr>\n",
       "    <tr>\n",
       "      <th>1</th>\n",
       "      <td>1438405322603999239</td>\n",
       "      <td>RT @JusticeMyanmar: .@TelenorGroup is trying t...</td>\n",
       "      <td>118</td>\n",
       "      <td>21</td>\n",
       "      <td>0</td>\n",
       "      <td>1</td>\n",
       "    </tr>\n",
       "    <tr>\n",
       "      <th>2</th>\n",
       "      <td>1438405320204853248</td>\n",
       "      <td>“conspiracy practices —the methods by which tr...</td>\n",
       "      <td>0</td>\n",
       "      <td>879</td>\n",
       "      <td>0</td>\n",
       "      <td>2</td>\n",
       "    </tr>\n",
       "    <tr>\n",
       "      <th>3</th>\n",
       "      <td>1438405307693027328</td>\n",
       "      <td>@NSWHealth Have you done any work to estimate ...</td>\n",
       "      <td>0</td>\n",
       "      <td>230</td>\n",
       "      <td>0</td>\n",
       "      <td>3</td>\n",
       "    </tr>\n",
       "    <tr>\n",
       "      <th>4</th>\n",
       "      <td>1438405243365101568</td>\n",
       "      <td>De quel type de surveillance le passe sanitair...</td>\n",
       "      <td>0</td>\n",
       "      <td>6332</td>\n",
       "      <td>0</td>\n",
       "      <td>4</td>\n",
       "    </tr>\n",
       "  </tbody>\n",
       "</table>\n",
       "</div>"
      ],
      "text/plain": [
       "                    id                                          full_text  \\\n",
       "0  1438405325690974209  RT @janek917: Tabela 5 raportu „Vaccine Survei...   \n",
       "1  1438405322603999239  RT @JusticeMyanmar: .@TelenorGroup is trying t...   \n",
       "2  1438405320204853248  “conspiracy practices —the methods by which tr...   \n",
       "3  1438405307693027328  @NSWHealth Have you done any work to estimate ...   \n",
       "4  1438405243365101568  De quel type de surveillance le passe sanitair...   \n",
       "\n",
       "   retweet_count  followers_count  favorite_count pseudID  \n",
       "0              3             1759               0       0  \n",
       "1            118               21               0       1  \n",
       "2              0              879               0       2  \n",
       "3              0              230               0       3  \n",
       "4              0             6332               0       4  "
      ]
     },
     "execution_count": 32,
     "metadata": {},
     "output_type": "execute_result"
    }
   ],
   "source": [
    "df_min.head()"
   ]
  },
  {
   "cell_type": "markdown",
   "metadata": {},
   "source": [
    "Let's also make sure to remove all users names from tweet texts."
   ]
  },
  {
   "cell_type": "code",
   "execution_count": 33,
   "metadata": {},
   "outputs": [],
   "source": [
    "df_min= df_min.replace(to_replace ='@\\S+', value = '@mention', regex = True)"
   ]
  },
  {
   "cell_type": "code",
   "execution_count": 15,
   "metadata": {},
   "outputs": [
    {
     "data": {
      "text/html": [
       "<div>\n",
       "<style scoped>\n",
       "    .dataframe tbody tr th:only-of-type {\n",
       "        vertical-align: middle;\n",
       "    }\n",
       "\n",
       "    .dataframe tbody tr th {\n",
       "        vertical-align: top;\n",
       "    }\n",
       "\n",
       "    .dataframe thead th {\n",
       "        text-align: right;\n",
       "    }\n",
       "</style>\n",
       "<table border=\"1\" class=\"dataframe\">\n",
       "  <thead>\n",
       "    <tr style=\"text-align: right;\">\n",
       "      <th></th>\n",
       "      <th>id_tweets</th>\n",
       "      <th>text</th>\n",
       "      <th>metric_retweet_count</th>\n",
       "      <th>metric_like_count</th>\n",
       "      <th>username</th>\n",
       "      <th>metric_followers_count</th>\n",
       "    </tr>\n",
       "  </thead>\n",
       "  <tbody>\n",
       "    <tr>\n",
       "      <th>0</th>\n",
       "      <td>1496434995132575748</td>\n",
       "      <td>RT @tatuadoysafado: Gravei meu primeiro conteu...</td>\n",
       "      <td>208</td>\n",
       "      <td>0</td>\n",
       "      <td>Thirolagrossa</td>\n",
       "      <td>33</td>\n",
       "    </tr>\n",
       "    <tr>\n",
       "      <th>1</th>\n",
       "      <td>1496434990413975557</td>\n",
       "      <td>Conservazione sostitutiva e messa a norma in a...</td>\n",
       "      <td>0</td>\n",
       "      <td>0</td>\n",
       "      <td>hitechlaw</td>\n",
       "      <td>454</td>\n",
       "    </tr>\n",
       "    <tr>\n",
       "      <th>2</th>\n",
       "      <td>1496434987666755588</td>\n",
       "      <td>RT @Mindfulness_DQ: More prayer. More self-car...</td>\n",
       "      <td>2011</td>\n",
       "      <td>0</td>\n",
       "      <td>cleopatrabbg</td>\n",
       "      <td>282</td>\n",
       "    </tr>\n",
       "    <tr>\n",
       "      <th>3</th>\n",
       "      <td>1496434984332275715</td>\n",
       "      <td>RT @TechHerNG: Google is rethinking its privac...</td>\n",
       "      <td>4</td>\n",
       "      <td>0</td>\n",
       "      <td>CCConsultingSL</td>\n",
       "      <td>417</td>\n",
       "    </tr>\n",
       "    <tr>\n",
       "      <th>4</th>\n",
       "      <td>1496434984076419074</td>\n",
       "      <td>RT @odisha_police: OTP is not only stand for t...</td>\n",
       "      <td>64</td>\n",
       "      <td>0</td>\n",
       "      <td>spdeogarh</td>\n",
       "      <td>3951</td>\n",
       "    </tr>\n",
       "  </tbody>\n",
       "</table>\n",
       "</div>"
      ],
      "text/plain": [
       "             id_tweets                                               text  \\\n",
       "0  1496434995132575748  RT @tatuadoysafado: Gravei meu primeiro conteu...   \n",
       "1  1496434990413975557  Conservazione sostitutiva e messa a norma in a...   \n",
       "2  1496434987666755588  RT @Mindfulness_DQ: More prayer. More self-car...   \n",
       "3  1496434984332275715  RT @TechHerNG: Google is rethinking its privac...   \n",
       "4  1496434984076419074  RT @odisha_police: OTP is not only stand for t...   \n",
       "\n",
       "   metric_retweet_count  metric_like_count        username  \\\n",
       "0                   208                  0   Thirolagrossa   \n",
       "1                     0                  0       hitechlaw   \n",
       "2                  2011                  0    cleopatrabbg   \n",
       "3                     4                  0  CCConsultingSL   \n",
       "4                    64                  0       spdeogarh   \n",
       "\n",
       "   metric_followers_count  \n",
       "0                      33  \n",
       "1                     454  \n",
       "2                     282  \n",
       "3                     417  \n",
       "4                    3951  "
      ]
     },
     "execution_count": 15,
     "metadata": {},
     "output_type": "execute_result"
    }
   ],
   "source": [
    "df_min.head()"
   ]
  },
  {
   "cell_type": "markdown",
   "metadata": {},
   "source": [
    "## Challenge 2\n",
    "\n",
    "Last week, you requested sentiment analysis from us. Now, you will work further with it.\n",
    "\n",
    "### Programming challenge\n",
    "\n",
    "Merge the sentiment analysis results with your Twitter data. Make sure to check whether the length of the dataframe generated by the merge makes sense.\n",
    "\n",
    "### Reflection\n",
    "Possler et al. (2019) describe different ways communication scientists can access digital trace data. Looking at the different ways they describe and the advanatages and disadvantages they mention, reflect on the way you have collected data with twarc. In what way is the data collection method limiting? What are the opportunities and challanges you see?  \n"
   ]
  },
  {
   "cell_type": "code",
   "execution_count": 16,
   "metadata": {},
   "outputs": [],
   "source": [
    "df_min = pd.read_pickle('minimized_tweets.pkl')"
   ]
  },
  {
   "cell_type": "code",
   "execution_count": 17,
   "metadata": {},
   "outputs": [
    {
     "data": {
      "text/plain": [
       "id_tweets                  int64\n",
       "text                      object\n",
       "metric_retweet_count       int64\n",
       "metric_followers_count     int64\n",
       "metric_like_count          int64\n",
       "pseudID                   object\n",
       "dtype: object"
      ]
     },
     "execution_count": 17,
     "metadata": {},
     "output_type": "execute_result"
    }
   ],
   "source": [
    "df_min.dtypes"
   ]
  },
  {
   "cell_type": "code",
   "execution_count": 19,
   "metadata": {},
   "outputs": [
    {
     "data": {
      "text/plain": [
       "1438405325690974209    1\n",
       "1437227708480643074    1\n",
       "1437227535683698690    1\n",
       "1437227569611296777    1\n",
       "1437227587944783874    1\n",
       "                      ..\n",
       "1437775002535878667    1\n",
       "1437775000401022983    1\n",
       "1437774993203638281    1\n",
       "1437774984248627201    1\n",
       "1436627917321166852    1\n",
       "Name: id_tweets, Length: 71537, dtype: int64"
      ]
     },
     "execution_count": 19,
     "metadata": {},
     "output_type": "execute_result"
    }
   ],
   "source": [
    "df_min['id_tweets'].value_counts()"
   ]
  },
  {
   "cell_type": "code",
   "execution_count": 20,
   "metadata": {},
   "outputs": [],
   "source": [
    "sentiment = pd.read_pickle('/Users/jstrych1/Downloads/JoannaStrycharz_EN_completed.pkl')"
   ]
  },
  {
   "cell_type": "code",
   "execution_count": 21,
   "metadata": {},
   "outputs": [
    {
     "data": {
      "text/html": [
       "<div>\n",
       "<style scoped>\n",
       "    .dataframe tbody tr th:only-of-type {\n",
       "        vertical-align: middle;\n",
       "    }\n",
       "\n",
       "    .dataframe tbody tr th {\n",
       "        vertical-align: top;\n",
       "    }\n",
       "\n",
       "    .dataframe thead th {\n",
       "        text-align: right;\n",
       "    }\n",
       "</style>\n",
       "<table border=\"1\" class=\"dataframe\">\n",
       "  <thead>\n",
       "    <tr style=\"text-align: right;\">\n",
       "      <th></th>\n",
       "      <th>id</th>\n",
       "      <th>positive</th>\n",
       "      <th>negative</th>\n",
       "      <th>neutral</th>\n",
       "    </tr>\n",
       "  </thead>\n",
       "  <tbody>\n",
       "    <tr>\n",
       "      <th>1</th>\n",
       "      <td>1438405322603999239</td>\n",
       "      <td>1</td>\n",
       "      <td>-1</td>\n",
       "      <td>0</td>\n",
       "    </tr>\n",
       "    <tr>\n",
       "      <th>2</th>\n",
       "      <td>1438405320204853248</td>\n",
       "      <td>2</td>\n",
       "      <td>-2</td>\n",
       "      <td>-1</td>\n",
       "    </tr>\n",
       "    <tr>\n",
       "      <th>3</th>\n",
       "      <td>1438405307693027328</td>\n",
       "      <td>1</td>\n",
       "      <td>-1</td>\n",
       "      <td>0</td>\n",
       "    </tr>\n",
       "    <tr>\n",
       "      <th>5</th>\n",
       "      <td>1438405226801807364</td>\n",
       "      <td>2</td>\n",
       "      <td>-3</td>\n",
       "      <td>-1</td>\n",
       "    </tr>\n",
       "    <tr>\n",
       "      <th>6</th>\n",
       "      <td>1438405184544067589</td>\n",
       "      <td>2</td>\n",
       "      <td>-4</td>\n",
       "      <td>-1</td>\n",
       "    </tr>\n",
       "  </tbody>\n",
       "</table>\n",
       "</div>"
      ],
      "text/plain": [
       "                    id positive negative neutral\n",
       "1  1438405322603999239        1       -1       0\n",
       "2  1438405320204853248        2       -2      -1\n",
       "3  1438405307693027328        1       -1       0\n",
       "5  1438405226801807364        2       -3      -1\n",
       "6  1438405184544067589        2       -4      -1"
      ]
     },
     "execution_count": 21,
     "metadata": {},
     "output_type": "execute_result"
    }
   ],
   "source": [
    "sentiment.head()"
   ]
  },
  {
   "cell_type": "code",
   "execution_count": 22,
   "metadata": {},
   "outputs": [
    {
     "data": {
      "text/plain": [
       "id          object\n",
       "positive    object\n",
       "negative    object\n",
       "neutral     object\n",
       "dtype: object"
      ]
     },
     "execution_count": 22,
     "metadata": {},
     "output_type": "execute_result"
    }
   ],
   "source": [
    "sentiment.dtypes"
   ]
  },
  {
   "cell_type": "code",
   "execution_count": 23,
   "metadata": {},
   "outputs": [
    {
     "data": {
      "text/plain": [
       "1438405322603999239    1\n",
       "1437182041381089283    1\n",
       "1437182574665871365    1\n",
       "1437182572732182529    1\n",
       "1437182544647237633    1\n",
       "                      ..\n",
       "1437792639538057224    1\n",
       "1437792634555228168    1\n",
       "1437792520205918210    1\n",
       "1437792488773799950    1\n",
       "1436627917321166852    1\n",
       "Name: id, Length: 60926, dtype: int64"
      ]
     },
     "execution_count": 23,
     "metadata": {},
     "output_type": "execute_result"
    }
   ],
   "source": [
    "sentiment['id'].value_counts()"
   ]
  },
  {
   "cell_type": "markdown",
   "metadata": {},
   "source": [
    "Conditions for merging:\n",
    "* Same name\n",
    "* Same data type\n",
    "* Unique key"
   ]
  },
  {
   "cell_type": "code",
   "execution_count": 24,
   "metadata": {},
   "outputs": [],
   "source": [
    "sentiment['id'] = sentiment['id'].apply(pd.to_numeric)"
   ]
  },
  {
   "cell_type": "code",
   "execution_count": 25,
   "metadata": {},
   "outputs": [
    {
     "data": {
      "text/plain": [
       "id           int64\n",
       "positive    object\n",
       "negative    object\n",
       "neutral     object\n",
       "dtype: object"
      ]
     },
     "execution_count": 25,
     "metadata": {},
     "output_type": "execute_result"
    }
   ],
   "source": [
    "sentiment.dtypes"
   ]
  },
  {
   "cell_type": "code",
   "execution_count": 28,
   "metadata": {},
   "outputs": [],
   "source": [
    "df_min = df_min.rename(columns={'id_tweets': 'id'})"
   ]
  },
  {
   "cell_type": "code",
   "execution_count": 29,
   "metadata": {},
   "outputs": [
    {
     "data": {
      "text/plain": [
       "(71537, 60926)"
      ]
     },
     "execution_count": 29,
     "metadata": {},
     "output_type": "execute_result"
    }
   ],
   "source": [
    "len(df_min), len(sentiment)"
   ]
  },
  {
   "cell_type": "code",
   "execution_count": 30,
   "metadata": {},
   "outputs": [
    {
     "data": {
      "text/html": [
       "<div>\n",
       "<style scoped>\n",
       "    .dataframe tbody tr th:only-of-type {\n",
       "        vertical-align: middle;\n",
       "    }\n",
       "\n",
       "    .dataframe tbody tr th {\n",
       "        vertical-align: top;\n",
       "    }\n",
       "\n",
       "    .dataframe thead th {\n",
       "        text-align: right;\n",
       "    }\n",
       "</style>\n",
       "<table border=\"1\" class=\"dataframe\">\n",
       "  <thead>\n",
       "    <tr style=\"text-align: right;\">\n",
       "      <th></th>\n",
       "      <th>id</th>\n",
       "      <th>text</th>\n",
       "      <th>metric_retweet_count</th>\n",
       "      <th>metric_followers_count</th>\n",
       "      <th>metric_like_count</th>\n",
       "      <th>pseudID</th>\n",
       "      <th>positive</th>\n",
       "      <th>negative</th>\n",
       "      <th>neutral</th>\n",
       "    </tr>\n",
       "  </thead>\n",
       "  <tbody>\n",
       "    <tr>\n",
       "      <th>0</th>\n",
       "      <td>1438405322603999239</td>\n",
       "      <td>RT @mention .@mention is trying to skirt human...</td>\n",
       "      <td>118</td>\n",
       "      <td>21</td>\n",
       "      <td>0</td>\n",
       "      <td>1</td>\n",
       "      <td>1</td>\n",
       "      <td>-1</td>\n",
       "      <td>0</td>\n",
       "    </tr>\n",
       "    <tr>\n",
       "      <th>1</th>\n",
       "      <td>1438405320204853248</td>\n",
       "      <td>“conspiracy practices —the methods by which tr...</td>\n",
       "      <td>0</td>\n",
       "      <td>879</td>\n",
       "      <td>0</td>\n",
       "      <td>2</td>\n",
       "      <td>2</td>\n",
       "      <td>-2</td>\n",
       "      <td>-1</td>\n",
       "    </tr>\n",
       "    <tr>\n",
       "      <th>2</th>\n",
       "      <td>1438405307693027328</td>\n",
       "      <td>@mention Have you done any work to estimate th...</td>\n",
       "      <td>0</td>\n",
       "      <td>230</td>\n",
       "      <td>0</td>\n",
       "      <td>3</td>\n",
       "      <td>1</td>\n",
       "      <td>-1</td>\n",
       "      <td>0</td>\n",
       "    </tr>\n",
       "    <tr>\n",
       "      <th>3</th>\n",
       "      <td>1438405226801807364</td>\n",
       "      <td>📝We have examined the design, implementation a...</td>\n",
       "      <td>0</td>\n",
       "      <td>12992</td>\n",
       "      <td>0</td>\n",
       "      <td>5</td>\n",
       "      <td>2</td>\n",
       "      <td>-3</td>\n",
       "      <td>-1</td>\n",
       "    </tr>\n",
       "    <tr>\n",
       "      <th>4</th>\n",
       "      <td>1438405184544067589</td>\n",
       "      <td>first time trying out the #sarkargame. and, it...</td>\n",
       "      <td>0</td>\n",
       "      <td>197</td>\n",
       "      <td>0</td>\n",
       "      <td>6</td>\n",
       "      <td>2</td>\n",
       "      <td>-4</td>\n",
       "      <td>-1</td>\n",
       "    </tr>\n",
       "    <tr>\n",
       "      <th>...</th>\n",
       "      <td>...</td>\n",
       "      <td>...</td>\n",
       "      <td>...</td>\n",
       "      <td>...</td>\n",
       "      <td>...</td>\n",
       "      <td>...</td>\n",
       "      <td>...</td>\n",
       "      <td>...</td>\n",
       "      <td>...</td>\n",
       "    </tr>\n",
       "    <tr>\n",
       "      <th>60921</th>\n",
       "      <td>1436628090692808705</td>\n",
       "      <td>RT @mention Twenty years on from 9/11, and the...</td>\n",
       "      <td>11</td>\n",
       "      <td>2103</td>\n",
       "      <td>0</td>\n",
       "      <td>71530</td>\n",
       "      <td>1</td>\n",
       "      <td>-2</td>\n",
       "      <td>-1</td>\n",
       "    </tr>\n",
       "    <tr>\n",
       "      <th>60922</th>\n",
       "      <td>1436628088901840898</td>\n",
       "      <td>Despite the heavy surveillance of SAC forces i...</td>\n",
       "      <td>0</td>\n",
       "      <td>556</td>\n",
       "      <td>0</td>\n",
       "      <td>71531</td>\n",
       "      <td>1</td>\n",
       "      <td>-2</td>\n",
       "      <td>-1</td>\n",
       "    </tr>\n",
       "    <tr>\n",
       "      <th>60923</th>\n",
       "      <td>1436628042512695297</td>\n",
       "      <td>RT @mention More surveillance cameras going up...</td>\n",
       "      <td>4</td>\n",
       "      <td>8202</td>\n",
       "      <td>0</td>\n",
       "      <td>71532</td>\n",
       "      <td>1</td>\n",
       "      <td>-1</td>\n",
       "      <td>0</td>\n",
       "    </tr>\n",
       "    <tr>\n",
       "      <th>60924</th>\n",
       "      <td>1436627933167296513</td>\n",
       "      <td>RT @mention Holyyyyy shit. I can’t believe thi...</td>\n",
       "      <td>2072</td>\n",
       "      <td>103</td>\n",
       "      <td>0</td>\n",
       "      <td>71535</td>\n",
       "      <td>2</td>\n",
       "      <td>-2</td>\n",
       "      <td>-1</td>\n",
       "    </tr>\n",
       "    <tr>\n",
       "      <th>60925</th>\n",
       "      <td>1436627917321166852</td>\n",
       "      <td>RT @mention The camera issue is not a safeguar...</td>\n",
       "      <td>5</td>\n",
       "      <td>86502</td>\n",
       "      <td>0</td>\n",
       "      <td>71536</td>\n",
       "      <td>2</td>\n",
       "      <td>-2</td>\n",
       "      <td>-1</td>\n",
       "    </tr>\n",
       "  </tbody>\n",
       "</table>\n",
       "<p>60926 rows × 9 columns</p>\n",
       "</div>"
      ],
      "text/plain": [
       "                        id                                               text  \\\n",
       "0      1438405322603999239  RT @mention .@mention is trying to skirt human...   \n",
       "1      1438405320204853248  “conspiracy practices —the methods by which tr...   \n",
       "2      1438405307693027328  @mention Have you done any work to estimate th...   \n",
       "3      1438405226801807364  📝We have examined the design, implementation a...   \n",
       "4      1438405184544067589  first time trying out the #sarkargame. and, it...   \n",
       "...                    ...                                                ...   \n",
       "60921  1436628090692808705  RT @mention Twenty years on from 9/11, and the...   \n",
       "60922  1436628088901840898  Despite the heavy surveillance of SAC forces i...   \n",
       "60923  1436628042512695297  RT @mention More surveillance cameras going up...   \n",
       "60924  1436627933167296513  RT @mention Holyyyyy shit. I can’t believe thi...   \n",
       "60925  1436627917321166852  RT @mention The camera issue is not a safeguar...   \n",
       "\n",
       "       metric_retweet_count  metric_followers_count  metric_like_count  \\\n",
       "0                       118                      21                  0   \n",
       "1                         0                     879                  0   \n",
       "2                         0                     230                  0   \n",
       "3                         0                   12992                  0   \n",
       "4                         0                     197                  0   \n",
       "...                     ...                     ...                ...   \n",
       "60921                    11                    2103                  0   \n",
       "60922                     0                     556                  0   \n",
       "60923                     4                    8202                  0   \n",
       "60924                  2072                     103                  0   \n",
       "60925                     5                   86502                  0   \n",
       "\n",
       "      pseudID positive negative neutral  \n",
       "0           1        1       -1       0  \n",
       "1           2        2       -2      -1  \n",
       "2           3        1       -1       0  \n",
       "3           5        2       -3      -1  \n",
       "4           6        2       -4      -1  \n",
       "...       ...      ...      ...     ...  \n",
       "60921   71530        1       -2      -1  \n",
       "60922   71531        1       -2      -1  \n",
       "60923   71532        1       -1       0  \n",
       "60924   71535        2       -2      -1  \n",
       "60925   71536        2       -2      -1  \n",
       "\n",
       "[60926 rows x 9 columns]"
      ]
     },
     "execution_count": 30,
     "metadata": {},
     "output_type": "execute_result"
    }
   ],
   "source": [
    "df_min.merge(sentiment, on='id')"
   ]
  },
  {
   "cell_type": "code",
   "execution_count": 31,
   "metadata": {},
   "outputs": [
    {
     "data": {
      "text/plain": [
       "60926"
      ]
     },
     "execution_count": 31,
     "metadata": {},
     "output_type": "execute_result"
    }
   ],
   "source": [
    "len(df_min.merge(sentiment, on='id'))"
   ]
  },
  {
   "cell_type": "code",
   "execution_count": 32,
   "metadata": {},
   "outputs": [
    {
     "data": {
      "text/plain": [
       "71537"
      ]
     },
     "execution_count": 32,
     "metadata": {},
     "output_type": "execute_result"
    }
   ],
   "source": [
    "len(df_min.merge(sentiment, on='id', how='left'))"
   ]
  },
  {
   "cell_type": "code",
   "execution_count": 33,
   "metadata": {},
   "outputs": [
    {
     "data": {
      "text/plain": [
       "id                            0\n",
       "text                          0\n",
       "metric_retweet_count          0\n",
       "metric_followers_count        0\n",
       "metric_like_count             0\n",
       "pseudID                       0\n",
       "positive                  10611\n",
       "negative                  10611\n",
       "neutral                   10611\n",
       "dtype: int64"
      ]
     },
     "execution_count": 33,
     "metadata": {},
     "output_type": "execute_result"
    }
   ],
   "source": [
    "df_min.merge(sentiment, on='id', how='left').isna().sum()"
   ]
  },
  {
   "cell_type": "code",
   "execution_count": 34,
   "metadata": {},
   "outputs": [
    {
     "data": {
      "text/plain": [
       "60926"
      ]
     },
     "execution_count": 34,
     "metadata": {},
     "output_type": "execute_result"
    }
   ],
   "source": [
    "len(df_min.merge(sentiment, on='id', how='right'))"
   ]
  },
  {
   "cell_type": "code",
   "execution_count": 35,
   "metadata": {},
   "outputs": [
    {
     "data": {
      "text/plain": [
       "id                        0\n",
       "text                      0\n",
       "metric_retweet_count      0\n",
       "metric_followers_count    0\n",
       "metric_like_count         0\n",
       "pseudID                   0\n",
       "positive                  0\n",
       "negative                  0\n",
       "neutral                   0\n",
       "dtype: int64"
      ]
     },
     "execution_count": 35,
     "metadata": {},
     "output_type": "execute_result"
    }
   ],
   "source": [
    "df_min.merge(sentiment, on='id', how='right').isna().sum()"
   ]
  },
  {
   "cell_type": "code",
   "execution_count": 36,
   "metadata": {},
   "outputs": [
    {
     "data": {
      "text/plain": [
       "71537"
      ]
     },
     "execution_count": 36,
     "metadata": {},
     "output_type": "execute_result"
    }
   ],
   "source": [
    "len(df_min.merge(sentiment, on='id', how='outer'))"
   ]
  },
  {
   "cell_type": "code",
   "execution_count": 37,
   "metadata": {},
   "outputs": [
    {
     "data": {
      "text/plain": [
       "id                            0\n",
       "text                          0\n",
       "metric_retweet_count          0\n",
       "metric_followers_count        0\n",
       "metric_like_count             0\n",
       "pseudID                       0\n",
       "positive                  10611\n",
       "negative                  10611\n",
       "neutral                   10611\n",
       "dtype: int64"
      ]
     },
     "execution_count": 37,
     "metadata": {},
     "output_type": "execute_result"
    }
   ],
   "source": [
    "df_min.merge(sentiment, on='id', how='outer').isna().sum()"
   ]
  },
  {
   "cell_type": "code",
   "execution_count": 38,
   "metadata": {},
   "outputs": [
    {
     "data": {
      "text/plain": [
       "60926"
      ]
     },
     "execution_count": 38,
     "metadata": {},
     "output_type": "execute_result"
    }
   ],
   "source": [
    "len(df_min.merge(sentiment, on='id', how='inner'))"
   ]
  },
  {
   "cell_type": "code",
   "execution_count": 39,
   "metadata": {},
   "outputs": [],
   "source": [
    "df_merged = df_min.merge(sentiment, on='id', how='inner')"
   ]
  },
  {
   "cell_type": "markdown",
   "metadata": {},
   "source": [
    "## Challenge 3\n",
    "\n",
    "The sentiment analysis results has three interesting columns: ```neutral```,  ```positive```, and ```negative```. It is coming from the SentiStrength (http://sentistrength.wlv.ac.uk/) algorithm, trinary version.\n",
    "\n",
    "### Programming challenge\n",
    "\n",
    "1. Create one variable that summarizes the sentiment (i.e., that somehow aggregates the information of it being positive or negative - or potentially neutral - into one single variable)\n",
    "2. Describe the sentiment of your tweets (mean, SD, mode - select metrics that make sense depending on how you created the sentiment variable).\n",
    "3. Create a new dataframe taking a random sample of 15 tweets from your dataset. \n",
    "\n",
    "*Tip1: Pandas makes it easy to run numerical operations across columns. Let's say that I want to multiply the value that is in column A by the value that is in column B and store it in column C... I can simply use:*\n",
    "```df['C'] = df['A'] * df['B']```\n",
    "\n",
    "*Tip2: Use ```df.sample``` that we learned in the last tutorial to take a random sample of your tweets.*\n",
    "\n",
    "### Reflection\n",
    "In this challenge you were asked to assess on reliability of sentiment analysis. For the reflection, we would like to ask you to reflect on the implication of large-scale usage of sentiment analysis. What does the reliability mean for automated decision made based on sentiment analysis of different digital traces? What challanges and threats can you identify?\n",
    "\n",
    "\n"
   ]
  },
  {
   "cell_type": "markdown",
   "metadata": {},
   "source": [
    "### Creating sentiment variable"
   ]
  },
  {
   "cell_type": "code",
   "execution_count": 40,
   "metadata": {},
   "outputs": [
    {
     "data": {
      "text/plain": [
       "id                         int64\n",
       "text                      object\n",
       "metric_retweet_count       int64\n",
       "metric_followers_count     int64\n",
       "metric_like_count          int64\n",
       "pseudID                   object\n",
       "positive                  object\n",
       "negative                  object\n",
       "neutral                   object\n",
       "dtype: object"
      ]
     },
     "execution_count": 40,
     "metadata": {},
     "output_type": "execute_result"
    }
   ],
   "source": [
    "df_merged.dtypes"
   ]
  },
  {
   "cell_type": "code",
   "execution_count": 41,
   "metadata": {},
   "outputs": [],
   "source": [
    "df_merged['positive'] = df_merged['positive'].apply(pd.to_numeric)"
   ]
  },
  {
   "cell_type": "code",
   "execution_count": 42,
   "metadata": {},
   "outputs": [],
   "source": [
    "df_merged['negative'] = df_merged['negative'].apply(pd.to_numeric)"
   ]
  },
  {
   "cell_type": "code",
   "execution_count": 43,
   "metadata": {},
   "outputs": [
    {
     "data": {
      "text/plain": [
       "id                         int64\n",
       "text                      object\n",
       "metric_retweet_count       int64\n",
       "metric_followers_count     int64\n",
       "metric_like_count          int64\n",
       "pseudID                   object\n",
       "positive                   int64\n",
       "negative                   int64\n",
       "neutral                   object\n",
       "dtype: object"
      ]
     },
     "execution_count": 43,
     "metadata": {},
     "output_type": "execute_result"
    }
   ],
   "source": [
    "df_merged.dtypes"
   ]
  },
  {
   "cell_type": "code",
   "execution_count": 44,
   "metadata": {},
   "outputs": [],
   "source": [
    "df_merged['overall_sent'] = df_merged['negative'] + df_merged['positive']"
   ]
  },
  {
   "cell_type": "code",
   "execution_count": 45,
   "metadata": {},
   "outputs": [
    {
     "data": {
      "text/html": [
       "<div>\n",
       "<style scoped>\n",
       "    .dataframe tbody tr th:only-of-type {\n",
       "        vertical-align: middle;\n",
       "    }\n",
       "\n",
       "    .dataframe tbody tr th {\n",
       "        vertical-align: top;\n",
       "    }\n",
       "\n",
       "    .dataframe thead th {\n",
       "        text-align: right;\n",
       "    }\n",
       "</style>\n",
       "<table border=\"1\" class=\"dataframe\">\n",
       "  <thead>\n",
       "    <tr style=\"text-align: right;\">\n",
       "      <th></th>\n",
       "      <th>id</th>\n",
       "      <th>text</th>\n",
       "      <th>metric_retweet_count</th>\n",
       "      <th>metric_followers_count</th>\n",
       "      <th>metric_like_count</th>\n",
       "      <th>pseudID</th>\n",
       "      <th>positive</th>\n",
       "      <th>negative</th>\n",
       "      <th>neutral</th>\n",
       "      <th>overall_sent</th>\n",
       "    </tr>\n",
       "  </thead>\n",
       "  <tbody>\n",
       "    <tr>\n",
       "      <th>0</th>\n",
       "      <td>1438405322603999239</td>\n",
       "      <td>RT @mention .@mention is trying to skirt human...</td>\n",
       "      <td>118</td>\n",
       "      <td>21</td>\n",
       "      <td>0</td>\n",
       "      <td>1</td>\n",
       "      <td>1</td>\n",
       "      <td>-1</td>\n",
       "      <td>0</td>\n",
       "      <td>0</td>\n",
       "    </tr>\n",
       "    <tr>\n",
       "      <th>1</th>\n",
       "      <td>1438405320204853248</td>\n",
       "      <td>“conspiracy practices —the methods by which tr...</td>\n",
       "      <td>0</td>\n",
       "      <td>879</td>\n",
       "      <td>0</td>\n",
       "      <td>2</td>\n",
       "      <td>2</td>\n",
       "      <td>-2</td>\n",
       "      <td>-1</td>\n",
       "      <td>0</td>\n",
       "    </tr>\n",
       "    <tr>\n",
       "      <th>2</th>\n",
       "      <td>1438405307693027328</td>\n",
       "      <td>@mention Have you done any work to estimate th...</td>\n",
       "      <td>0</td>\n",
       "      <td>230</td>\n",
       "      <td>0</td>\n",
       "      <td>3</td>\n",
       "      <td>1</td>\n",
       "      <td>-1</td>\n",
       "      <td>0</td>\n",
       "      <td>0</td>\n",
       "    </tr>\n",
       "    <tr>\n",
       "      <th>3</th>\n",
       "      <td>1438405226801807364</td>\n",
       "      <td>📝We have examined the design, implementation a...</td>\n",
       "      <td>0</td>\n",
       "      <td>12992</td>\n",
       "      <td>0</td>\n",
       "      <td>5</td>\n",
       "      <td>2</td>\n",
       "      <td>-3</td>\n",
       "      <td>-1</td>\n",
       "      <td>-1</td>\n",
       "    </tr>\n",
       "    <tr>\n",
       "      <th>4</th>\n",
       "      <td>1438405184544067589</td>\n",
       "      <td>first time trying out the #sarkargame. and, it...</td>\n",
       "      <td>0</td>\n",
       "      <td>197</td>\n",
       "      <td>0</td>\n",
       "      <td>6</td>\n",
       "      <td>2</td>\n",
       "      <td>-4</td>\n",
       "      <td>-1</td>\n",
       "      <td>-2</td>\n",
       "    </tr>\n",
       "  </tbody>\n",
       "</table>\n",
       "</div>"
      ],
      "text/plain": [
       "                    id                                               text  \\\n",
       "0  1438405322603999239  RT @mention .@mention is trying to skirt human...   \n",
       "1  1438405320204853248  “conspiracy practices —the methods by which tr...   \n",
       "2  1438405307693027328  @mention Have you done any work to estimate th...   \n",
       "3  1438405226801807364  📝We have examined the design, implementation a...   \n",
       "4  1438405184544067589  first time trying out the #sarkargame. and, it...   \n",
       "\n",
       "   metric_retweet_count  metric_followers_count  metric_like_count pseudID  \\\n",
       "0                   118                      21                  0       1   \n",
       "1                     0                     879                  0       2   \n",
       "2                     0                     230                  0       3   \n",
       "3                     0                   12992                  0       5   \n",
       "4                     0                     197                  0       6   \n",
       "\n",
       "   positive  negative neutral  overall_sent  \n",
       "0         1        -1       0             0  \n",
       "1         2        -2      -1             0  \n",
       "2         1        -1       0             0  \n",
       "3         2        -3      -1            -1  \n",
       "4         2        -4      -1            -2  "
      ]
     },
     "execution_count": 45,
     "metadata": {},
     "output_type": "execute_result"
    }
   ],
   "source": [
    "df_merged.head()"
   ]
  },
  {
   "cell_type": "code",
   "execution_count": 46,
   "metadata": {},
   "outputs": [
    {
     "data": {
      "text/plain": [
       "count    60926.000000\n",
       "mean        -0.536027\n",
       "std          1.149694\n",
       "min         -4.000000\n",
       "25%         -1.000000\n",
       "50%          0.000000\n",
       "75%          0.000000\n",
       "max          4.000000\n",
       "Name: overall_sent, dtype: float64"
      ]
     },
     "execution_count": 46,
     "metadata": {},
     "output_type": "execute_result"
    }
   ],
   "source": [
    "df_merged['overall_sent'].describe()"
   ]
  },
  {
   "cell_type": "code",
   "execution_count": 47,
   "metadata": {},
   "outputs": [],
   "source": [
    "df_sample_sent = df_merged.sample(15)"
   ]
  },
  {
   "cell_type": "code",
   "execution_count": 48,
   "metadata": {},
   "outputs": [
    {
     "data": {
      "text/html": [
       "<div>\n",
       "<style scoped>\n",
       "    .dataframe tbody tr th:only-of-type {\n",
       "        vertical-align: middle;\n",
       "    }\n",
       "\n",
       "    .dataframe tbody tr th {\n",
       "        vertical-align: top;\n",
       "    }\n",
       "\n",
       "    .dataframe thead th {\n",
       "        text-align: right;\n",
       "    }\n",
       "</style>\n",
       "<table border=\"1\" class=\"dataframe\">\n",
       "  <thead>\n",
       "    <tr style=\"text-align: right;\">\n",
       "      <th></th>\n",
       "      <th>id</th>\n",
       "      <th>text</th>\n",
       "      <th>metric_retweet_count</th>\n",
       "      <th>metric_followers_count</th>\n",
       "      <th>metric_like_count</th>\n",
       "      <th>pseudID</th>\n",
       "      <th>positive</th>\n",
       "      <th>negative</th>\n",
       "      <th>neutral</th>\n",
       "      <th>overall_sent</th>\n",
       "    </tr>\n",
       "  </thead>\n",
       "  <tbody>\n",
       "    <tr>\n",
       "      <th>5809</th>\n",
       "      <td>1438214311223218181</td>\n",
       "      <td>@mention Erm....empty them......then save the ...</td>\n",
       "      <td>0</td>\n",
       "      <td>182</td>\n",
       "      <td>0</td>\n",
       "      <td>6362</td>\n",
       "      <td>3</td>\n",
       "      <td>-2</td>\n",
       "      <td>1</td>\n",
       "      <td>1</td>\n",
       "    </tr>\n",
       "    <tr>\n",
       "      <th>52571</th>\n",
       "      <td>1436785704290357251</td>\n",
       "      <td>RT @mention Holyyyyy shit. I can’t believe thi...</td>\n",
       "      <td>2072</td>\n",
       "      <td>142</td>\n",
       "      <td>0</td>\n",
       "      <td>62243</td>\n",
       "      <td>2</td>\n",
       "      <td>-2</td>\n",
       "      <td>-1</td>\n",
       "      <td>0</td>\n",
       "    </tr>\n",
       "    <tr>\n",
       "      <th>3577</th>\n",
       "      <td>1438277219219017729</td>\n",
       "      <td>@mention @mention @mention @mention @mention I...</td>\n",
       "      <td>0</td>\n",
       "      <td>38</td>\n",
       "      <td>1</td>\n",
       "      <td>3898</td>\n",
       "      <td>2</td>\n",
       "      <td>-2</td>\n",
       "      <td>-1</td>\n",
       "      <td>0</td>\n",
       "    </tr>\n",
       "    <tr>\n",
       "      <th>40795</th>\n",
       "      <td>1437176415770775557</td>\n",
       "      <td>RT @mention #UPDATE The head of the UN's nucle...</td>\n",
       "      <td>32</td>\n",
       "      <td>240</td>\n",
       "      <td>0</td>\n",
       "      <td>21915</td>\n",
       "      <td>1</td>\n",
       "      <td>-2</td>\n",
       "      <td>-1</td>\n",
       "      <td>-1</td>\n",
       "    </tr>\n",
       "    <tr>\n",
       "      <th>51241</th>\n",
       "      <td>1436815332342124546</td>\n",
       "      <td>RT @mention George W. Bush, the man who brough...</td>\n",
       "      <td>1232</td>\n",
       "      <td>107</td>\n",
       "      <td>0</td>\n",
       "      <td>60802</td>\n",
       "      <td>1</td>\n",
       "      <td>-4</td>\n",
       "      <td>-1</td>\n",
       "      <td>-3</td>\n",
       "    </tr>\n",
       "    <tr>\n",
       "      <th>34541</th>\n",
       "      <td>1437434706186883085</td>\n",
       "      <td>RT @mention dear @mention - stocks are moved b...</td>\n",
       "      <td>67</td>\n",
       "      <td>122</td>\n",
       "      <td>0</td>\n",
       "      <td>39899</td>\n",
       "      <td>2</td>\n",
       "      <td>-1</td>\n",
       "      <td>1</td>\n",
       "      <td>1</td>\n",
       "    </tr>\n",
       "    <tr>\n",
       "      <th>15203</th>\n",
       "      <td>1437937575126253572</td>\n",
       "      <td>RT @mention Activision Blizzard workers are su...</td>\n",
       "      <td>395</td>\n",
       "      <td>31</td>\n",
       "      <td>0</td>\n",
       "      <td>17069</td>\n",
       "      <td>1</td>\n",
       "      <td>-3</td>\n",
       "      <td>-1</td>\n",
       "      <td>-2</td>\n",
       "    </tr>\n",
       "    <tr>\n",
       "      <th>28387</th>\n",
       "      <td>1437568645258006533</td>\n",
       "      <td>RT @mention Of course, the answer to the incre...</td>\n",
       "      <td>1</td>\n",
       "      <td>11</td>\n",
       "      <td>0</td>\n",
       "      <td>32088</td>\n",
       "      <td>1</td>\n",
       "      <td>-2</td>\n",
       "      <td>-1</td>\n",
       "      <td>-1</td>\n",
       "    </tr>\n",
       "    <tr>\n",
       "      <th>46131</th>\n",
       "      <td>1437007661351018496</td>\n",
       "      <td>RT @mention As a police officer when undertaki...</td>\n",
       "      <td>339</td>\n",
       "      <td>508</td>\n",
       "      <td>0</td>\n",
       "      <td>55190</td>\n",
       "      <td>1</td>\n",
       "      <td>-1</td>\n",
       "      <td>0</td>\n",
       "      <td>0</td>\n",
       "    </tr>\n",
       "    <tr>\n",
       "      <th>1359</th>\n",
       "      <td>1438350143934418945</td>\n",
       "      <td>RT @mention Woman struck by a stray bullet whi...</td>\n",
       "      <td>10</td>\n",
       "      <td>45</td>\n",
       "      <td>0</td>\n",
       "      <td>1549</td>\n",
       "      <td>1</td>\n",
       "      <td>-2</td>\n",
       "      <td>-1</td>\n",
       "      <td>-1</td>\n",
       "    </tr>\n",
       "    <tr>\n",
       "      <th>34502</th>\n",
       "      <td>1437435596956336134</td>\n",
       "      <td>RT @mention dear @mention - stocks are moved b...</td>\n",
       "      <td>67</td>\n",
       "      <td>134</td>\n",
       "      <td>0</td>\n",
       "      <td>39844</td>\n",
       "      <td>2</td>\n",
       "      <td>-1</td>\n",
       "      <td>1</td>\n",
       "      <td>1</td>\n",
       "    </tr>\n",
       "    <tr>\n",
       "      <th>60310</th>\n",
       "      <td>1436651382371663873</td>\n",
       "      <td>RT @mention The real political divisions today...</td>\n",
       "      <td>518</td>\n",
       "      <td>247</td>\n",
       "      <td>0</td>\n",
       "      <td>70741</td>\n",
       "      <td>1</td>\n",
       "      <td>-1</td>\n",
       "      <td>0</td>\n",
       "      <td>0</td>\n",
       "    </tr>\n",
       "    <tr>\n",
       "      <th>17254</th>\n",
       "      <td>1437867707945324544</td>\n",
       "      <td>RT @mention See govt's response to intel that ...</td>\n",
       "      <td>29</td>\n",
       "      <td>347</td>\n",
       "      <td>0</td>\n",
       "      <td>7200</td>\n",
       "      <td>1</td>\n",
       "      <td>-1</td>\n",
       "      <td>0</td>\n",
       "      <td>0</td>\n",
       "    </tr>\n",
       "    <tr>\n",
       "      <th>19406</th>\n",
       "      <td>1437812441371578380</td>\n",
       "      <td>RT @mention Today Uganda, France and the Unite...</td>\n",
       "      <td>93</td>\n",
       "      <td>54520</td>\n",
       "      <td>0</td>\n",
       "      <td>21890</td>\n",
       "      <td>2</td>\n",
       "      <td>-1</td>\n",
       "      <td>1</td>\n",
       "      <td>1</td>\n",
       "    </tr>\n",
       "    <tr>\n",
       "      <th>11886</th>\n",
       "      <td>1438075265448615936</td>\n",
       "      <td>Basically, deaths amongst the poor are less li...</td>\n",
       "      <td>1</td>\n",
       "      <td>5713</td>\n",
       "      <td>8</td>\n",
       "      <td>13156</td>\n",
       "      <td>1</td>\n",
       "      <td>-3</td>\n",
       "      <td>-1</td>\n",
       "      <td>-2</td>\n",
       "    </tr>\n",
       "  </tbody>\n",
       "</table>\n",
       "</div>"
      ],
      "text/plain": [
       "                        id                                               text  \\\n",
       "5809   1438214311223218181  @mention Erm....empty them......then save the ...   \n",
       "52571  1436785704290357251  RT @mention Holyyyyy shit. I can’t believe thi...   \n",
       "3577   1438277219219017729  @mention @mention @mention @mention @mention I...   \n",
       "40795  1437176415770775557  RT @mention #UPDATE The head of the UN's nucle...   \n",
       "51241  1436815332342124546  RT @mention George W. Bush, the man who brough...   \n",
       "34541  1437434706186883085  RT @mention dear @mention - stocks are moved b...   \n",
       "15203  1437937575126253572  RT @mention Activision Blizzard workers are su...   \n",
       "28387  1437568645258006533  RT @mention Of course, the answer to the incre...   \n",
       "46131  1437007661351018496  RT @mention As a police officer when undertaki...   \n",
       "1359   1438350143934418945  RT @mention Woman struck by a stray bullet whi...   \n",
       "34502  1437435596956336134  RT @mention dear @mention - stocks are moved b...   \n",
       "60310  1436651382371663873  RT @mention The real political divisions today...   \n",
       "17254  1437867707945324544  RT @mention See govt's response to intel that ...   \n",
       "19406  1437812441371578380  RT @mention Today Uganda, France and the Unite...   \n",
       "11886  1438075265448615936  Basically, deaths amongst the poor are less li...   \n",
       "\n",
       "       metric_retweet_count  metric_followers_count  metric_like_count  \\\n",
       "5809                      0                     182                  0   \n",
       "52571                  2072                     142                  0   \n",
       "3577                      0                      38                  1   \n",
       "40795                    32                     240                  0   \n",
       "51241                  1232                     107                  0   \n",
       "34541                    67                     122                  0   \n",
       "15203                   395                      31                  0   \n",
       "28387                     1                      11                  0   \n",
       "46131                   339                     508                  0   \n",
       "1359                     10                      45                  0   \n",
       "34502                    67                     134                  0   \n",
       "60310                   518                     247                  0   \n",
       "17254                    29                     347                  0   \n",
       "19406                    93                   54520                  0   \n",
       "11886                     1                    5713                  8   \n",
       "\n",
       "      pseudID  positive  negative neutral  overall_sent  \n",
       "5809     6362         3        -2       1             1  \n",
       "52571   62243         2        -2      -1             0  \n",
       "3577     3898         2        -2      -1             0  \n",
       "40795   21915         1        -2      -1            -1  \n",
       "51241   60802         1        -4      -1            -3  \n",
       "34541   39899         2        -1       1             1  \n",
       "15203   17069         1        -3      -1            -2  \n",
       "28387   32088         1        -2      -1            -1  \n",
       "46131   55190         1        -1       0             0  \n",
       "1359     1549         1        -2      -1            -1  \n",
       "34502   39844         2        -1       1             1  \n",
       "60310   70741         1        -1       0             0  \n",
       "17254    7200         1        -1       0             0  \n",
       "19406   21890         2        -1       1             1  \n",
       "11886   13156         1        -3      -1            -2  "
      ]
     },
     "execution_count": 48,
     "metadata": {},
     "output_type": "execute_result"
    }
   ],
   "source": [
    "df_sample_sent"
   ]
  },
  {
   "cell_type": "code",
   "execution_count": 49,
   "metadata": {},
   "outputs": [],
   "source": [
    "pd.set_option('display.max_colwidth', None)"
   ]
  },
  {
   "cell_type": "code",
   "execution_count": 51,
   "metadata": {},
   "outputs": [
    {
     "data": {
      "text/html": [
       "<div>\n",
       "<style scoped>\n",
       "    .dataframe tbody tr th:only-of-type {\n",
       "        vertical-align: middle;\n",
       "    }\n",
       "\n",
       "    .dataframe tbody tr th {\n",
       "        vertical-align: top;\n",
       "    }\n",
       "\n",
       "    .dataframe thead th {\n",
       "        text-align: right;\n",
       "    }\n",
       "</style>\n",
       "<table border=\"1\" class=\"dataframe\">\n",
       "  <thead>\n",
       "    <tr style=\"text-align: right;\">\n",
       "      <th></th>\n",
       "      <th>text</th>\n",
       "      <th>overall_sent</th>\n",
       "    </tr>\n",
       "  </thead>\n",
       "  <tbody>\n",
       "    <tr>\n",
       "      <th>5809</th>\n",
       "      <td>@mention Erm....empty them......then save the bloody money spent on QR code surveillance!</td>\n",
       "      <td>1</td>\n",
       "    </tr>\n",
       "    <tr>\n",
       "      <th>52571</th>\n",
       "      <td>RT @mention Holyyyyy shit. I can’t believe this is a thing (a mouse over a watch face to keep from going into “away” status in Teams). T…</td>\n",
       "      <td>0</td>\n",
       "    </tr>\n",
       "    <tr>\n",
       "      <th>3577</th>\n",
       "      <td>@mention @mention @mention @mention @mention Im genuinely curious how you think that works. The only way you could think there is a causality from crime to police interaction and not the other way around is if a) whenever a crime is committed police just materialises or b) we are all under perfect surveillance at all time</td>\n",
       "      <td>0</td>\n",
       "    </tr>\n",
       "    <tr>\n",
       "      <th>40795</th>\n",
       "      <td>RT @mention #UPDATE The head of the UN's nuclear watchdog hailed a deal struck with Iran over access to surveillance equipment at Iranian nucl…</td>\n",
       "      <td>-1</td>\n",
       "    </tr>\n",
       "    <tr>\n",
       "      <th>51241</th>\n",
       "      <td>RT @mention George W. Bush, the man who brought us torture, indefinite detention, assassination, and mass surveillance, rebukes those who’…</td>\n",
       "      <td>-3</td>\n",
       "    </tr>\n",
       "    <tr>\n",
       "      <th>34541</th>\n",
       "      <td>RT @mention dear @mention - stocks are moved back to ASM 4 in a day...can't find the circular on nse notices. can u plz explain t…</td>\n",
       "      <td>1</td>\n",
       "    </tr>\n",
       "    <tr>\n",
       "      <th>15203</th>\n",
       "      <td>RT @mention Activision Blizzard workers are suing, saying the company is using coercive tactics to stop them from unionizing — incl. intimi…</td>\n",
       "      <td>-2</td>\n",
       "    </tr>\n",
       "    <tr>\n",
       "      <th>28387</th>\n",
       "      <td>RT @mention Of course, the answer to the increasing intrusion of the mass surveillance state into every aspect of our lives is to give i…</td>\n",
       "      <td>-1</td>\n",
       "    </tr>\n",
       "    <tr>\n",
       "      <th>46131</th>\n",
       "      <td>RT @mention As a police officer when undertaking surveillance,  it required 6 cars and 12 men. We did this for drug dealers and ot…</td>\n",
       "      <td>0</td>\n",
       "    </tr>\n",
       "    <tr>\n",
       "      <th>1359</th>\n",
       "      <td>RT @mention Woman struck by a stray bullet while inside of her residence last night on the 2300 block of 16th St SE. She was taken t…</td>\n",
       "      <td>-1</td>\n",
       "    </tr>\n",
       "    <tr>\n",
       "      <th>34502</th>\n",
       "      <td>RT @mention dear @mention - stocks are moved back to ASM 4 in a day...can't find the circular on nse notices. can u plz explain t…</td>\n",
       "      <td>1</td>\n",
       "    </tr>\n",
       "    <tr>\n",
       "      <th>60310</th>\n",
       "      <td>RT @mention The real political divisions today are no longer left/right, liberal/conservative, progressive/traditionalist, or even Democ…</td>\n",
       "      <td>0</td>\n",
       "    </tr>\n",
       "    <tr>\n",
       "      <th>17254</th>\n",
       "      <td>RT @mention See govt's response to intel that BHT plan on moving from the NE to Kaduna State: \"You are hereby directed to step up surve…</td>\n",
       "      <td>0</td>\n",
       "    </tr>\n",
       "    <tr>\n",
       "      <th>19406</th>\n",
       "      <td>RT @mention Today Uganda, France and the United Nations signed an agreement to support the UN Academy for Peace operations based at…</td>\n",
       "      <td>1</td>\n",
       "    </tr>\n",
       "    <tr>\n",
       "      <th>11886</th>\n",
       "      <td>Basically, deaths amongst the poor are less likely to be counted as COVID deaths. Still, various \"theories\" arose to explain supposedly low mortality in poor countries. A lot of bad science, ignoring variations in surveillance and forgetting that correlation is not causation.</td>\n",
       "      <td>-2</td>\n",
       "    </tr>\n",
       "  </tbody>\n",
       "</table>\n",
       "</div>"
      ],
      "text/plain": [
       "                                                                                                                                                                                                                                                                                                                                      text  \\\n",
       "5809                                                                                                                                                                                                                                             @mention Erm....empty them......then save the bloody money spent on QR code surveillance!   \n",
       "52571                                                                                                                                                                                            RT @mention Holyyyyy shit. I can’t believe this is a thing (a mouse over a watch face to keep from going into “away” status in Teams). T…   \n",
       "3577   @mention @mention @mention @mention @mention Im genuinely curious how you think that works. The only way you could think there is a causality from crime to police interaction and not the other way around is if a) whenever a crime is committed police just materialises or b) we are all under perfect surveillance at all time   \n",
       "40795                                                                                                                                                                                      RT @mention #UPDATE The head of the UN's nuclear watchdog hailed a deal struck with Iran over access to surveillance equipment at Iranian nucl…   \n",
       "51241                                                                                                                                                                                          RT @mention George W. Bush, the man who brought us torture, indefinite detention, assassination, and mass surveillance, rebukes those who’…   \n",
       "34541                                                                                                                                                                                                   RT @mention dear @mention - stocks are moved back to ASM 4 in a day...can't find the circular on nse notices. can u plz explain t…   \n",
       "15203                                                                                                                                                                                         RT @mention Activision Blizzard workers are suing, saying the company is using coercive tactics to stop them from unionizing — incl. intimi…   \n",
       "28387                                                                                                                                                                                            RT @mention Of course, the answer to the increasing intrusion of the mass surveillance state into every aspect of our lives is to give i…   \n",
       "46131                                                                                                                                                                                                  RT @mention As a police officer when undertaking surveillance,  it required 6 cars and 12 men. We did this for drug dealers and ot…   \n",
       "1359                                                                                                                                                                                                 RT @mention Woman struck by a stray bullet while inside of her residence last night on the 2300 block of 16th St SE. She was taken t…   \n",
       "34502                                                                                                                                                                                                   RT @mention dear @mention - stocks are moved back to ASM 4 in a day...can't find the circular on nse notices. can u plz explain t…   \n",
       "60310                                                                                                                                                                                            RT @mention The real political divisions today are no longer left/right, liberal/conservative, progressive/traditionalist, or even Democ…   \n",
       "17254                                                                                                                                                                                             RT @mention See govt's response to intel that BHT plan on moving from the NE to Kaduna State: \"You are hereby directed to step up surve…   \n",
       "19406                                                                                                                                                                                                 RT @mention Today Uganda, France and the United Nations signed an agreement to support the UN Academy for Peace operations based at…   \n",
       "11886                                                 Basically, deaths amongst the poor are less likely to be counted as COVID deaths. Still, various \"theories\" arose to explain supposedly low mortality in poor countries. A lot of bad science, ignoring variations in surveillance and forgetting that correlation is not causation.   \n",
       "\n",
       "       overall_sent  \n",
       "5809              1  \n",
       "52571             0  \n",
       "3577              0  \n",
       "40795            -1  \n",
       "51241            -3  \n",
       "34541             1  \n",
       "15203            -2  \n",
       "28387            -1  \n",
       "46131             0  \n",
       "1359             -1  \n",
       "34502             1  \n",
       "60310             0  \n",
       "17254             0  \n",
       "19406             1  \n",
       "11886            -2  "
      ]
     },
     "execution_count": 51,
     "metadata": {},
     "output_type": "execute_result"
    }
   ],
   "source": [
    "df_sample_sent[['text', 'overall_sent']]"
   ]
  },
  {
   "cell_type": "code",
   "execution_count": 53,
   "metadata": {},
   "outputs": [
    {
     "data": {
      "text/plain": [
       "'RT @mention Holyyyyy shit. I can’t believe this is a thing (a mouse over a watch face to keep from going into “away” status in Teams). T…'"
      ]
     },
     "execution_count": 53,
     "metadata": {},
     "output_type": "execute_result"
    }
   ],
   "source": [
    "df_sample_sent['text'][52571]"
   ]
  },
  {
   "cell_type": "code",
   "execution_count": null,
   "metadata": {},
   "outputs": [],
   "source": []
  },
  {
   "cell_type": "code",
   "execution_count": null,
   "metadata": {},
   "outputs": [],
   "source": []
  },
  {
   "cell_type": "code",
   "execution_count": null,
   "metadata": {},
   "outputs": [],
   "source": []
  },
  {
   "cell_type": "code",
   "execution_count": null,
   "metadata": {},
   "outputs": [],
   "source": []
  }
 ],
 "metadata": {
  "interpreter": {
   "hash": "aee8b7b246df8f9039afb4144a1f6fd8d2ca17a180786b69acc140d282b71a49"
  },
  "kernelspec": {
   "display_name": "Python 3 (ipykernel)",
   "language": "python",
   "name": "python3"
  },
  "language_info": {
   "codemirror_mode": {
    "name": "ipython",
    "version": 3
   },
   "file_extension": ".py",
   "mimetype": "text/x-python",
   "name": "python",
   "nbconvert_exporter": "python",
   "pygments_lexer": "ipython3",
   "version": "3.10.9"
  }
 },
 "nbformat": 4,
 "nbformat_minor": 4
}
